{
 "cells": [
  {
   "cell_type": "code",
   "execution_count": 1,
   "id": "7d92b965",
   "metadata": {},
   "outputs": [
    {
     "name": "stdout",
     "output_type": "stream",
     "text": [
      "ankul\n"
     ]
    }
   ],
   "source": []
  },
  {
   "cell_type": "code",
   "execution_count": null,
   "id": "a8280739",
   "metadata": {},
   "outputs": [],
   "source": []
  },
  {
   "cell_type": "code",
   "execution_count": null,
   "id": "d30cf758",
   "metadata": {},
   "outputs": [],
   "source": []
  },
  {
   "cell_type": "code",
   "execution_count": 6,
   "id": "0b56cd51",
   "metadata": {},
   "outputs": [
    {
     "name": "stdout",
     "output_type": "stream",
     "text": [
      "3\n"
     ]
    }
   ],
   "source": [
    "def quilibrium(arr):\n",
    "    leftsum=0\n",
    "    rightsum=0\n",
    "    n=len(arr)\n",
    "    \n",
    "    \n",
    "    for i in range(n):\n",
    "        leftsum=0\n",
    "        rightsum=0\n",
    "        \n",
    "        \n",
    "        for j in range(i):\n",
    "            leftsum+=arr[j]\n",
    "            \n",
    "        for j in range(i+1,n):\n",
    "            rightsum+=arr[j]\n",
    "            \n",
    "            \n",
    "        if leftsum ==rightsum:\n",
    "            return i\n",
    "        \n",
    "    return -1\n",
    "if __name__ == \"__main__\":\n",
    "    arr = [-7, 1, 5, 2, -4, 3, 0]\n",
    " \n",
    "    # Function call\n",
    "    print(quilibrium(arr))    "
   ]
  },
  {
   "cell_type": "code",
   "execution_count": 9,
   "id": "ff70f5fc",
   "metadata": {},
   "outputs": [
    {
     "name": "stdout",
     "output_type": "stream",
     "text": [
      "First equilibrium index is  6\n"
     ]
    }
   ],
   "source": [
    "def equilibrium(arr):\n",
    "    left_sum=[]\n",
    "    right_sum=[]\n",
    "    \n",
    "    for i in range(len(arr)):\n",
    "        if():\n",
    "            left_sum.append(left_sum[i-1]+arr[i])\n",
    "            right_sum.append(right_sum[i-1]+arr[len(arr)-1-i])\n",
    "        else:\n",
    "            left_sum.append(arr[i])\n",
    "            right_sum.append(arr[len(arr)-1])\n",
    "            \n",
    "            \n",
    "    for i in range(len(arr)):\n",
    "        if(left_sum[i]==right_sum[len(arr)-1-i]):\n",
    "            return(i)\n",
    "    return -1\n",
    "\n",
    "# Driver code\n",
    "if __name__ == \"__main__\":\n",
    "    arr = [-7, 1, 5, 2, -4, 3, 0]\n",
    " \n",
    "    # Function call\n",
    "    print('First equilibrium index is ',\n",
    "          equilibrium(arr))"
   ]
  },
  {
   "cell_type": "code",
   "execution_count": 13,
   "id": "92b56878",
   "metadata": {},
   "outputs": [
    {
     "name": "stdout",
     "output_type": "stream",
     "text": [
      "True\n"
     ]
    }
   ],
   "source": [
    "from typing import List \n",
    "def isPairSum(A:List[int],N:int,X:int)->bool:\n",
    "    i=0\n",
    "    j=N-1\n",
    "    \n",
    "    \n",
    "    while i<j:\n",
    "        if A[i]+A[j]==X:\n",
    "            return True\n",
    "        \n",
    "        elif A[i]+A[j]<X:\n",
    "            i+=1\n",
    "            \n",
    "        else:\n",
    "            j-=1\n",
    "            \n",
    "    return False\n",
    "\n",
    "if __name__==\"__main__\":\n",
    "    arr=[2,3,5,8,9,10]\n",
    "    \n",
    "    val=17\n",
    "    \n",
    "    arrSize=len(arr)\n",
    "    \n",
    "    arr.sort()\n",
    "    \n",
    "    print(isPairSum(arr,arrSize,val))"
   ]
  },
  {
   "cell_type": "code",
   "execution_count": 9,
   "id": "493465a0",
   "metadata": {},
   "outputs": [
    {
     "name": "stdout",
     "output_type": "stream",
     "text": [
      "Original list:\n",
      "[10, 20, 30, 40, 50, 60, 70, 80]\n",
      "Reverse elements of the said between index position 2 and 4 :\n",
      "[10, 20, 50, 40, 30, 60, 70, 80]\n"
     ]
    }
   ],
   "source": [
    "\n",
    "\n",
    "# write the function to reverse list any position\n",
    "def reverse_list_location(lst,start_pos,end_pos):\n",
    "    while start_pos<end_pos:\n",
    "        lst[start_pos],lst[end_pos]=lst[end_pos],lst[start_pos]\n",
    "        \n",
    "        start_pos +=1\n",
    "        end_pos -=1\n",
    "        \n",
    "        return lst\n",
    "    \n",
    "    \n",
    "num=[10,20,30,40,50,60,70,80]\n",
    "\n",
    "start_pos=2\n",
    "\n",
    "end_pos=4\n",
    "\n",
    "print(\"Original list:\")\n",
    "print(num)\n",
    "print(\"Reverse elements of the said between index position \" +str(start_pos)+ \" and \"+str(end_pos)+\" :\")\n",
    "print(reverse_list_location(num,start_pos,end_pos))\n"
   ]
  },
  {
   "cell_type": "markdown",
   "id": "7fb9ecf5",
   "metadata": {},
   "source": [
    "# # Write a Python function find the length of the longest increasing sub-sequence in a list."
   ]
  },
  {
   "cell_type": "code",
   "execution_count": null,
   "id": "b2b84b16",
   "metadata": {},
   "outputs": [],
   "source": []
  },
  {
   "cell_type": "markdown",
   "id": "447db533",
   "metadata": {},
   "source": [
    "# Write a Python function that finds all the permutations of the members of a list."
   ]
  },
  {
   "cell_type": "code",
   "execution_count": null,
   "id": "051bdc7b",
   "metadata": {},
   "outputs": [],
   "source": [
    "\"\"\"\n",
    "What is permitiation:\n",
    "permitation of writing a numberor string \n",
    "possibility how many type number that's all. \n",
    "\"\"\"\n",
    "def permutation(nums):\n",
    "    if len(nums)==0:\n",
    "        return []\n",
    "    if len(num)==1:\n",
    "        return [nums]\n",
    "    result=[]\n",
    "    for i in range(len(nums)):\n",
    "        m=nums[i]\n",
    "        rem_lst=num[:i]+nums[i+1:]\n",
    "        \n",
    "        for p in permutatios(rem_lst):\n",
    "            result.append([m]+p)\n",
    "            \n",
    "    return result"
   ]
  },
  {
   "cell_type": "code",
   "execution_count": 18,
   "id": "62d4254b",
   "metadata": {},
   "outputs": [
    {
     "name": "stdout",
     "output_type": "stream",
     "text": [
      "Union Of both list: [65, 67, 786, 56, 89, 90]\n",
      "Intersection of both: [89, 67]\n"
     ]
    }
   ],
   "source": [
    "l=[67,89,90,56]\n",
    "p=[67,89,786,65]\n",
    "\n",
    "def union_intersection(l,p):\n",
    "    union=list(set(l)|set(p))\n",
    "    \n",
    "    intersection=list(set(l)& set(p))\n",
    "    \n",
    "    return union, intersection\n",
    "result=union_intersection(l,p)\n",
    "p,q=result\n",
    "print(\"Union Of both list:\",p)\n",
    "print(\"Intersection of both:\",q)\n",
    "    "
   ]
  },
  {
   "cell_type": "code",
   "execution_count": null,
   "id": "a6b90420",
   "metadata": {},
   "outputs": [],
   "source": []
  }
 ],
 "metadata": {
  "kernelspec": {
   "display_name": "Python 3 (ipykernel)",
   "language": "python",
   "name": "python3"
  },
  "language_info": {
   "codemirror_mode": {
    "name": "ipython",
    "version": 3
   },
   "file_extension": ".py",
   "mimetype": "text/x-python",
   "name": "python",
   "nbconvert_exporter": "python",
   "pygments_lexer": "ipython3",
   "version": "3.10.0"
  }
 },
 "nbformat": 4,
 "nbformat_minor": 5
}
