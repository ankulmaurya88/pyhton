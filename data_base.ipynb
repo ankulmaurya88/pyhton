{
 "cells": [
  {
   "cell_type": "code",
   "execution_count": null,
   "id": "1d46dd82",
   "metadata": {},
   "outputs": [],
   "source": [
    "pip install mysql-connector-python\n"
   ]
  },
  {
   "cell_type": "code",
   "execution_count": null,
   "id": "57e20fe1",
   "metadata": {},
   "outputs": [],
   "source": [
    "python.exe -m pip install --upgrade pip\n"
   ]
  },
  {
   "cell_type": "code",
   "execution_count": null,
   "id": "21807ca0",
   "metadata": {},
   "outputs": [],
   "source": [
    "pip install --upgrade pip"
   ]
  },
  {
   "cell_type": "code",
   "execution_count": null,
   "id": "818e42f0",
   "metadata": {},
   "outputs": [],
   "source": [
    "import mysql.connector as conn\n"
   ]
  },
  {
   "cell_type": "code",
   "execution_count": null,
   "id": "45786cfa",
   "metadata": {},
   "outputs": [],
   "source": [
    "mydb=conn.connect(host= 'localhost', user='root',password=\"Ankul@123\")"
   ]
  },
  {
   "cell_type": "code",
   "execution_count": null,
   "id": "6b84d32d",
   "metadata": {},
   "outputs": [],
   "source": [
    "mydb\n"
   ]
  },
  {
   "cell_type": "code",
   "execution_count": null,
   "id": "fe474a56",
   "metadata": {},
   "outputs": [],
   "source": [
    "cursor=mydb.cursor()"
   ]
  },
  {
   "cell_type": "code",
   "execution_count": null,
   "id": "891c81f4",
   "metadata": {},
   "outputs": [],
   "source": [
    "cursor.execute(\"show databases\")"
   ]
  },
  {
   "cell_type": "code",
   "execution_count": null,
   "id": "2a2e6b26",
   "metadata": {},
   "outputs": [],
   "source": [
    "cursor.fetchall()"
   ]
  },
  {
   "cell_type": "code",
   "execution_count": null,
   "id": "d1e39811",
   "metadata": {},
   "outputs": [],
   "source": [
    "cursor.execute(\"create database testankul\")"
   ]
  },
  {
   "cell_type": "code",
   "execution_count": null,
   "id": "c1ae7994",
   "metadata": {},
   "outputs": [],
   "source": [
    "cursor.fetchall()"
   ]
  },
  {
   "cell_type": "code",
   "execution_count": null,
   "id": "4cb68645",
   "metadata": {},
   "outputs": [],
   "source": [
    "cursor.execute(\"show databases\")"
   ]
  },
  {
   "cell_type": "code",
   "execution_count": null,
   "id": "ca561911",
   "metadata": {},
   "outputs": [],
   "source": [
    "cursor.fetchall()"
   ]
  },
  {
   "cell_type": "code",
   "execution_count": null,
   "id": "947978ee",
   "metadata": {},
   "outputs": [],
   "source": [
    "cursor.execute(\"create table testankul.ineuron (studentid INT(10 ),firstname VARCHAR(30),lastname VARCHAR(30),regid INT(10),classname VARCHAR(30))\")"
   ]
  },
  {
   "cell_type": "code",
   "execution_count": null,
   "id": "249cbb74",
   "metadata": {},
   "outputs": [],
   "source": [
    "create table testankul.ineuron (studentid INT(10 ),firstname VARCHAR(30),lastname VARCHAR(30),regid INT(10),classname VARCHAR(30))"
   ]
  },
  {
   "cell_type": "code",
   "execution_count": null,
   "id": "3cc055aa",
   "metadata": {},
   "outputs": [],
   "source": [
    "cursor.execute(\"use testankul\") "
   ]
  },
  {
   "cell_type": "code",
   "execution_count": null,
   "id": "b2934f32",
   "metadata": {},
   "outputs": [],
   "source": [
    "cursor.execute('show tables')"
   ]
  },
  {
   "cell_type": "code",
   "execution_count": null,
   "id": "c1e0d82d",
   "metadata": {},
   "outputs": [],
   "source": [
    "cursor.fetchall()"
   ]
  },
  {
   "cell_type": "code",
   "execution_count": null,
   "id": "eee51250",
   "metadata": {},
   "outputs": [],
   "source": [
    "cursor.execute(\"select * from ineuron\") "
   ]
  },
  {
   "cell_type": "code",
   "execution_count": null,
   "id": "b720fe42",
   "metadata": {},
   "outputs": [],
   "source": [
    "cursor.fetchall()"
   ]
  },
  {
   "cell_type": "code",
   "execution_count": null,
   "id": "f416ca94",
   "metadata": {},
   "outputs": [],
   "source": [
    "cursor.execute('insert into testankul.ineuron values(33787,\"AMAN\",\"Maurya\",22256,\"data Science\")')"
   ]
  },
  {
   "cell_type": "code",
   "execution_count": null,
   "id": "680962fe",
   "metadata": {},
   "outputs": [],
   "source": [
    "cursor.execute(\"select * from ineuron\") "
   ]
  },
  {
   "cell_type": "code",
   "execution_count": null,
   "id": "f9eb8963",
   "metadata": {},
   "outputs": [],
   "source": [
    "cursor.fetchall()"
   ]
  },
  {
   "cell_type": "code",
   "execution_count": null,
   "id": "9331341c",
   "metadata": {},
   "outputs": [],
   "source": [
    "mydb.commit()"
   ]
  },
  {
   "cell_type": "code",
   "execution_count": null,
   "id": "03e6e9f1",
   "metadata": {},
   "outputs": [],
   "source": [
    "cursor.execute('create table testankul.glassdata(col1 INT(10),col2 float(10,5),col3 float(10,5), col4 float(10,5), col5 float(10,5), col6 float(10,5),col7 float(10,5),col8 float(10,5),col9 float(10,5),col10 float(10,5),col11 INT(10))')"
   ]
  },
  {
   "cell_type": "code",
   "execution_count": null,
   "id": "3077e7e3",
   "metadata": {},
   "outputs": [],
   "source": [
    "cursor.execute(\"show tables\")"
   ]
  },
  {
   "cell_type": "code",
   "execution_count": null,
   "id": "50c55696",
   "metadata": {},
   "outputs": [],
   "source": [
    "cursor.fetchall()"
   ]
  },
  {
   "cell_type": "code",
   "execution_count": null,
   "id": "eb90985c",
   "metadata": {},
   "outputs": [],
   "source": [
    "ls\n"
   ]
  },
  {
   "cell_type": "code",
   "execution_count": null,
   "id": "750859aa",
   "metadata": {},
   "outputs": [],
   "source": [
    "file=open(\"glass (1).data\",\"r\")"
   ]
  },
  {
   "cell_type": "code",
   "execution_count": null,
   "id": "fe200fc4",
   "metadata": {},
   "outputs": [],
   "source": [
    "file.read()"
   ]
  },
  {
   "cell_type": "code",
   "execution_count": null,
   "id": "214d17d8",
   "metadata": {},
   "outputs": [],
   "source": [
    "import csv \n",
    "with open(\"glass (1).data\",\"r\") as f:\n",
    "    glass_data=csv.reader(f,delimiter= \"\\n\")\n",
    "    for i in glass_data:\n",
    "        print(i)\n",
    "    #print(glass_data)"
   ]
  },
  {
   "cell_type": "code",
   "execution_count": null,
   "id": "ddd8a07c",
   "metadata": {},
   "outputs": [],
   "source": [
    "cursor.execute('insert into testankul.glassdata values(1,1.52101,13.64,4.49,1.10,71.78,0.06,8.75,0.00,0.00,1)')"
   ]
  },
  {
   "cell_type": "code",
   "execution_count": null,
   "id": "5c7f695b",
   "metadata": {},
   "outputs": [],
   "source": [
    "mydb.commit()"
   ]
  },
  {
   "cell_type": "code",
   "execution_count": null,
   "id": "ec9dfc89",
   "metadata": {},
   "outputs": [],
   "source": [
    "glass_data=csv.reader(f,delimiter= \"\\n\")\n",
    "for i in glass_data:\n",
    "    cursor.execute('insert into testankul.glassdata values(i)')"
   ]
  },
  {
   "cell_type": "code",
   "execution_count": null,
   "id": "16b0c988",
   "metadata": {},
   "outputs": [],
   "source": [
    "with open(\"glass (1).data\",\"r\") as f:\n",
    "    glass_data=csv.reader(f,delimiter= \"\\n\")\n",
    "    for i in glass_data:\n",
    "        cursor.execute(f'insert into testankul.glassdata values({str(i[0])})')\n",
    "mydb.commit()"
   ]
  },
  {
   "cell_type": "code",
   "execution_count": null,
   "id": "ac97521a",
   "metadata": {},
   "outputs": [],
   "source": [
    "with open(\"glass (1).data\",\"r\") as f:\n",
    "    glass_data=csv.reader(f,delimiter= \"\\n\")\n",
    "    for i in glass_data:\n",
    "        print(i[0])"
   ]
  },
  {
   "cell_type": "code",
   "execution_count": null,
   "id": "73693182",
   "metadata": {},
   "outputs": [],
   "source": [
    "cursor.fetchall()"
   ]
  },
  {
   "cell_type": "code",
   "execution_count": null,
   "id": "c64182a3",
   "metadata": {},
   "outputs": [],
   "source": [
    "cursor.execute(\"select * from glassdata\")"
   ]
  },
  {
   "cell_type": "code",
   "execution_count": null,
   "id": "41238646",
   "metadata": {},
   "outputs": [],
   "source": [
    "cursor.fetchall()"
   ]
  },
  {
   "cell_type": "code",
   "execution_count": null,
   "id": "6ca5796c",
   "metadata": {},
   "outputs": [],
   "source": [
    "with open(\"glass (1).data\",\"r\") as f:\n",
    "    glass_data=csv.reader(f,delimiter= \"\\n\")\n",
    "    for i in glass_data:\n",
    "        print(type(i[0]))\n",
    "        cursor.execute(f'insert into testankul.glassdata values({str(i[0])})')\n",
    "mydb.commit()"
   ]
  },
  {
   "cell_type": "code",
   "execution_count": 1,
   "id": "ebd6c96e",
   "metadata": {},
   "outputs": [],
   "source": [
    "import pandas as pd"
   ]
  },
  {
   "cell_type": "code",
   "execution_count": 2,
   "id": "484fada8",
   "metadata": {},
   "outputs": [
    {
     "ename": "AttributeError",
     "evalue": "module 'pandas' has no attribute 'read_sql'",
     "output_type": "error",
     "traceback": [
      "\u001b[1;31m---------------------------------------------------------------------------\u001b[0m",
      "\u001b[1;31mAttributeError\u001b[0m                            Traceback (most recent call last)",
      "\u001b[1;32m~\\AppData\\Local\\Temp/ipykernel_18588/2313773649.py\u001b[0m in \u001b[0;36m<module>\u001b[1;34m\u001b[0m\n\u001b[1;32m----> 1\u001b[1;33m \u001b[0mpd\u001b[0m\u001b[1;33m.\u001b[0m\u001b[0mread_sql\u001b[0m\u001b[1;33m(\u001b[0m\u001b[1;34m\"select * from testankul.glassdata\"\u001b[0m\u001b[1;33m,\u001b[0m\u001b[0mmydb\u001b[0m\u001b[1;33m)\u001b[0m\u001b[1;33m\u001b[0m\u001b[1;33m\u001b[0m\u001b[0m\n\u001b[0m",
      "\u001b[1;31mAttributeError\u001b[0m: module 'pandas' has no attribute 'read_sql'"
     ]
    }
   ],
   "source": [
    "pd.read_sql(\"select * from testankul.glassdata\",mydb)"
   ]
  },
  {
   "cell_type": "code",
   "execution_count": 3,
   "id": "de5c5c8c",
   "metadata": {},
   "outputs": [
    {
     "ename": "AttributeError",
     "evalue": "module 'pandas' has no attribute 'read_sql'",
     "output_type": "error",
     "traceback": [
      "\u001b[1;31m---------------------------------------------------------------------------\u001b[0m",
      "\u001b[1;31mAttributeError\u001b[0m                            Traceback (most recent call last)",
      "\u001b[1;32m~\\AppData\\Local\\Temp/ipykernel_18588/3175124756.py\u001b[0m in \u001b[0;36m<module>\u001b[1;34m\u001b[0m\n\u001b[1;32m----> 1\u001b[1;33m \u001b[0mpd\u001b[0m\u001b[1;33m.\u001b[0m\u001b[0mread_sql\u001b[0m\u001b[1;33m(\u001b[0m\u001b[1;34m\"use testankul\"\u001b[0m\u001b[1;33m,\u001b[0m\u001b[0mmydb\u001b[0m\u001b[1;33m)\u001b[0m\u001b[1;33m\u001b[0m\u001b[1;33m\u001b[0m\u001b[0m\n\u001b[0m\u001b[0;32m      2\u001b[0m \u001b[1;33m\u001b[0m\u001b[0m\n\u001b[0;32m      3\u001b[0m \u001b[1;33m\u001b[0m\u001b[0m\n",
      "\u001b[1;31mAttributeError\u001b[0m: module 'pandas' has no attribute 'read_sql'"
     ]
    }
   ],
   "source": [
    "pd.read_sql(\"use testankul\",mydb)\n",
    "\n",
    "\n"
   ]
  },
  {
   "cell_type": "code",
   "execution_count": null,
   "id": "885235c3",
   "metadata": {},
   "outputs": [],
   "source": []
  }
 ],
 "metadata": {
  "kernelspec": {
   "display_name": "Python 3 (ipykernel)",
   "language": "python",
   "name": "python3"
  },
  "language_info": {
   "codemirror_mode": {
    "name": "ipython",
    "version": 3
   },
   "file_extension": ".py",
   "mimetype": "text/x-python",
   "name": "python",
   "nbconvert_exporter": "python",
   "pygments_lexer": "ipython3",
   "version": "3.10.0"
  }
 },
 "nbformat": 4,
 "nbformat_minor": 5
}
