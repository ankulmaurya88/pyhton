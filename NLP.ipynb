{
 "cells": [
  {
   "cell_type": "code",
   "execution_count": null,
   "id": "d5a32bc7",
   "metadata": {},
   "outputs": [],
   "source": [
    "# Import torch libraries\n",
    "import torch\n",
    " \n",
    "# create PyTorch tensor\n",
    "tens = torch.Tensor([1, 2, 3, 4, 5])\n",
    " \n",
    "# print tensor\n",
    "print(\"Original tensor:\", tens)\n",
    " \n",
    "# access a value by their index\n",
    "temp = tens[2]\n",
    "print(\"value of tens[2]:\", temp)\n",
    " \n",
    " \n",
    "# modify a value.\n",
    "tens[2] = 10\n",
    " \n",
    "# print tensor after modify the value\n",
    "print(\"After modify the value:\", tens)"
   ]
  },
  {
   "cell_type": "code",
   "execution_count": null,
   "id": "16247f74",
   "metadata": {},
   "outputs": [],
   "source": []
  },
  {
   "cell_type": "code",
   "execution_count": null,
   "id": "6c73bf96",
   "metadata": {},
   "outputs": [],
   "source": [
    "def Filter_Features(F):\n",
    "    sess = Session()\n",
    "    with sess.as_default():\n",
    "        F_np = F.eval()\n",
    "\n",
    "    min_pos = np.argmin(F_np)\n",
    "    F_np[min_pos] = 0\n",
    "\n",
    "    return convert_to_tensor(F_np)\n",
    "\n",
    "def create_model(nb_actions, num_frames=4):\n",
    "    inputs = Input(shape = (num_frames,84,84))\n",
    "    F = Conv2D(16,(8,8), activation='relu', strides=(4,4), data_format = \"channels_first\")(inputs)\n",
    "    ...\n",
    "\n",
    "    F_k = Lambda(Filter_Features)(F)\n",
    "\n",
    "    actions = Dense(nb_actions, activation = 'linear')(F_k)\n",
    "\n",
    "    nnf_model = Model(inputs = inputs, outputs = actions)\n",
    "\n",
    "    return nnf_model"
   ]
  },
  {
   "cell_type": "code",
   "execution_count": 1,
   "id": "85a7b104",
   "metadata": {},
   "outputs": [],
   "source": [
    "def ankul():\n",
    "    pass"
   ]
  },
  {
   "cell_type": "code",
   "execution_count": null,
   "id": "a427acce",
   "metadata": {},
   "outputs": [],
   "source": [
    "print()"
   ]
  },
  {
   "cell_type": "code",
   "execution_count": 4,
   "id": "8d9ce5d0",
   "metadata": {},
   "outputs": [],
   "source": [
    "def test1():\n",
    "    '''this is very complex code'''\n",
    "    print( \"this my first function \")\n",
    "    "
   ]
  },
  {
   "cell_type": "code",
   "execution_count": 3,
   "id": "1df85075",
   "metadata": {},
   "outputs": [
    {
     "name": "stdout",
     "output_type": "stream",
     "text": [
      "this my first function \n"
     ]
    }
   ],
   "source": [
    "test1()"
   ]
  },
  {
   "cell_type": "code",
   "execution_count": 5,
   "id": "2938652d",
   "metadata": {},
   "outputs": [
    {
     "name": "stdout",
     "output_type": "stream",
     "text": [
      "this my first function \n"
     ]
    }
   ],
   "source": [
    "a=test1()"
   ]
  },
  {
   "cell_type": "code",
   "execution_count": 8,
   "id": "dab768f9",
   "metadata": {},
   "outputs": [
    {
     "data": {
      "text/plain": [
       "'Nonea'"
      ]
     },
     "execution_count": 8,
     "metadata": {},
     "output_type": "execute_result"
    }
   ],
   "source": [
    "str(a)+\"a\""
   ]
  },
  {
   "cell_type": "code",
   "execution_count": 9,
   "id": "63aa6134",
   "metadata": {},
   "outputs": [
    {
     "name": "stdout",
     "output_type": "stream",
     "text": [
      "this my first function \n"
     ]
    },
    {
     "data": {
      "text/plain": [
       "NoneType"
      ]
     },
     "execution_count": 9,
     "metadata": {},
     "output_type": "execute_result"
    }
   ],
   "source": [
    "type(test1())"
   ]
  },
  {
   "cell_type": "code",
   "execution_count": 10,
   "id": "2bed213a",
   "metadata": {},
   "outputs": [
    {
     "data": {
      "text/plain": [
       "'None'"
      ]
     },
     "execution_count": 10,
     "metadata": {},
     "output_type": "execute_result"
    }
   ],
   "source": [
    "str(a)"
   ]
  },
  {
   "cell_type": "code",
   "execution_count": 11,
   "id": "2c3234ef",
   "metadata": {},
   "outputs": [
    {
     "name": "stdout",
     "output_type": "stream",
     "text": [
      "\n"
     ]
    },
    {
     "data": {
      "text/plain": [
       "NoneType"
      ]
     },
     "execution_count": 11,
     "metadata": {},
     "output_type": "execute_result"
    }
   ],
   "source": [
    "type(print())"
   ]
  },
  {
   "cell_type": "code",
   "execution_count": 12,
   "id": "e552d9db",
   "metadata": {},
   "outputs": [],
   "source": [
    "def test2():\n",
    "    return \" this is my first function \""
   ]
  },
  {
   "cell_type": "code",
   "execution_count": 13,
   "id": "d8ea990e",
   "metadata": {},
   "outputs": [
    {
     "data": {
      "text/plain": [
       "str"
      ]
     },
     "execution_count": 13,
     "metadata": {},
     "output_type": "execute_result"
    }
   ],
   "source": [
    "type(test2())"
   ]
  },
  {
   "cell_type": "code",
   "execution_count": 14,
   "id": "ffa378e3",
   "metadata": {},
   "outputs": [],
   "source": [
    "def test3():\n",
    "    return 465587"
   ]
  },
  {
   "cell_type": "code",
   "execution_count": 16,
   "id": "8840b657",
   "metadata": {},
   "outputs": [
    {
     "data": {
      "text/plain": [
       "int"
      ]
     },
     "execution_count": 16,
     "metadata": {},
     "output_type": "execute_result"
    }
   ],
   "source": [
    "type(test3())"
   ]
  },
  {
   "cell_type": "code",
   "execution_count": 17,
   "id": "8049ea6e",
   "metadata": {},
   "outputs": [],
   "source": [
    "def test4():\n",
    "    return 4,3,\"sgfwekuh\",[1,3,4]"
   ]
  },
  {
   "cell_type": "code",
   "execution_count": 18,
   "id": "9101a950",
   "metadata": {},
   "outputs": [
    {
     "data": {
      "text/plain": [
       "tuple"
      ]
     },
     "execution_count": 18,
     "metadata": {},
     "output_type": "execute_result"
    }
   ],
   "source": [
    "type(test4())"
   ]
  },
  {
   "cell_type": "code",
   "execution_count": 19,
   "id": "7fbaec25",
   "metadata": {},
   "outputs": [
    {
     "data": {
      "text/plain": [
       "(4, 3, 'sgfwekuh', [1, 3, 4])"
      ]
     },
     "execution_count": 19,
     "metadata": {},
     "output_type": "execute_result"
    }
   ],
   "source": [
    "test4()"
   ]
  },
  {
   "cell_type": "code",
   "execution_count": 20,
   "id": "f338d0b2",
   "metadata": {},
   "outputs": [],
   "source": [
    "a,b,c,r= test4()"
   ]
  },
  {
   "cell_type": "code",
   "execution_count": 21,
   "id": "ec9750de",
   "metadata": {},
   "outputs": [
    {
     "data": {
      "text/plain": [
       "4"
      ]
     },
     "execution_count": 21,
     "metadata": {},
     "output_type": "execute_result"
    }
   ],
   "source": [
    "a"
   ]
  },
  {
   "cell_type": "code",
   "execution_count": 22,
   "id": "e70950a6",
   "metadata": {},
   "outputs": [
    {
     "data": {
      "text/plain": [
       "3"
      ]
     },
     "execution_count": 22,
     "metadata": {},
     "output_type": "execute_result"
    }
   ],
   "source": [
    "b"
   ]
  },
  {
   "cell_type": "code",
   "execution_count": 23,
   "id": "75e6adb1",
   "metadata": {},
   "outputs": [
    {
     "data": {
      "text/plain": [
       "'sgfwekuh'"
      ]
     },
     "execution_count": 23,
     "metadata": {},
     "output_type": "execute_result"
    }
   ],
   "source": [
    "c"
   ]
  },
  {
   "cell_type": "code",
   "execution_count": 24,
   "id": "fe8a31b3",
   "metadata": {},
   "outputs": [],
   "source": [
    "def test5():\n",
    "    a=5-45%3\n",
    "    return a\n"
   ]
  },
  {
   "cell_type": "code",
   "execution_count": 25,
   "id": "a96c5718",
   "metadata": {},
   "outputs": [
    {
     "data": {
      "text/plain": [
       "5"
      ]
     },
     "execution_count": 25,
     "metadata": {},
     "output_type": "execute_result"
    }
   ],
   "source": [
    "test5()"
   ]
  },
  {
   "cell_type": "code",
   "execution_count": 31,
   "id": "3c3e6d7d",
   "metadata": {},
   "outputs": [],
   "source": [
    "def test6(l):\n",
    "    p=[]\n",
    "    for i in l:\n",
    "        if type(i)== int:\n",
    "            p.append(i)\n",
    "    return p\n",
    "\n",
    "\n",
    "            "
   ]
  },
  {
   "cell_type": "code",
   "execution_count": 32,
   "id": "cd471faf",
   "metadata": {},
   "outputs": [
    {
     "data": {
      "text/plain": [
       "[78, 89, 0]"
      ]
     },
     "execution_count": 32,
     "metadata": {},
     "output_type": "execute_result"
    }
   ],
   "source": [
    "l=['wey5dr62',78,89,0,'ytwr',[9,8]]\n",
    "test6(l)\n"
   ]
  },
  {
   "cell_type": "code",
   "execution_count": 33,
   "id": "a2de582a",
   "metadata": {},
   "outputs": [],
   "source": [
    "def test7(a):\n",
    "    p=[] \n",
    "    for i in a:\n",
    "        if type(i)==int:\n",
    "            p.append(i)\n",
    "        elif type(i)==list:\n",
    "            p.append(i)\n",
    "    return p"
   ]
  },
  {
   "cell_type": "code",
   "execution_count": 36,
   "id": "605484c8",
   "metadata": {},
   "outputs": [
    {
     "data": {
      "text/plain": [
       "[8, 78, 45, [9, 0, 78, -8], [89, 89, 'rwm']]"
      ]
     },
     "execution_count": 36,
     "metadata": {},
     "output_type": "execute_result"
    }
   ],
   "source": [
    "y=['ewjd',8,78,45,[9,0,78,-8],[89,89,'rwm']]\n",
    "test7(y)"
   ]
  },
  {
   "cell_type": "code",
   "execution_count": 44,
   "id": "a6864d64",
   "metadata": {},
   "outputs": [],
   "source": [
    "def test8(c):\n",
    "    if type(c)==dict:\n",
    "        return c.keys()\n",
    "    else:\n",
    "        return \"you have not passed a dic \""
   ]
  },
  {
   "cell_type": "code",
   "execution_count": 38,
   "id": "5a5a9c21",
   "metadata": {},
   "outputs": [
    {
     "data": {
      "text/plain": [
       "'you have not passed a dic '"
      ]
     },
     "execution_count": 38,
     "metadata": {},
     "output_type": "execute_result"
    }
   ],
   "source": [
    "test8(\"ewjhdciwe\")\n"
   ]
  },
  {
   "cell_type": "code",
   "execution_count": 45,
   "id": "f2b874b2",
   "metadata": {},
   "outputs": [
    {
     "data": {
      "text/plain": [
       "dict_keys(['jdkn', 'b', 'c'])"
      ]
     },
     "execution_count": 45,
     "metadata": {},
     "output_type": "execute_result"
    }
   ],
   "source": [
    "b={\"jdkn\":980,\"b\":90,\"c\":89}\n",
    "test8(b)"
   ]
  },
  {
   "cell_type": "code",
   "execution_count": 47,
   "id": "19ac4adc",
   "metadata": {},
   "outputs": [],
   "source": [
    "def test9(a,b):\n",
    "    if type(a)==list and type(b)==list:\n",
    "        return a.extend(b)\n",
    "    else:\n",
    "        return \"either of your data is not a list\""
   ]
  },
  {
   "cell_type": "code",
   "execution_count": 48,
   "id": "90858ac0",
   "metadata": {},
   "outputs": [
    {
     "data": {
      "text/plain": [
       "'either of your data is not a list'"
      ]
     },
     "execution_count": 48,
     "metadata": {},
     "output_type": "execute_result"
    }
   ],
   "source": [
    "test9(2424,\"wjedhiwe\")"
   ]
  },
  {
   "cell_type": "code",
   "execution_count": 50,
   "id": "3d28f4ce",
   "metadata": {},
   "outputs": [],
   "source": [
    "n=test9([2,3,4,5],[89,90,78])"
   ]
  },
  {
   "cell_type": "code",
   "execution_count": 51,
   "id": "27ea4d10",
   "metadata": {},
   "outputs": [
    {
     "data": {
      "text/plain": [
       "NoneType"
      ]
     },
     "execution_count": 51,
     "metadata": {},
     "output_type": "execute_result"
    }
   ],
   "source": [
    "type(n)"
   ]
  },
  {
   "cell_type": "code",
   "execution_count": 55,
   "id": "d9641959",
   "metadata": {},
   "outputs": [],
   "source": [
    "a,b=[2,3,4,5],[89,90,78]\n",
    "test9(a,b)"
   ]
  },
  {
   "cell_type": "code",
   "execution_count": 53,
   "id": "2d4b3471",
   "metadata": {},
   "outputs": [
    {
     "name": "stdout",
     "output_type": "stream",
     "text": [
      "[2, 3, 4, 5, 89, 90, 78]\n"
     ]
    }
   ],
   "source": [
    "print(a)"
   ]
  },
  {
   "cell_type": "code",
   "execution_count": 54,
   "id": "d7a2e6cb",
   "metadata": {},
   "outputs": [
    {
     "name": "stdout",
     "output_type": "stream",
     "text": [
      "[89, 90, 78]\n"
     ]
    }
   ],
   "source": [
    "print(b)"
   ]
  },
  {
   "cell_type": "code",
   "execution_count": null,
   "id": "b49389d6",
   "metadata": {},
   "outputs": [],
   "source": []
  },
  {
   "cell_type": "code",
   "execution_count": 56,
   "id": "62128074",
   "metadata": {},
   "outputs": [
    {
     "name": "stdout",
     "output_type": "stream",
     "text": [
      "Natural Language Processing for developers\n"
     ]
    }
   ],
   "source": [
    "print(\"Natural Language Processing for developers\")"
   ]
  },
  {
   "cell_type": "code",
   "execution_count": 58,
   "id": "38d959e8",
   "metadata": {},
   "outputs": [],
   "source": [
    "import nltk\n",
    "from nltk import *\n",
    "sent = \"India is a republic nation. We are proud Indians\"\n"
   ]
  },
  {
   "cell_type": "code",
   "execution_count": 60,
   "id": "5656153b",
   "metadata": {},
   "outputs": [
    {
     "name": "stdout",
     "output_type": "stream",
     "text": [
      "48\n",
      "India\n",
      "republic\n"
     ]
    }
   ],
   "source": [
    "print(len(sent))\n",
    "print(sent[0:5])\n",
    "print(sent[11:19])"
   ]
  },
  {
   "cell_type": "code",
   "execution_count": 62,
   "id": "cd44a8d6",
   "metadata": {},
   "outputs": [
    {
     "ename": "LookupError",
     "evalue": "\n**********************************************************************\n  Resource \u001b[93mpunkt\u001b[0m not found.\n  Please use the NLTK Downloader to obtain the resource:\n\n  \u001b[31m>>> import nltk\n  >>> nltk.download('punkt')\n  \u001b[0m\n  For more information see: https://www.nltk.org/data.html\n\n  Attempted to load \u001b[93mtokenizers/punkt/english.pickle\u001b[0m\n\n  Searched in:\n    - 'C:\\\\Users\\\\Ankul/nltk_data'\n    - 'C:\\\\Users\\\\Ankul\\\\AppData\\\\Local\\\\Programs\\\\Python\\\\Python310\\\\nltk_data'\n    - 'C:\\\\Users\\\\Ankul\\\\AppData\\\\Local\\\\Programs\\\\Python\\\\Python310\\\\share\\\\nltk_data'\n    - 'C:\\\\Users\\\\Ankul\\\\AppData\\\\Local\\\\Programs\\\\Python\\\\Python310\\\\lib\\\\nltk_data'\n    - 'C:\\\\Users\\\\Ankul\\\\AppData\\\\Roaming\\\\nltk_data'\n    - 'C:\\\\nltk_data'\n    - 'D:\\\\nltk_data'\n    - 'E:\\\\nltk_data'\n    - ''\n**********************************************************************\n",
     "output_type": "error",
     "traceback": [
      "\u001b[1;31m---------------------------------------------------------------------------\u001b[0m",
      "\u001b[1;31mLookupError\u001b[0m                               Traceback (most recent call last)",
      "\u001b[1;32m~\\AppData\\Local\\Temp/ipykernel_9220/1913044640.py\u001b[0m in \u001b[0;36m<module>\u001b[1;34m\u001b[0m\n\u001b[1;32m----> 1\u001b[1;33m \u001b[0mprint\u001b[0m\u001b[1;33m(\u001b[0m\u001b[0mnltk\u001b[0m\u001b[1;33m.\u001b[0m\u001b[0mword_tokenize\u001b[0m\u001b[1;33m(\u001b[0m\u001b[0msent\u001b[0m\u001b[1;33m)\u001b[0m\u001b[1;33m)\u001b[0m\u001b[1;33m\u001b[0m\u001b[1;33m\u001b[0m\u001b[0m\n\u001b[0m\u001b[0;32m      2\u001b[0m \u001b[1;31m#Prints list of words ['India', 'is', 'a', 'republic', 'nation', '.', 'We', 'are', 'proud', 'Indians']\u001b[0m\u001b[1;33m\u001b[0m\u001b[1;33m\u001b[0m\u001b[0m\n",
      "\u001b[1;32m~\\AppData\\Local\\Programs\\Python\\Python310\\lib\\site-packages\\nltk\\tokenize\\__init__.py\u001b[0m in \u001b[0;36mword_tokenize\u001b[1;34m(text, language, preserve_line)\u001b[0m\n\u001b[0;32m    127\u001b[0m     \u001b[1;33m:\u001b[0m\u001b[0mtype\u001b[0m \u001b[0mpreserve_line\u001b[0m\u001b[1;33m:\u001b[0m \u001b[0mbool\u001b[0m\u001b[1;33m\u001b[0m\u001b[1;33m\u001b[0m\u001b[0m\n\u001b[0;32m    128\u001b[0m     \"\"\"\n\u001b[1;32m--> 129\u001b[1;33m     \u001b[0msentences\u001b[0m \u001b[1;33m=\u001b[0m \u001b[1;33m[\u001b[0m\u001b[0mtext\u001b[0m\u001b[1;33m]\u001b[0m \u001b[1;32mif\u001b[0m \u001b[0mpreserve_line\u001b[0m \u001b[1;32melse\u001b[0m \u001b[0msent_tokenize\u001b[0m\u001b[1;33m(\u001b[0m\u001b[0mtext\u001b[0m\u001b[1;33m,\u001b[0m \u001b[0mlanguage\u001b[0m\u001b[1;33m)\u001b[0m\u001b[1;33m\u001b[0m\u001b[1;33m\u001b[0m\u001b[0m\n\u001b[0m\u001b[0;32m    130\u001b[0m     return [\n\u001b[0;32m    131\u001b[0m         \u001b[0mtoken\u001b[0m \u001b[1;32mfor\u001b[0m \u001b[0msent\u001b[0m \u001b[1;32min\u001b[0m \u001b[0msentences\u001b[0m \u001b[1;32mfor\u001b[0m \u001b[0mtoken\u001b[0m \u001b[1;32min\u001b[0m \u001b[0m_treebank_word_tokenizer\u001b[0m\u001b[1;33m.\u001b[0m\u001b[0mtokenize\u001b[0m\u001b[1;33m(\u001b[0m\u001b[0msent\u001b[0m\u001b[1;33m)\u001b[0m\u001b[1;33m\u001b[0m\u001b[1;33m\u001b[0m\u001b[0m\n",
      "\u001b[1;32m~\\AppData\\Local\\Programs\\Python\\Python310\\lib\\site-packages\\nltk\\tokenize\\__init__.py\u001b[0m in \u001b[0;36msent_tokenize\u001b[1;34m(text, language)\u001b[0m\n\u001b[0;32m    104\u001b[0m     \u001b[1;33m:\u001b[0m\u001b[0mparam\u001b[0m \u001b[0mlanguage\u001b[0m\u001b[1;33m:\u001b[0m \u001b[0mthe\u001b[0m \u001b[0mmodel\u001b[0m \u001b[0mname\u001b[0m \u001b[1;32min\u001b[0m \u001b[0mthe\u001b[0m \u001b[0mPunkt\u001b[0m \u001b[0mcorpus\u001b[0m\u001b[1;33m\u001b[0m\u001b[1;33m\u001b[0m\u001b[0m\n\u001b[0;32m    105\u001b[0m     \"\"\"\n\u001b[1;32m--> 106\u001b[1;33m     \u001b[0mtokenizer\u001b[0m \u001b[1;33m=\u001b[0m \u001b[0mload\u001b[0m\u001b[1;33m(\u001b[0m\u001b[1;34mf\"tokenizers/punkt/{language}.pickle\"\u001b[0m\u001b[1;33m)\u001b[0m\u001b[1;33m\u001b[0m\u001b[1;33m\u001b[0m\u001b[0m\n\u001b[0m\u001b[0;32m    107\u001b[0m     \u001b[1;32mreturn\u001b[0m \u001b[0mtokenizer\u001b[0m\u001b[1;33m.\u001b[0m\u001b[0mtokenize\u001b[0m\u001b[1;33m(\u001b[0m\u001b[0mtext\u001b[0m\u001b[1;33m)\u001b[0m\u001b[1;33m\u001b[0m\u001b[1;33m\u001b[0m\u001b[0m\n\u001b[0;32m    108\u001b[0m \u001b[1;33m\u001b[0m\u001b[0m\n",
      "\u001b[1;32m~\\AppData\\Local\\Programs\\Python\\Python310\\lib\\site-packages\\nltk\\data.py\u001b[0m in \u001b[0;36mload\u001b[1;34m(resource_url, format, cache, verbose, logic_parser, fstruct_reader, encoding)\u001b[0m\n\u001b[0;32m    748\u001b[0m \u001b[1;33m\u001b[0m\u001b[0m\n\u001b[0;32m    749\u001b[0m     \u001b[1;31m# Load the resource.\u001b[0m\u001b[1;33m\u001b[0m\u001b[1;33m\u001b[0m\u001b[0m\n\u001b[1;32m--> 750\u001b[1;33m     \u001b[0mopened_resource\u001b[0m \u001b[1;33m=\u001b[0m \u001b[0m_open\u001b[0m\u001b[1;33m(\u001b[0m\u001b[0mresource_url\u001b[0m\u001b[1;33m)\u001b[0m\u001b[1;33m\u001b[0m\u001b[1;33m\u001b[0m\u001b[0m\n\u001b[0m\u001b[0;32m    751\u001b[0m \u001b[1;33m\u001b[0m\u001b[0m\n\u001b[0;32m    752\u001b[0m     \u001b[1;32mif\u001b[0m \u001b[0mformat\u001b[0m \u001b[1;33m==\u001b[0m \u001b[1;34m\"raw\"\u001b[0m\u001b[1;33m:\u001b[0m\u001b[1;33m\u001b[0m\u001b[1;33m\u001b[0m\u001b[0m\n",
      "\u001b[1;32m~\\AppData\\Local\\Programs\\Python\\Python310\\lib\\site-packages\\nltk\\data.py\u001b[0m in \u001b[0;36m_open\u001b[1;34m(resource_url)\u001b[0m\n\u001b[0;32m    874\u001b[0m \u001b[1;33m\u001b[0m\u001b[0m\n\u001b[0;32m    875\u001b[0m     \u001b[1;32mif\u001b[0m \u001b[0mprotocol\u001b[0m \u001b[1;32mis\u001b[0m \u001b[1;32mNone\u001b[0m \u001b[1;32mor\u001b[0m \u001b[0mprotocol\u001b[0m\u001b[1;33m.\u001b[0m\u001b[0mlower\u001b[0m\u001b[1;33m(\u001b[0m\u001b[1;33m)\u001b[0m \u001b[1;33m==\u001b[0m \u001b[1;34m\"nltk\"\u001b[0m\u001b[1;33m:\u001b[0m\u001b[1;33m\u001b[0m\u001b[1;33m\u001b[0m\u001b[0m\n\u001b[1;32m--> 876\u001b[1;33m         \u001b[1;32mreturn\u001b[0m \u001b[0mfind\u001b[0m\u001b[1;33m(\u001b[0m\u001b[0mpath_\u001b[0m\u001b[1;33m,\u001b[0m \u001b[0mpath\u001b[0m \u001b[1;33m+\u001b[0m \u001b[1;33m[\u001b[0m\u001b[1;34m\"\"\u001b[0m\u001b[1;33m]\u001b[0m\u001b[1;33m)\u001b[0m\u001b[1;33m.\u001b[0m\u001b[0mopen\u001b[0m\u001b[1;33m(\u001b[0m\u001b[1;33m)\u001b[0m\u001b[1;33m\u001b[0m\u001b[1;33m\u001b[0m\u001b[0m\n\u001b[0m\u001b[0;32m    877\u001b[0m     \u001b[1;32melif\u001b[0m \u001b[0mprotocol\u001b[0m\u001b[1;33m.\u001b[0m\u001b[0mlower\u001b[0m\u001b[1;33m(\u001b[0m\u001b[1;33m)\u001b[0m \u001b[1;33m==\u001b[0m \u001b[1;34m\"file\"\u001b[0m\u001b[1;33m:\u001b[0m\u001b[1;33m\u001b[0m\u001b[1;33m\u001b[0m\u001b[0m\n\u001b[0;32m    878\u001b[0m         \u001b[1;31m# urllib might not use mode='rb', so handle this one ourselves:\u001b[0m\u001b[1;33m\u001b[0m\u001b[1;33m\u001b[0m\u001b[0m\n",
      "\u001b[1;32m~\\AppData\\Local\\Programs\\Python\\Python310\\lib\\site-packages\\nltk\\data.py\u001b[0m in \u001b[0;36mfind\u001b[1;34m(resource_name, paths)\u001b[0m\n\u001b[0;32m    581\u001b[0m     \u001b[0msep\u001b[0m \u001b[1;33m=\u001b[0m \u001b[1;34m\"*\"\u001b[0m \u001b[1;33m*\u001b[0m \u001b[1;36m70\u001b[0m\u001b[1;33m\u001b[0m\u001b[1;33m\u001b[0m\u001b[0m\n\u001b[0;32m    582\u001b[0m     \u001b[0mresource_not_found\u001b[0m \u001b[1;33m=\u001b[0m \u001b[1;34mf\"\\n{sep}\\n{msg}\\n{sep}\\n\"\u001b[0m\u001b[1;33m\u001b[0m\u001b[1;33m\u001b[0m\u001b[0m\n\u001b[1;32m--> 583\u001b[1;33m     \u001b[1;32mraise\u001b[0m \u001b[0mLookupError\u001b[0m\u001b[1;33m(\u001b[0m\u001b[0mresource_not_found\u001b[0m\u001b[1;33m)\u001b[0m\u001b[1;33m\u001b[0m\u001b[1;33m\u001b[0m\u001b[0m\n\u001b[0m\u001b[0;32m    584\u001b[0m \u001b[1;33m\u001b[0m\u001b[0m\n\u001b[0;32m    585\u001b[0m \u001b[1;33m\u001b[0m\u001b[0m\n",
      "\u001b[1;31mLookupError\u001b[0m: \n**********************************************************************\n  Resource \u001b[93mpunkt\u001b[0m not found.\n  Please use the NLTK Downloader to obtain the resource:\n\n  \u001b[31m>>> import nltk\n  >>> nltk.download('punkt')\n  \u001b[0m\n  For more information see: https://www.nltk.org/data.html\n\n  Attempted to load \u001b[93mtokenizers/punkt/english.pickle\u001b[0m\n\n  Searched in:\n    - 'C:\\\\Users\\\\Ankul/nltk_data'\n    - 'C:\\\\Users\\\\Ankul\\\\AppData\\\\Local\\\\Programs\\\\Python\\\\Python310\\\\nltk_data'\n    - 'C:\\\\Users\\\\Ankul\\\\AppData\\\\Local\\\\Programs\\\\Python\\\\Python310\\\\share\\\\nltk_data'\n    - 'C:\\\\Users\\\\Ankul\\\\AppData\\\\Local\\\\Programs\\\\Python\\\\Python310\\\\lib\\\\nltk_data'\n    - 'C:\\\\Users\\\\Ankul\\\\AppData\\\\Roaming\\\\nltk_data'\n    - 'C:\\\\nltk_data'\n    - 'D:\\\\nltk_data'\n    - 'E:\\\\nltk_data'\n    - ''\n**********************************************************************\n"
     ]
    }
   ],
   "source": [
    "print(nltk.word_tokenize(sent)) \n",
    "#Prints list of words ['India', 'is', 'a', 'republic', 'nation', '.', 'We', 'are', 'proud', 'Indians']\n"
   ]
  },
  {
   "cell_type": "code",
   "execution_count": 63,
   "id": "c02a1764",
   "metadata": {},
   "outputs": [
    {
     "ename": "LookupError",
     "evalue": "\n**********************************************************************\n  Resource \u001b[93mpunkt\u001b[0m not found.\n  Please use the NLTK Downloader to obtain the resource:\n\n  \u001b[31m>>> import nltk\n  >>> nltk.download('punkt')\n  \u001b[0m\n  For more information see: https://www.nltk.org/data.html\n\n  Attempted to load \u001b[93mtokenizers/punkt/english.pickle\u001b[0m\n\n  Searched in:\n    - 'C:\\\\Users\\\\Ankul/nltk_data'\n    - 'C:\\\\Users\\\\Ankul\\\\AppData\\\\Local\\\\Programs\\\\Python\\\\Python310\\\\nltk_data'\n    - 'C:\\\\Users\\\\Ankul\\\\AppData\\\\Local\\\\Programs\\\\Python\\\\Python310\\\\share\\\\nltk_data'\n    - 'C:\\\\Users\\\\Ankul\\\\AppData\\\\Local\\\\Programs\\\\Python\\\\Python310\\\\lib\\\\nltk_data'\n    - 'C:\\\\Users\\\\Ankul\\\\AppData\\\\Roaming\\\\nltk_data'\n    - 'C:\\\\nltk_data'\n    - 'D:\\\\nltk_data'\n    - 'E:\\\\nltk_data'\n    - ''\n**********************************************************************\n",
     "output_type": "error",
     "traceback": [
      "\u001b[1;31m---------------------------------------------------------------------------\u001b[0m",
      "\u001b[1;31mLookupError\u001b[0m                               Traceback (most recent call last)",
      "\u001b[1;32m~\\AppData\\Local\\Temp/ipykernel_9220/1913044640.py\u001b[0m in \u001b[0;36m<module>\u001b[1;34m\u001b[0m\n\u001b[1;32m----> 1\u001b[1;33m \u001b[0mprint\u001b[0m\u001b[1;33m(\u001b[0m\u001b[0mnltk\u001b[0m\u001b[1;33m.\u001b[0m\u001b[0mword_tokenize\u001b[0m\u001b[1;33m(\u001b[0m\u001b[0msent\u001b[0m\u001b[1;33m)\u001b[0m\u001b[1;33m)\u001b[0m\u001b[1;33m\u001b[0m\u001b[1;33m\u001b[0m\u001b[0m\n\u001b[0m\u001b[0;32m      2\u001b[0m \u001b[1;31m#Prints list of words ['India', 'is', 'a', 'republic', 'nation', '.', 'We', 'are', 'proud', 'Indians']\u001b[0m\u001b[1;33m\u001b[0m\u001b[1;33m\u001b[0m\u001b[0m\n",
      "\u001b[1;32m~\\AppData\\Local\\Programs\\Python\\Python310\\lib\\site-packages\\nltk\\tokenize\\__init__.py\u001b[0m in \u001b[0;36mword_tokenize\u001b[1;34m(text, language, preserve_line)\u001b[0m\n\u001b[0;32m    127\u001b[0m     \u001b[1;33m:\u001b[0m\u001b[0mtype\u001b[0m \u001b[0mpreserve_line\u001b[0m\u001b[1;33m:\u001b[0m \u001b[0mbool\u001b[0m\u001b[1;33m\u001b[0m\u001b[1;33m\u001b[0m\u001b[0m\n\u001b[0;32m    128\u001b[0m     \"\"\"\n\u001b[1;32m--> 129\u001b[1;33m     \u001b[0msentences\u001b[0m \u001b[1;33m=\u001b[0m \u001b[1;33m[\u001b[0m\u001b[0mtext\u001b[0m\u001b[1;33m]\u001b[0m \u001b[1;32mif\u001b[0m \u001b[0mpreserve_line\u001b[0m \u001b[1;32melse\u001b[0m \u001b[0msent_tokenize\u001b[0m\u001b[1;33m(\u001b[0m\u001b[0mtext\u001b[0m\u001b[1;33m,\u001b[0m \u001b[0mlanguage\u001b[0m\u001b[1;33m)\u001b[0m\u001b[1;33m\u001b[0m\u001b[1;33m\u001b[0m\u001b[0m\n\u001b[0m\u001b[0;32m    130\u001b[0m     return [\n\u001b[0;32m    131\u001b[0m         \u001b[0mtoken\u001b[0m \u001b[1;32mfor\u001b[0m \u001b[0msent\u001b[0m \u001b[1;32min\u001b[0m \u001b[0msentences\u001b[0m \u001b[1;32mfor\u001b[0m \u001b[0mtoken\u001b[0m \u001b[1;32min\u001b[0m \u001b[0m_treebank_word_tokenizer\u001b[0m\u001b[1;33m.\u001b[0m\u001b[0mtokenize\u001b[0m\u001b[1;33m(\u001b[0m\u001b[0msent\u001b[0m\u001b[1;33m)\u001b[0m\u001b[1;33m\u001b[0m\u001b[1;33m\u001b[0m\u001b[0m\n",
      "\u001b[1;32m~\\AppData\\Local\\Programs\\Python\\Python310\\lib\\site-packages\\nltk\\tokenize\\__init__.py\u001b[0m in \u001b[0;36msent_tokenize\u001b[1;34m(text, language)\u001b[0m\n\u001b[0;32m    104\u001b[0m     \u001b[1;33m:\u001b[0m\u001b[0mparam\u001b[0m \u001b[0mlanguage\u001b[0m\u001b[1;33m:\u001b[0m \u001b[0mthe\u001b[0m \u001b[0mmodel\u001b[0m \u001b[0mname\u001b[0m \u001b[1;32min\u001b[0m \u001b[0mthe\u001b[0m \u001b[0mPunkt\u001b[0m \u001b[0mcorpus\u001b[0m\u001b[1;33m\u001b[0m\u001b[1;33m\u001b[0m\u001b[0m\n\u001b[0;32m    105\u001b[0m     \"\"\"\n\u001b[1;32m--> 106\u001b[1;33m     \u001b[0mtokenizer\u001b[0m \u001b[1;33m=\u001b[0m \u001b[0mload\u001b[0m\u001b[1;33m(\u001b[0m\u001b[1;34mf\"tokenizers/punkt/{language}.pickle\"\u001b[0m\u001b[1;33m)\u001b[0m\u001b[1;33m\u001b[0m\u001b[1;33m\u001b[0m\u001b[0m\n\u001b[0m\u001b[0;32m    107\u001b[0m     \u001b[1;32mreturn\u001b[0m \u001b[0mtokenizer\u001b[0m\u001b[1;33m.\u001b[0m\u001b[0mtokenize\u001b[0m\u001b[1;33m(\u001b[0m\u001b[0mtext\u001b[0m\u001b[1;33m)\u001b[0m\u001b[1;33m\u001b[0m\u001b[1;33m\u001b[0m\u001b[0m\n\u001b[0;32m    108\u001b[0m \u001b[1;33m\u001b[0m\u001b[0m\n",
      "\u001b[1;32m~\\AppData\\Local\\Programs\\Python\\Python310\\lib\\site-packages\\nltk\\data.py\u001b[0m in \u001b[0;36mload\u001b[1;34m(resource_url, format, cache, verbose, logic_parser, fstruct_reader, encoding)\u001b[0m\n\u001b[0;32m    748\u001b[0m \u001b[1;33m\u001b[0m\u001b[0m\n\u001b[0;32m    749\u001b[0m     \u001b[1;31m# Load the resource.\u001b[0m\u001b[1;33m\u001b[0m\u001b[1;33m\u001b[0m\u001b[0m\n\u001b[1;32m--> 750\u001b[1;33m     \u001b[0mopened_resource\u001b[0m \u001b[1;33m=\u001b[0m \u001b[0m_open\u001b[0m\u001b[1;33m(\u001b[0m\u001b[0mresource_url\u001b[0m\u001b[1;33m)\u001b[0m\u001b[1;33m\u001b[0m\u001b[1;33m\u001b[0m\u001b[0m\n\u001b[0m\u001b[0;32m    751\u001b[0m \u001b[1;33m\u001b[0m\u001b[0m\n\u001b[0;32m    752\u001b[0m     \u001b[1;32mif\u001b[0m \u001b[0mformat\u001b[0m \u001b[1;33m==\u001b[0m \u001b[1;34m\"raw\"\u001b[0m\u001b[1;33m:\u001b[0m\u001b[1;33m\u001b[0m\u001b[1;33m\u001b[0m\u001b[0m\n",
      "\u001b[1;32m~\\AppData\\Local\\Programs\\Python\\Python310\\lib\\site-packages\\nltk\\data.py\u001b[0m in \u001b[0;36m_open\u001b[1;34m(resource_url)\u001b[0m\n\u001b[0;32m    874\u001b[0m \u001b[1;33m\u001b[0m\u001b[0m\n\u001b[0;32m    875\u001b[0m     \u001b[1;32mif\u001b[0m \u001b[0mprotocol\u001b[0m \u001b[1;32mis\u001b[0m \u001b[1;32mNone\u001b[0m \u001b[1;32mor\u001b[0m \u001b[0mprotocol\u001b[0m\u001b[1;33m.\u001b[0m\u001b[0mlower\u001b[0m\u001b[1;33m(\u001b[0m\u001b[1;33m)\u001b[0m \u001b[1;33m==\u001b[0m \u001b[1;34m\"nltk\"\u001b[0m\u001b[1;33m:\u001b[0m\u001b[1;33m\u001b[0m\u001b[1;33m\u001b[0m\u001b[0m\n\u001b[1;32m--> 876\u001b[1;33m         \u001b[1;32mreturn\u001b[0m \u001b[0mfind\u001b[0m\u001b[1;33m(\u001b[0m\u001b[0mpath_\u001b[0m\u001b[1;33m,\u001b[0m \u001b[0mpath\u001b[0m \u001b[1;33m+\u001b[0m \u001b[1;33m[\u001b[0m\u001b[1;34m\"\"\u001b[0m\u001b[1;33m]\u001b[0m\u001b[1;33m)\u001b[0m\u001b[1;33m.\u001b[0m\u001b[0mopen\u001b[0m\u001b[1;33m(\u001b[0m\u001b[1;33m)\u001b[0m\u001b[1;33m\u001b[0m\u001b[1;33m\u001b[0m\u001b[0m\n\u001b[0m\u001b[0;32m    877\u001b[0m     \u001b[1;32melif\u001b[0m \u001b[0mprotocol\u001b[0m\u001b[1;33m.\u001b[0m\u001b[0mlower\u001b[0m\u001b[1;33m(\u001b[0m\u001b[1;33m)\u001b[0m \u001b[1;33m==\u001b[0m \u001b[1;34m\"file\"\u001b[0m\u001b[1;33m:\u001b[0m\u001b[1;33m\u001b[0m\u001b[1;33m\u001b[0m\u001b[0m\n\u001b[0;32m    878\u001b[0m         \u001b[1;31m# urllib might not use mode='rb', so handle this one ourselves:\u001b[0m\u001b[1;33m\u001b[0m\u001b[1;33m\u001b[0m\u001b[0m\n",
      "\u001b[1;32m~\\AppData\\Local\\Programs\\Python\\Python310\\lib\\site-packages\\nltk\\data.py\u001b[0m in \u001b[0;36mfind\u001b[1;34m(resource_name, paths)\u001b[0m\n\u001b[0;32m    581\u001b[0m     \u001b[0msep\u001b[0m \u001b[1;33m=\u001b[0m \u001b[1;34m\"*\"\u001b[0m \u001b[1;33m*\u001b[0m \u001b[1;36m70\u001b[0m\u001b[1;33m\u001b[0m\u001b[1;33m\u001b[0m\u001b[0m\n\u001b[0;32m    582\u001b[0m     \u001b[0mresource_not_found\u001b[0m \u001b[1;33m=\u001b[0m \u001b[1;34mf\"\\n{sep}\\n{msg}\\n{sep}\\n\"\u001b[0m\u001b[1;33m\u001b[0m\u001b[1;33m\u001b[0m\u001b[0m\n\u001b[1;32m--> 583\u001b[1;33m     \u001b[1;32mraise\u001b[0m \u001b[0mLookupError\u001b[0m\u001b[1;33m(\u001b[0m\u001b[0mresource_not_found\u001b[0m\u001b[1;33m)\u001b[0m\u001b[1;33m\u001b[0m\u001b[1;33m\u001b[0m\u001b[0m\n\u001b[0m\u001b[0;32m    584\u001b[0m \u001b[1;33m\u001b[0m\u001b[0m\n\u001b[0;32m    585\u001b[0m \u001b[1;33m\u001b[0m\u001b[0m\n",
      "\u001b[1;31mLookupError\u001b[0m: \n**********************************************************************\n  Resource \u001b[93mpunkt\u001b[0m not found.\n  Please use the NLTK Downloader to obtain the resource:\n\n  \u001b[31m>>> import nltk\n  >>> nltk.download('punkt')\n  \u001b[0m\n  For more information see: https://www.nltk.org/data.html\n\n  Attempted to load \u001b[93mtokenizers/punkt/english.pickle\u001b[0m\n\n  Searched in:\n    - 'C:\\\\Users\\\\Ankul/nltk_data'\n    - 'C:\\\\Users\\\\Ankul\\\\AppData\\\\Local\\\\Programs\\\\Python\\\\Python310\\\\nltk_data'\n    - 'C:\\\\Users\\\\Ankul\\\\AppData\\\\Local\\\\Programs\\\\Python\\\\Python310\\\\share\\\\nltk_data'\n    - 'C:\\\\Users\\\\Ankul\\\\AppData\\\\Local\\\\Programs\\\\Python\\\\Python310\\\\lib\\\\nltk_data'\n    - 'C:\\\\Users\\\\Ankul\\\\AppData\\\\Roaming\\\\nltk_data'\n    - 'C:\\\\nltk_data'\n    - 'D:\\\\nltk_data'\n    - 'E:\\\\nltk_data'\n    - ''\n**********************************************************************\n"
     ]
    }
   ],
   "source": [
    "print(nltk.word_tokenize(sent)) \n",
    "#Prints list of words ['India', 'is', 'a', 'republic', 'nation', '.', 'We', 'are', 'proud', 'Indians']\n"
   ]
  },
  {
   "cell_type": "code",
   "execution_count": 65,
   "id": "bc830fb6",
   "metadata": {},
   "outputs": [
    {
     "name": "stdout",
     "output_type": "stream",
     "text": [
      "['India', 'is', 'a', 'republic', 'nation', '.', 'We', 'are', 'proud', 'Indians']\n"
     ]
    }
   ],
   "source": [
    "print(nltk.word_tokenize(sent)) \n",
    "#Prints list of words ['India', 'is', 'a', 'republic', 'nation', '.', 'We', 'are', 'proud', 'Indians']\n"
   ]
  },
  {
   "cell_type": "code",
   "execution_count": 68,
   "id": "53cb7ff2",
   "metadata": {},
   "outputs": [
    {
     "name": "stdout",
     "output_type": "stream",
     "text": [
      "['.', 'India', 'Indians', 'We', 'a', 'are', 'is', 'nation', 'proud', 'republic']\n"
     ]
    }
   ],
   "source": [
    "tokens = nltk.word_tokenize(sent)\n",
    "vocab = sorted(set(tokens))\n",
    "print(vocab) #Prints ['.', 'India', 'Indians', 'We', 'a', 'are', 'country', 'is', 'proud', 'republic']\n"
   ]
  },
  {
   "cell_type": "code",
   "execution_count": 73,
   "id": "c095dc10",
   "metadata": {
    "scrolled": true
   },
   "outputs": [
    {
     "ename": "SyntaxError",
     "evalue": "invalid non-printable character U+00A0 (Temp/ipykernel_9220/304870912.py, line 6)",
     "output_type": "error",
     "traceback": [
      "\u001b[1;36m  File \u001b[1;32m\"C:\\Users\\Ankul\\AppData\\Local\\Temp/ipykernel_9220/304870912.py\"\u001b[1;36m, line \u001b[1;32m6\u001b[0m\n\u001b[1;33m    \u001b[0m\n\u001b[1;37m    ^\u001b[0m\n\u001b[1;31mSyntaxError\u001b[0m\u001b[1;31m:\u001b[0m invalid non-printable character U+00A0\n"
     ]
    }
   ],
   "source": [
    "from string import punctuation\n",
    "vocab_wo_punct=[]\n",
    "for i in vocab:\n",
    "    if i not in punctuation:\n",
    "        vocab_wo_punct.append(i)\n",
    "        \n",
    "print(vocab_wo_punct) #Prints ['India', 'Indians', 'We', 'a', 'are', 'country', 'is', 'proud', 'republ\n"
   ]
  },
  {
   "cell_type": "code",
   "execution_count": 74,
   "id": "a25341e1",
   "metadata": {},
   "outputs": [
    {
     "ename": "SyntaxError",
     "evalue": "invalid non-printable character U+00A0 (Temp/ipykernel_9220/306455409.py, line 5)",
     "output_type": "error",
     "traceback": [
      "\u001b[1;36m  File \u001b[1;32m\"C:\\Users\\Ankul\\AppData\\Local\\Temp/ipykernel_9220/306455409.py\"\u001b[1;36m, line \u001b[1;32m5\u001b[0m\n\u001b[1;33m    vocab_wo_punct.append(i)\u001b[0m\n\u001b[1;37m    ^\u001b[0m\n\u001b[1;31mSyntaxError\u001b[0m\u001b[1;31m:\u001b[0m invalid non-printable character U+00A0\n"
     ]
    }
   ],
   "source": [
    "from string import punctuation\n",
    "vocab_wo_punct=[]\n",
    "for i in vocab:\n",
    "    if i not in punctuation:\n",
    "        vocab_wo_punct.append(i)\n",
    "print(vocab_wo_punct) #Prints ['India', 'Indians', 'We', 'a', 'are', 'country', 'is', 'proud', 'republ\n"
   ]
  },
  {
   "cell_type": "code",
   "execution_count": 93,
   "id": "a8a422dc",
   "metadata": {},
   "outputs": [
    {
     "name": "stdout",
     "output_type": "stream",
     "text": [
      "['India', 'Indians', 'We', 'a', 'are', 'is', 'nation', 'proud', 'republic']\n"
     ]
    }
   ],
   "source": [
    "from string import punctuation\n",
    "vocab_wo_punct=[]\n",
    "for i in vocab:\n",
    "    if i not in punctuation:\n",
    "        vocab_wo_punct.append(i)\n",
    "print(vocab_wo_punct) \n",
    "#Prints ['India', 'Indians', 'We', 'a', 'are', 'country', 'is', 'proud', 'republ\n"
   ]
  },
  {
   "cell_type": "code",
   "execution_count": 91,
   "id": "b0a0faea",
   "metadata": {},
   "outputs": [
    {
     "name": "stdout",
     "output_type": "stream",
     "text": [
      "[('India', 'NNP'), ('Indians', 'NNPS'), ('We', 'PRP'), ('a', 'DT'), ('are', 'VBP'), ('is', 'VBZ'), ('nation', 'NN'), ('proud', 'JJ'), ('republic', 'NN')]\n"
     ]
    },
    {
     "data": {
      "text/plain": [
       "\" Prints [('India', 'NNP'), ('Indians', 'NNPS'), ('We', 'PRP'), ('a', 'DT'), \\n\\xa0           ('are', 'VBP'), ('country', 'NN'), ('is', 'VBZ'), ('proud', 'JJ'), \\n            ('republic', 'JJ'), ('India', 'NNP')]\\xa0\""
      ]
     },
     "execution_count": 91,
     "metadata": {},
     "output_type": "execute_result"
    }
   ],
   "source": [
    "from nltk import pos_tag\n",
    "pos_list = pos_tag(vocab_wo_punct)\n",
    "print(pos_list)\n",
    "\"\"\" Prints [('India', 'NNP'), ('Indians', 'NNPS'), ('We', 'PRP'), ('a', 'DT'), \n",
    "            ('are', 'VBP'), ('country', 'NN'), ('is', 'VBZ'), ('proud', 'JJ'), \n",
    "            ('republic', 'JJ'), ('India', 'NNP')] \"\"\"\n"
   ]
  },
  {
   "cell_type": "code",
   "execution_count": 105,
   "id": "b7895c9d",
   "metadata": {},
   "outputs": [
    {
     "ename": "NameError",
     "evalue": "name 'vocab_no_punct' is not defined",
     "output_type": "error",
     "traceback": [
      "\u001b[1;31m---------------------------------------------------------------------------\u001b[0m",
      "\u001b[1;31mNameError\u001b[0m                                 Traceback (most recent call last)",
      "\u001b[1;32m~\\AppData\\Local\\Temp/ipykernel_9220/2972156881.py\u001b[0m in \u001b[0;36m<module>\u001b[1;34m\u001b[0m\n\u001b[0;32m      5\u001b[0m \u001b[0mstemmed_vocab\u001b[0m\u001b[1;33m=\u001b[0m\u001b[1;33m[\u001b[0m\u001b[1;33m]\u001b[0m\u001b[1;33m\u001b[0m\u001b[1;33m\u001b[0m\u001b[0m\n\u001b[0;32m      6\u001b[0m \u001b[0mstemObj\u001b[0m \u001b[1;33m=\u001b[0m \u001b[0mSnowballStemmer\u001b[0m\u001b[1;33m(\u001b[0m\u001b[1;34m\"english\"\u001b[0m\u001b[1;33m)\u001b[0m\u001b[1;33m\u001b[0m\u001b[1;33m\u001b[0m\u001b[0m\n\u001b[1;32m----> 7\u001b[1;33m \u001b[1;32mfor\u001b[0m \u001b[0mi\u001b[0m \u001b[1;32min\u001b[0m \u001b[0mvocab_no_punct\u001b[0m\u001b[1;33m:\u001b[0m\u001b[1;33m\u001b[0m\u001b[1;33m\u001b[0m\u001b[0m\n\u001b[0m\u001b[0;32m      8\u001b[0m     \u001b[0mstemmed_vocab\u001b[0m\u001b[1;33m.\u001b[0m\u001b[0mappend\u001b[0m\u001b[1;33m(\u001b[0m\u001b[0mstemObj\u001b[0m\u001b[1;33m.\u001b[0m\u001b[0mstem\u001b[0m\u001b[1;33m(\u001b[0m\u001b[0mi\u001b[0m\u001b[1;33m)\u001b[0m\u001b[1;33m)\u001b[0m\u001b[1;33m\u001b[0m\u001b[1;33m\u001b[0m\u001b[0m\n\u001b[0;32m      9\u001b[0m \u001b[0mprint\u001b[0m\u001b[1;33m(\u001b[0m\u001b[0mstemmed_vocab\u001b[0m\u001b[1;33m)\u001b[0m\u001b[1;33m\u001b[0m\u001b[1;33m\u001b[0m\u001b[0m\n",
      "\u001b[1;31mNameError\u001b[0m: name 'vocab_no_punct' is not defined"
     ]
    }
   ],
   "source": [
    "from nltk.stem.snowball import SnowballStemmer\n",
    "stemObj = SnowballStemmer(\"english\")\n",
    "stemObj.stem(\"Studying\") #Prints 'studi'\n",
    " \n",
    "stemmed_vocab=[]\n",
    "stemObj = SnowballStemmer(\"english\")\n",
    "for i in vocab_no_punct:\n",
    "    stemmed_vocab.append(stemObj.stem(i))\n",
    "print(stemmed_vocab)"
   ]
  },
  {
   "cell_type": "code",
   "execution_count": 97,
   "id": "02419cf2",
   "metadata": {},
   "outputs": [
    {
     "ename": "SyntaxError",
     "evalue": "invalid non-printable character U+00A0 (Temp/ipykernel_9220/1323007946.py, line 2)",
     "output_type": "error",
     "traceback": [
      "\u001b[1;36m  File \u001b[1;32m\"C:\\Users\\Ankul\\AppData\\Local\\Temp/ipykernel_9220/1323007946.py\"\u001b[1;36m, line \u001b[1;32m2\u001b[0m\n\u001b[1;33m    lemmaObj =  WordNetLemmatizer()\u001b[0m\n\u001b[1;37m               ^\u001b[0m\n\u001b[1;31mSyntaxError\u001b[0m\u001b[1;31m:\u001b[0m invalid non-printable character U+00A0\n"
     ]
    }
   ],
   "source": [
    "from nltk.stem.wordnet import WordNetLemmatizer\n",
    "lemmaObj =  WordNetLemmatizer()\n",
    "lemmaObj.lemmatize(\"went\",pos='v')  #Prints 'go'\n"
   ]
  },
  {
   "cell_type": "code",
   "execution_count": 102,
   "id": "49c3ad4c",
   "metadata": {
    "scrolled": false
   },
   "outputs": [
    {
     "ename": "SyntaxError",
     "evalue": "invalid non-printable character U+00A0 (Temp/ipykernel_9220/3222089043.py, line 3)",
     "output_type": "error",
     "traceback": [
      "\u001b[1;36m  File \u001b[1;32m\"C:\\Users\\Ankul\\AppData\\Local\\Temp/ipykernel_9220/3222089043.py\"\u001b[1;36m, line \u001b[1;32m3\u001b[0m\n\u001b[1;33m    print(lemmaObj.lemmatize(\"went\",pos='v') ) #Prints 'go'\u001b[0m\n\u001b[1;37m                                            ^\u001b[0m\n\u001b[1;31mSyntaxError\u001b[0m\u001b[1;31m:\u001b[0m invalid non-printable character U+00A0\n"
     ]
    }
   ],
   "source": [
    "from nltk.stem.wordnet import WordNetLemmatizer\n",
    "lemmaObj =WordNetLemmatizer()\n",
    "lemmaObj.lemmatize(\"went\",pos='v')  #Prints 'go'\n"
   ]
  },
  {
   "cell_type": "code",
   "execution_count": 104,
   "id": "ed77c865",
   "metadata": {},
   "outputs": [
    {
     "ename": "NameError",
     "evalue": "name 'vocab_no_punct' is not defined",
     "output_type": "error",
     "traceback": [
      "\u001b[1;31m---------------------------------------------------------------------------\u001b[0m",
      "\u001b[1;31mNameError\u001b[0m                                 Traceback (most recent call last)",
      "\u001b[1;32m~\\AppData\\Local\\Temp/ipykernel_9220/3528606503.py\u001b[0m in \u001b[0;36m<module>\u001b[1;34m\u001b[0m\n\u001b[0;32m      2\u001b[0m \u001b[0mwo_stop_words\u001b[0m \u001b[1;33m=\u001b[0m \u001b[1;33m[\u001b[0m\u001b[1;33m]\u001b[0m\u001b[1;33m\u001b[0m\u001b[1;33m\u001b[0m\u001b[0m\n\u001b[0;32m      3\u001b[0m \u001b[0mstop_words_set\u001b[0m \u001b[1;33m=\u001b[0m \u001b[0mset\u001b[0m\u001b[1;33m(\u001b[0m\u001b[0mstopwords\u001b[0m\u001b[1;33m.\u001b[0m\u001b[0mwords\u001b[0m\u001b[1;33m(\u001b[0m\u001b[1;34m\"english\"\u001b[0m\u001b[1;33m)\u001b[0m\u001b[1;33m)\u001b[0m\u001b[1;33m\u001b[0m\u001b[1;33m\u001b[0m\u001b[0m\n\u001b[1;32m----> 4\u001b[1;33m \u001b[1;32mfor\u001b[0m \u001b[0mi\u001b[0m \u001b[1;32min\u001b[0m \u001b[0mvocab_no_punct\u001b[0m\u001b[1;33m:\u001b[0m\u001b[1;33m\u001b[0m\u001b[1;33m\u001b[0m\u001b[0m\n\u001b[0m\u001b[0;32m      5\u001b[0m     \u001b[1;32mif\u001b[0m \u001b[0mi\u001b[0m \u001b[1;32mnot\u001b[0m \u001b[1;32min\u001b[0m \u001b[0mstop_words_set\u001b[0m\u001b[1;33m:\u001b[0m\u001b[1;33m\u001b[0m\u001b[1;33m\u001b[0m\u001b[0m\n\u001b[0;32m      6\u001b[0m         \u001b[0mwo_stop_words\u001b[0m\u001b[1;33m.\u001b[0m\u001b[0mappend\u001b[0m\u001b[1;33m(\u001b[0m\u001b[0mi\u001b[0m\u001b[1;33m)\u001b[0m\u001b[1;33m\u001b[0m\u001b[1;33m\u001b[0m\u001b[0m\n",
      "\u001b[1;31mNameError\u001b[0m: name 'vocab_no_punct' is not defined"
     ]
    }
   ],
   "source": [
    "from nltk.corpus import stopwords\n",
    "wo_stop_words = []\n",
    "stop_words_set = set(stopwords.words(\"english\"))\n",
    "for i in vocab_no_punct:\n",
    "    if i not in stop_words_set:\n",
    "        wo_stop_words.append(i)\n",
    "print(wo_stop_words)"
   ]
  },
  {
   "cell_type": "code",
   "execution_count": 111,
   "id": "b3df5212",
   "metadata": {},
   "outputs": [],
   "source": [
    "import nltk\n",
    "import string\n",
    "from nltk import word_tokenize\n",
    "from nltk import wordpunct_tokenize\n",
    "from nltk.corpus import stopwords\n",
    "from string import punctuation\n",
    "from nltk.stem.snowball import SnowballStemmer\n",
    "from nltk.stem.wordnet import WordNetLemmatizer\n",
    "from nltk import pos_tag\n",
    "#read the file \n",
    "#Note: use the correct path of the file depending on your environment\n",
    "file = open(r\"D:\\\\Desktop\\\\code\\nlp_wikipedia_sample.txt\",'r') \n",
    "text = ''\n",
    "for i in file.readlines():\n",
    "    text += i\n",
    "#print(text)"
   ]
  },
  {
   "cell_type": "code",
   "execution_count": 113,
   "id": "4178c9b8",
   "metadata": {},
   "outputs": [
    {
     "name": "stdout",
     "output_type": "stream",
     "text": [
      "-(6500 + 3200) talol loss amount =  (9700) date 10/12/2023.From Wikipedia, the free encyclopedia\n",
      "For other uses, see NLP.\n",
      "This article is about natural language processing done by computers. For the natural language processing done by the human brain, see Language processing in the brain.\n",
      "Natural language processing (NLP) is an interdisciplinary subfield of computer science and linguistics. It is primarily concerned with giving computers the ability to support and manipulate human language. It involves processing natural language datasets, such as text corpora or speech corpora, using either rule-based or probabilistic (i.e. statistical and, most recently, neural network-based) machine learning approaches. The goal is a computer capable of \"understanding\" the contents of documents, including the contextual nuances of the language within them. The technology can then accurately extract information and insights contained in the documents as well as categorize and organize the documents themselves.\n",
      "\n",
      "Challenges in natural language processing frequently involve speech recognition, natural-language understanding, and natural-language generation.\n",
      "\n",
      "History\n",
      "Further information: History of natural language processing\n",
      "Natural language processing has its roots in the 1940s.[1] Already in 1940, Alan Turing published an article titled \"Computing Machinery and Intelligence\" which proposed what is now called the Turing test as a criterion of intelligence, though at the time that was not articulated as a problem separate from artificial intelligence. The proposed test includes a task that involves the automated interpretation and generation of natural language.\n",
      "\n",
      "Symbolic NLP (1950s â€“ early 1990s)\n",
      "The premise of symbolic NLP is well-summarized by John Searle's Chinese room experiment: Given a collection of rules (e.g., a Chinese phrasebook, with questions and matching answers), the computer emulates natural language understanding (or other NLP tasks) by applying those rules to the data it confronts.\n",
      "\n",
      "1950s: The Georgetown experiment in 1954 involved fully automatic translation of more than sixty Russian sentences into English. The authors claimed that within three or five years, machine translation would be a solved problem.[2] However, real progress was much slower, and after the ALPAC report in 1966, which found that ten-year-long research had failed to fulfill the expectations, funding for machine translation was dramatically reduced. Little further research in machine translation was conducted in America (though some research continued elsewhere, such as Japan and Europe[3]) until the late 1980s when the first statistical machine translation systems were developed.\n",
      "1960s: Some notably successful natural language processing systems developed in the 1960s were SHRDLU, a natural language system working in restricted \"blocks worlds\" with restricted vocabularies, and ELIZA, a simulation of a Rogerian psychotherapist, written by Joseph Weizenbaum between 1964 and 1966. Using almost no information about human thought or emotion, ELIZA sometimes provided a startlingly human-like interaction. When the \"patient\" exceeded the very small knowledge base, ELIZA might provide a generic response, for example, responding to \"My head hurts\" with \"Why do you say your head hurts?\". Ross Quillian's successful work on natural language was demonstrated with a vocabulary of only twenty words, because that was all that would fit in a computer memory at the time.[4]\n",
      "1970s: During the 1970s, many programmers began to write \"conceptual ontologies\", which structured real-world information into computer-understandable data. Examples are MARGIE (Schank, 1975), SAM (Cullingford, 1978), PAM (Wilensky, 1978), TaleSpin (Meehan, 1976), QUALM (Lehnert, 1977), Politics (Carbonell, 1979), and Plot Units (Lehnert 1981). During this time, the first chatterbots were written (e.g., PARRY).\n",
      "1980s: The 1980s and early 1990s mark the heyday of symbolic methods in NLP. Focus areas of the time included research on rule-based parsing (e.g., the development of HPSG as a computational operationalization of generative grammar), morphology (e.g., two-level morphology[5]), semantics (e.g., Lesk algorithm), reference (e.g., within Centering Theory[6]) and other areas of natural language understanding (e.g., in the Rhetorical Structure Theory). Other lines of research were continued, e.g., the development of chatterbots with Racter and Jabberwacky. An important development (that eventually led to the statistical turn in the 1990s) was the rising importance of quantitative evaluation in this period.[7]\n",
      "Statistical NLP (1990sâ€“2010s)\n",
      "Up until the 1980s, most natural language processing systems were based on complex sets of hand-written rules. Starting in the late 1980s, however, there was a revolution in natural language processing with the introduction of machine learning algorithms for language processing. This was due to both the steady increase in computational power (see Moore's law) and the gradual lessening of the dominance of Chomskyan theories of linguistics (e.g. transformational grammar), whose theoretical underpinnings discouraged the sort of corpus linguistics that underlies the machine-learning approach to language processing.[8]\n",
      "\n",
      "1990s: Many of the notable early successes on statistical methods in NLP occurred in the field of machine translation, due especially to work at IBM Research, such as IBM alignment models. These systems were able to take advantage of existing multilingual textual corpora that had been produced by the Parliament of Canada and the European Union as a result of laws calling for the translation of all governmental proceedings into all official languages of the corresponding systems of government. However, most other systems depended on corpora specifically developed for the tasks implemented by these systems, which was (and often continues to be) a major limitation in the success of these systems. As a result, a great deal of research has gone into methods of more effectively learning from limited amounts of data.\n",
      "2000s: With the growth of the web, increasing amounts of raw (unannotated) language data has become available since the mid-1990s. Research has thus increasingly focused on unsupervised and semi-supervised learning algorithms. Such algorithms can learn from data that has not been hand-annotated with the desired answers or using a combination of annotated and non-annotated data. Generally, this task is much more difficult than supervised learning, and typically produces less accurate results for a given amount of input data. However, there is an enormous amount of non-annotated data available (including, among other things, the entire content of the World Wide Web), which can often make up for the inferior results if the algorithm used has a low enough time complexity to be practical.\n",
      "Neural NLP (present)\n",
      "In 2003, word n-gram model, at the time the best statistical algorithm, was overperformed by a multi-layer perceptron (with a single hidden layer and context length of several words trained on up to 14 million of words with a CPU cluster in language modelling) by Yoshua Bengio with co-authors.[9]\n",
      "\n",
      "In 2010, TomÃ¡Å¡ Mikolov (then a PhD student at Brno University of Technology) with co-authors applied a simple recurrent neural network with a single hidden layer to language modelling,[10] and in the following years he went on to develop Word2vec. In the 2010s, representation learning and deep neural network-style (featuring many hidden layers) machine learning methods became widespread in natural language processing. That popularity was due partly to a flurry of results showing that such techniques[11][12] can achieve state-of-the-art results in many natural language tasks, e.g., in language modeling[13] and parsing.[14][15] This is increasingly important in medicine and healthcare, where NLP helps analyze notes and text in electronic health records that would otherwise be inaccessible for study when seeking to improve care[16] or protect patient privacy.[17]\n",
      "\n",
      "\n",
      "Approaches: Symbolic, statistical, neural networks\n",
      "Symbolic approach, i.e., the hand-coding of a set of rules for manipulating symbols, coupled with a dictionary lookup, was historically the first approach used both by AI in general and by NLP in particular:[18][19] such as by writing grammars or devising heuristic rules for stemming.\n",
      "\n",
      "Machine learning approaches, which include both statistical and neural networks, on the other hand, have many advantages over the symbolic approach:\n",
      "\n",
      "both statistical and neural networks methods can focus more on the most common cases extracted from a corpus of texts, whereas the rule-based approach needs to provide rules for both rare cases and common ones equally.\n",
      "language models, produced by either statistical or neural networks methods, are more robust to both unfamiliar (e.g. containing words or structures that have not been seen before) and erroneous input (e.g. with misspelled words or words accidentally omitted) in comparison to the rule-based systems, which are also more costly to produce.\n",
      "the larger such a (probabilistic) language model is, the more accurate it becomes, in contrast to rule-based systems that can gain accuracy only by increasing the amount and complexity of the rules leading to intractability problems.\n",
      "Although rule-based systems for manipulating symbols were still in use in 2020, they have become mostly obsolete with the advance of LLMs in 2023.\n",
      "\n",
      "Before that they were commonly used:\n",
      "\n",
      "when the amount of training data is insufficient to successfully apply machine learning methods, e.g., for the machine translation of low-resource languages such as provided by the Apertium system,\n",
      "for preprocessing in NLP pipelines, e.g., tokenization, or\n",
      "for postprocessing and transforming the output of NLP pipelines, e.g., for knowledge extraction from syntactic parses.\n",
      "Statistical approach\n",
      "In the late 1980s and mid-1990s, the statistical approach ended a period of AI winter, which was caused by the inefficiencies of the rule-based approaches.[20][21]\n",
      "\n",
      "The earliest decision trees, producing systems of hard ifâ€“then rules, were still very similar to the old rule-based approaches. Only the introduction of hidden Markov models, applied to part-of-speech tagging, announced the end of the old rule-based approach.\n",
      "\n",
      "Neural networks\n",
      "Further information: Artificial neural network\n",
      "A major drawback of statistical methods is that they require elaborate feature engineering. Since 2015,[22] the statistical approach was replaced by the neural networks approach, using word embeddings to capture semantic properties of words.\n",
      "\n",
      "Intermediate tasks (e.g., part-of-speech tagging and dependency parsing) have not been needed anymore.\n",
      "\n",
      "Neural machine translation, based on then-newly-invented sequence-to-sequence transformations, made obsolete the intermediate steps, such as word alignment, previously necessary for statistical machine translation.\n",
      "\n",
      "Common NLP tasks\n",
      "The following is a list of some of the most commonly researched tasks in natural language processing. Some of these tasks have direct real-world applications, while others more commonly serve as subtasks that are used to aid in solving larger tasks.\n",
      "\n",
      "Though natural language processing tasks are closely intertwined, they can be subdivided into categories for convenience. A coarse division is given below.\n",
      "\n",
      "Text and speech processing\n",
      "Optical character recognition (OCR)\n",
      "Given an image representing printed text, determine the corresponding text.\n",
      "Speech recognition\n",
      "Given a sound clip of a person or people speaking, determine the textual representation of the speech. This is the opposite of text to speech and is one of the extremely difficult problems colloquially termed \"AI-complete\" (see above). In natural speech there are hardly any pauses between successive words, and thus speech segmentation is a necessary subtask of speech recognition (see below). In most spoken languages, the sounds representing successive letters blend into each other in a process termed coarticulation, so the conversion of the analog signal to discrete characters can be a very difficult process. Also, given that words in the same language are spoken by people with different accents, the speech recognition software must be able to recognize the wide variety of input as being identical to each other in terms of its textual equivalent.\n",
      "Speech segmentation\n",
      "Given a sound clip of a person or people speaking, separate it into words. A subtask of speech recognition and typically grouped with it.\n",
      "Text-to-speech\n",
      "Given a text, transform those units and produce a spoken representation. Text-to-speech can be used to aid the visually impaired.[23]\n",
      "Word segmentation (Tokenization)\n",
      "Separate a chunk of continuous text into separate words. For a language like English, this is fairly trivial, since words are usually separated by spaces. However, some written languages like Chinese, Japanese and Thai do not mark word boundaries in such a fashion, and in those languages text segmentation is a significant task requiring knowledge of the vocabulary and morphology of words in the language. Sometimes this process is also used in cases like bag of words (BOW) creation in data mining.\n",
      "Morphological analysis\n",
      "Lemmatization\n",
      "The task of removing inflectional endings only and to return the base dictionary form of a word which is also known as a lemma. Lemmatization is another technique for reducing words to their normalized form. But in this case, the transformation actually uses a dictionary to map words to their actual form.[24]\n",
      "Morphological segmentation\n",
      "Separate words into individual morphemes and identify the class of the morphemes. The difficulty of this task depends greatly on the complexity of the morphology (i.e., the structure of words) of the language being considered. English has fairly simple morphology, especially inflectional morphology, and thus it is often possible to ignore this task entirely and simply model all possible forms of a word (e.g., \"open, opens, opened, opening\") as separate words. In languages such as Turkish or Meitei, a highly agglutinated Indian language, however, such an approach is not possible, as each dictionary entry has thousands of possible word forms.[25]\n",
      "Part-of-speech tagging\n",
      "Given a sentence, determine the part of speech (POS) for each word. Many words, especially common ones, can serve as multiple parts of speech. For example, \"book\" can be a noun (\"the book on the table\") or verb (\"to book a flight\"); \"set\" can be a noun, verb or adjective; and \"out\" can be any of at least five different parts of speech.\n",
      "Stemming\n",
      "The process of reducing inflected (or sometimes derived) words to a base form (e.g., \"close\" will be the root for \"closed\", \"closing\", \"close\", \"closer\" etc.). Stemming yields similar results as lemmatization, but does so on grounds of rules, not a dictionary.\n",
      "Syntactic analysis\n",
      "Grammar induction[26]\n",
      "Generate a formal grammar that describes a language's syntax.\n",
      "Sentence breaking (also known as \"sentence boundary disambiguation\")\n",
      "Given a chunk of text, find the sentence boundaries. Sentence boundaries are often marked by periods or other punctuation marks, but these same characters can serve other purposes (e.g., marking abbreviations).\n",
      "Parsing\n",
      "Determine the parse tree (grammatical analysis) of a given sentence. The grammar for natural languages is ambiguous and typical sentences have multiple possible analyses: perhaps surprisingly, for a typical sentence there may be thousands of potential parses (most of which will seem completely nonsensical to a human). There are two primary types of parsing: dependency parsing and constituency parsing. Dependency parsing focuses on the relationships between words in a sentence (marking things like primary objects and predicates), whereas constituency parsing focuses on building out the parse tree using a probabilistic context-free grammar (PCFG) (see also stochastic grammar).\n",
      "Lexical semantics (of individual words in context)\n",
      "Lexical semantics\n",
      "What is the computational meaning of individual words in context?\n",
      "Distributional semantics\n",
      "How can we learn semantic representations from data?\n",
      "Named entity recognition (NER)\n",
      "Given a stream of text, determine which items in the text map to proper names, such as people or places, and what the type of each such name is (e.g. person, location, organization). Although capitalization can aid in recognizing named entities in languages such as English, this information cannot aid in determining the type of named entity, and in any case, is often inaccurate or insufficient. For example, the first letter of a sentence is also capitalized, and named entities often span several words, only some of which are capitalized. Furthermore, many other languages in non-Western scripts (e.g. Chinese or Arabic) do not have any capitalization at all, and even languages with capitalization may not consistently use it to distinguish names. For example, German capitalizes all nouns, regardless of whether they are names, and French and Spanish do not capitalize names that serve as adjectives. Another name for this task is token classification.[27]\n",
      "Sentiment analysis (see also Multimodal sentiment analysis)\n",
      "Extract subjective information usually from a set of documents, often using online reviews to determine \"polarity\" about specific objects. It is especially useful for identifying trends of public opinion in social media, for marketing.\n",
      "Terminology extraction\n",
      "The goal of terminology extraction is to automatically extract relevant terms from a given corpus.\n",
      "Word-sense disambiguation (WSD)\n",
      "Many words have more than one meaning; we have to select the meaning which makes the most sense in context. For this problem, we are typically given a list of words and associated word senses, e.g. from a dictionary or an online resource such as WordNet.\n",
      "Entity linking\n",
      "Many wordsâ€”typically proper namesâ€”refer to named entities; here we have to select the entity (a famous individual, a location, a company, etc.) which is referred to in context.\n",
      "Relational semantics (semantics of individual sentences)\n",
      "Relationship extraction\n",
      "Given a chunk of text, identify the relationships among named entities (e.g. who is married to whom).\n",
      "Semantic parsing\n",
      "Given a piece of text (typically a sentence), produce a formal representation of its semantics, either as a graph (e.g., in AMR parsing) or in accordance with a logical formalism (e.g., in DRT parsing). This challenge typically includes aspects of several more elementary NLP tasks from semantics (e.g., semantic role labelling, word-sense disambiguation) and can be extended to include full-fledged discourse analysis (e.g., discourse analysis, coreference; see Natural language understanding below).\n",
      "Semantic role labelling (see also implicit semantic role labelling below)\n",
      "Given a single sentence, identify and disambiguate semantic predicates (e.g., verbal frames), then identify and classify the frame elements (semantic roles).\n",
      "Discourse (semantics beyond individual sentences)\n",
      "Coreference resolution\n",
      "Given a sentence or larger chunk of text, determine which words (\"mentions\") refer to the same objects (\"entities\"). Anaphora resolution is a specific example of this task, and is specifically concerned with matching up pronouns with the nouns or names to which they refer. The more general task of coreference resolution also includes identifying so-called \"bridging relationships\" involving referring expressions. For example, in a sentence such as \"He entered John's house through the front door\", \"the front door\" is a referring expression and the bridging relationship to be identified is the fact that the door being referred to is the front door of John's house (rather than of some other structure that might also be referred to).\n",
      "Discourse analysis\n",
      "This rubric includes several related tasks. One task is discourse parsing, i.e., identifying the discourse structure of a connected text, i.e. the nature of the discourse relationships between sentences (e.g. elaboration, explanation, contrast). Another possible task is recognizing and classifying the speech acts in a chunk of text (e.g. yesâ€“no question, content question, statement, assertion, etc.).\n",
      "Implicit semantic role labelling\n",
      "Given a single sentence, identify and disambiguate semantic predicates (e.g., verbal frames) and their explicit semantic roles in the current sentence (see Semantic role labelling above). Then, identify semantic roles that are not explicitly realized in the current sentence, classify them into arguments that are explicitly realized elsewhere in the text and those that are not specified, and resolve the former against the local text. A closely related task is zero anaphora resolution, i.e., the extension of coreference resolution to pro-drop languages.\n",
      "Recognizing textual entailment\n",
      "Given two text fragments, determine if one being true entails the other, entails the other's negation, or allows the other to be either true or false.[28]\n",
      "Topic segmentation and recognition\n",
      "Given a chunk of text, separate it into segments each of which is devoted to a topic, and identify the topic of the segment.\n",
      "Argument mining\n",
      "The goal of argument mining is the automatic extraction and identification of argumentative structures from natural language text with the aid of computer programs.[29] Such argumentative structures include the premise, conclusions, the argument scheme and the relationship between the main and subsidiary argument, or the main and counter-argument within discourse.[30][31]\n",
      "Higher-level NLP applications\n",
      "Automatic summarization (text summarization)\n",
      "Produce a readable summary of a chunk of text. Often used to provide summaries of the text of a known type, such as research papers, articles in the financial section of a newspaper.\n",
      "Grammatical error correction\n",
      "Grammatical error detection and correction involves a great band-width of problems on all levels of linguistic analysis (phonology/orthography, morphology, syntax, semantics, pragmatics). Grammatical error correction is impactful since it affects hundreds of millions of people that use or acquire English as a second language. It has thus been subject to a number of shared tasks since 2011.[32][33][34] As far as orthography, morphology, syntax and certain aspects of semantics are concerned, and due to the development of powerful neural language models such as GPT-2, this can now (2019) be considered a largely solved problem and is being marketed in various commercial applications.\n",
      "Logic translation\n",
      "Translate a text from a natural language into formal logic.\n",
      "Machine translation (MT)\n",
      "Automatically translate text from one human language to another. This is one of the most difficult problems, and is a member of a class of problems colloquially termed \"AI-complete\", i.e. requiring all of the different types of knowledge that humans possess (grammar, semantics, facts about the real world, etc.) to solve properly.\n",
      "Natural-language understanding (NLU)\n",
      "Convert chunks of text into more formal representations such as first-order logic structures that are easier for computer programs to manipulate. Natural language understanding involves the identification of the intended semantic from the multiple possible semantics which can be derived from a natural language expression which usually takes the form of organized notations of natural language concepts. Introduction and creation of language metamodel and ontology are efficient however empirical solutions. An explicit formalization of natural language semantics without confusions with implicit assumptions such as closed-world assumption (CWA) vs. open-world assumption, or subjective Yes/No vs. objective True/False is expected for the construction of a basis of semantics formalization.[35]\n",
      "Natural-language generation (NLG):\n",
      "Convert information from computer databases or semantic intents into readable human language.\n",
      "Book generation\n",
      "Not an NLP task proper but an extension of natural language generation and other NLP tasks is the creation of full-fledged books. The first machine-generated book was created by a rule-based system in 1984 (Racter, The policeman's beard is half-constructed).[36] The first published work by a neural network was published in 2018, 1 the Road, marketed as a novel, contains sixty million words. Both these systems are basically elaborate but non-sensical (semantics-free) language models. The first machine-generated science book was published in 2019 (Beta Writer, Lithium-Ion Batteries, Springer, Cham).[37] Unlike Racter and 1 the Road, this is grounded on factual knowledge and based on text summarization.\n",
      "Document AI\n",
      "A Document AI platform sits on top of the NLP technology enabling users with no prior experience of artificial intelligence, machine learning or NLP to quickly train a computer to extract the specific data they need from different document types. NLP-powered Document AI enables non-technical teams to quickly access information hidden in documents, for example, lawyers, business analysts and accountants.[38]\n",
      "Dialogue management\n",
      "Computer systems intended to converse with a human.\n",
      "Question answering\n",
      "Given a human-language question, determine its answer. Typical questions have a specific right answer (such as \"What is the capital of Canada?\"), but sometimes open-ended questions are also considered (such as \"What is the meaning of life?\").\n",
      "Text-to-image generation\n",
      "Given a description of an image, generate an image that matches the description.[39]\n",
      "Text-to-scene generation\n",
      "Given a description of a scene, generate a 3D model of the scene.[40][41]\n",
      "Text-to-video\n",
      "Given a description of a video, generate a video that matches the description.[42][43]\n",
      "General tendencies and (possible) future directions\n",
      "Based on long-standing trends in the field, it is possible to extrapolate future directions of NLP. As of 2020, three trends among the topics of the long-standing series of CoNLL Shared Tasks can be observed:[44]\n",
      "\n",
      "Interest on increasingly abstract, \"cognitive\" aspects of natural language (1999â€“2001: shallow parsing, 2002â€“03: named entity recognition, 2006â€“09/2017â€“18: dependency syntax, 2004â€“05/2008â€“09 semantic role labelling, 2011â€“12 coreference, 2015â€“16: discourse parsing, 2019: semantic parsing).\n",
      "Increasing interest in multilinguality, and, potentially, multimodality (English since 1999; Spanish, Dutch since 2002; German since 2003; Bulgarian, Danish, Japanese, Portuguese, Slovenian, Swedish, Turkish since 2006; Basque, Catalan, Chinese, Greek, Hungarian, Italian, Turkish since 2007; Czech since 2009; Arabic since 2012; 2017: 40+ languages; 2018: 60+/100+ languages)\n",
      "Elimination of symbolic representations (rule-based over supervised towards weakly supervised methods, representation learning and end-to-end systems)\n",
      "Cognition\n",
      "Most higher-level NLP applications involve aspects that emulate intelligent behaviour and apparent comprehension of natural language. More broadly speaking, the technical operationalization of increasingly advanced aspects of cognitive behaviour represents one of the developmental trajectories of NLP (see trends among CoNLL shared tasks above).\n",
      "\n",
      "Cognition refers to \"the mental action or process of acquiring knowledge and understanding through thought, experience, and the senses.\"[45] Cognitive science is the interdisciplinary, scientific study of the mind and its processes.[46] Cognitive linguistics is an interdisciplinary branch of linguistics, combining knowledge and research from both psychology and linguistics.[47] Especially during the age of symbolic NLP, the area of computational linguistics maintained strong ties with cognitive studies.\n",
      "\n",
      "As an example, George Lakoff offers a methodology to build natural language processing (NLP) algorithms through the perspective of cognitive science, along with the findings of cognitive linguistics,[48] with two defining aspects:\n",
      "\n",
      "Apply the theory of conceptual metaphor, explained by Lakoff as \"the understanding of one idea, in terms of another\" which provides an idea of the intent of the author.[49] For example, consider the English word big. When used in a comparison (\"That is a big tree\"), the author's intent is to imply that the tree is physically large relative to other trees or the authors experience. When used metaphorically (\"Tomorrow is a big day\"), the author's intent to imply importance. The intent behind other usages, like in \"She is a big person\", will remain somewhat ambiguous to a person and a cognitive NLP algorithm alike without additional information.\n",
      "Assign relative measures of meaning to a word, phrase, sentence or piece of text based on the information presented before and after the piece of text being analyzed, e.g., by means of a probabilistic context-free grammar (PCFG). The mathematical equation for such algorithms is presented in US Patent 9269353:[50]\n",
      " \n",
      " \n",
      " \n",
      "(\n",
      " \n",
      " \n",
      " \n",
      " \n",
      " \n",
      " \n",
      ")\n",
      "=\n",
      " \n",
      " \n",
      " \n",
      "(\n",
      " \n",
      " \n",
      " \n",
      " \n",
      " \n",
      " \n",
      ")\n",
      "Ã—\n",
      "1\n",
      "2\n",
      " \n",
      "(\n",
      "âˆ‘\n",
      " \n",
      "=\n",
      "âˆ’\n",
      " \n",
      " \n",
      "(\n",
      "(\n",
      " \n",
      " \n",
      " \n",
      "(\n",
      " \n",
      " \n",
      " \n",
      " \n",
      " \n",
      " \n",
      ")\n",
      "Ã—\n",
      " \n",
      " \n",
      "(\n",
      " \n",
      " \n",
      " \n",
      " \n",
      " \n",
      " \n",
      "âˆ’\n",
      " \n",
      ",\n",
      " \n",
      " \n",
      " \n",
      " \n",
      " \n",
      " \n",
      ",\n",
      " \n",
      " \n",
      " \n",
      " \n",
      " \n",
      " \n",
      "+\n",
      " \n",
      ")\n",
      ")\n",
      " \n",
      ")\n",
      "{\\displaystyle {RMM(token_{N})}={PMM(token_{N})}\\times {\\frac {1}{2d}}\\left(\\sum _{i=-d}^{d}{((PMM(token_{N})}\\times {PF(token_{N-i},token_{N},token_{N+i}))_{i}}\\right)}\n",
      "Where\n",
      "RMM is the relative measure of meaning\n",
      "token is any block of text, sentence, phrase or word\n",
      "N is the number of tokens being analyzed\n",
      "PMM is the probable measure of meaning based on a corpora\n",
      "d is the non zero location of the token along the sequence of N tokens\n",
      "PF is the probability function specific to a language\n",
      "Ties with cognitive linguistics are part of the historical heritage of NLP, but they have been less frequently addressed since the statistical turn during the 1990s. Nevertheless, approaches to develop cognitive models towards technically operationalizable frameworks have been pursued in the context of various frameworks, e.g., of cognitive grammar,[51] functional grammar,[52] construction grammar,[53] computational psycholinguistics and cognitive neuroscience (e.g., ACT-R), however, with limited uptake in mainstream NLP (as measured by presence on major conferences[54] of the ACL). More recently, ideas of cognitive NLP have been revived as an approach to achieve explainability, e.g., under the notion of \"cognitive AI\".[55] Likewise, ideas of cognitive NLP are inherent to neural models multimodal NLP (although rarely made explicit)[56] and developments in artificial intelligence, specifically tools and technologies using large language model approaches[57] and new directions in artificial general intelligence based on the free energy principle[58] by British neuroscientist and theoretician at University College London Karl J. Friston.\n"
     ]
    }
   ],
   "source": [
    "trimmed_text = text.strip()\n",
    "print(trimmed_text)"
   ]
  },
  {
   "cell_type": "code",
   "execution_count": 114,
   "id": "88b4ba53",
   "metadata": {},
   "outputs": [],
   "source": [
    "converted_text = trimmed_text.lower()"
   ]
  },
  {
   "cell_type": "code",
   "execution_count": 115,
   "id": "fb33529b",
   "metadata": {},
   "outputs": [],
   "source": [
    "#Tokenization using word tokenizer\n",
    "tokenized_list = word_tokenize(converted_text)\n",
    "# print(tokenized_list)\n",
    "#Tokenization using word punct tokenizer\n",
    "punct_tokenized_list = wordpunct_tokenize(converted_text)\n",
    "# print(punct_tokenized_list)\n",
    "#get vocabulary\n",
    "vocab_set = set(tokenized_list)\n",
    "# print(vocab_list)\n"
   ]
  },
  {
   "cell_type": "code",
   "execution_count": 117,
   "id": "7fb840f5",
   "metadata": {},
   "outputs": [
    {
     "name": "stdout",
     "output_type": "stream",
     "text": [
      "{'underlies', 'consider', 'became', 'human-language', '5', '1950s', 'discouraged', 'discourse', 'subfield', '13', 'published', 'power', 'springer', 'matches', 'potentially', 'thus', 'zero', 'semi-supervised', 'section', 'perceptron', 'basque', 'margie', '41', 'computer-understandable', 'thought', 'already', 'usually', 'assumption', 'word', 'complex', 'social', 'along', 'subtasks', '{', 'primarily', 'sentences', '40+', 'flurry', 'college', 'intelligence', 'inflected', 'fairly', 'translation', 'places', 'john', 'answer', '^', 'use', 'pipelines', 'operationalization', 'million', 'return', 'impaired', 'science', 'hidden', 'danish', 'solve', 'swedish', 'organization', 'costly', '2017', 'coreference', 'answers', 'symbolic', 'abbreviations', '2001', 'chunk', 'insights', 'capture', 'true/false', 'refer', 'produce', 'calling', 'structures', 'twenty', 'networks', 'technically', 'researched', 'generation', 'sits', 'provides', 'involving', 'major', 'including', 'person', 'text-to-speech', 'derived', '1980s', 'assign', 'seeking', 'contained', '``', 'machinery', 'lessening', 'inaccessible', 'so-called', 'notably', 'theories', 'successfully', 'identifying', 'steps', 'chunks', 'age', '44', 'intertwined', 'pursued', 'jabberwacky', 'computational', 'developmental', 'relative', 'non-annotated', 'network-based', 'generative', 'enabling', 'elaborate', 'includes', 'apertium', 'well', 'verbal', 'one', 'regardless', 'dialogue', 'aid', 'limitation', 'transform', 'graph', 'concerned', 'summarization', 'principle', 'intents', 'blend', 'stochastic', 'âˆ', 'online', '3', 'forms', 'directions', 'j.', 'hand-annotated', '2011', 'eventually', 'resolve', 'married', 'subdivided', 'carbonell', 'representing', 'focus', 'expectations', 'brno', 'representation', 'beta', 'simply', 'member', 'ties', 'measured', 'among', '34', '1964', '2002â€', 'endings', 'seem', 'generally', 'pmm', 'sound', 'identification', 'documents', 'explained', 'see', 'fulfill', 'studies', 'statistical', 'sets', 'gone', 'working', 'behind', 'parsing', 'writing', 'categorize', 'meitei', 'efficient', 'beard', 'location', 'closed-world', 'content', 'colloquially', 'needs', 'classifying', 'specifically', 'distinguish', 'accents', 'developed', 'response', '1940', 'allows', '15', 'law', '2004â€', 'corpora', 'block', 'various', 'true', 'partly', 'machine-learning', 'ability', 'producing', '2010', 'advantages', 'analyses', '2006â€', 'perhaps', 'parliament', 'become', 'premise', 'conferences', 'enough', 'whether', 'often', 'nonsensical', 'french', 'similar', 'close', 'lakoff', 'convenience', 'end', 'tomã¡å¡', 'users', 'form', 'expressions', 'like', '22', '1966', 'importance', 'corpus', 'apply', 'technology', 'hand', 'human', 'defining', '2003', 'interdisciplinary', 'i.e', 'european', 'error', 'computers', 'formal', 'needed', 'success', 'university', 'included', 'vocabulary', 'involved', 'produces', 'unlike', 'analysts', ')', 'types', 'analyzed', 'increasingly', 'small', 'new', \"'s\", 'tasks', 'fit', 'inflectional', 'reducing', 'first', 'revived', '4', 'proceedings', 'lithium-ion', 'hand-written', 'difficult', 'named', 'marketed', 'continues', 'extraction', 'wide', 'great', 'scientific', 'reference', 'inefficiencies', 'mark', 'n+i', '\\\\sum', 'stream', 'closed', '1954', 'things', 'assertion', 'fully', '1990s', '\\\\displaystyle', 'termed', 'word-sense', 'decision', 'created', 'real-world', 'evaluation', 'sentiment', 'word2vec', 'moore', '“', '2023.', '+', 'inherent', 'mind', '16', 'obsolete', 'since', 'people', 'answering', 'different', 'notes', ';', 'web', 'ended', 'focuses', 'british', 'expression', 'learn', 'processing', 'â€', 'challenges', 'entity', 'specified', '[', 'abstract', 'algorithm', 'morphology', 'using', '38', 'grammars', 'furthermore', 'intent', 'grammatical', 'statement', 'mt', 'pos', 'italian', 'yields', 'multimodality', 'caused', 'japanese', 'determining', 'related', 'findings', 'many', 'used', 'writer', '1975', 'accordance', 'developments', 'towards', 'gpt-2', 'area', 'able', 'mathematical', 'privacy', 'non', 'question', 'growth', 'earliest', 'generic', 'phrase', 'problems', 'mainstream', 'company', 'namesâ€', 'i.e.', '52', 'layers', 'deal', 'theoretician', 'becomes', 'explicit', 'following', 'hungarian', 'metaphorically', 'weizenbaum', 'etc.', 'successes', 'referring', 'implicit', 'natural-language', '2d', 'sixty', 'datasets', 'popularity', 'alignment', 'typical', 'multilinguality', 'recognition', '23', 'strong', 'europe', 'articles', 'select', 'lines', 'governmental', 'old', 'english', 'summary', 'operationalizable', '48', '-', 'ibm', 'conversion', 'punctuation', 'number', '2000s', 'perspective', 'co-authors', 'day', 'feature', 'physically', 'units', 'book', '1940s', 'interaction', 'first-order', 'programmers', '2010s', 'apparent', 'segments', 'capitalized', 'trajectories', '53', 'methodology', 'ones', 'text', 'challenge', '35', 'bulgarian', 'algorithms', 'embeddings', 'turn', 'table', 'theory', 'probability', 'vocabularies', '2011â€', 'write', 'rhetorical', 'powerful', '28', 'best', '2018', 'experience', 'books', 'n-gram', 'process', 'door', 'advance', 'uptake', 'items', 'healthcare', 'logic', 'shallow', 'automated', 'training', 'ten-year-long', 'direct', 'qualm', 'mining', 'lehnert', 'usages', '2015â€', 'nature', 'task', 'little', '9', 'labelling', 'language', 'associated', 'interpretation', '_', 'extracted', 'racter', 'measures', 'implemented', 'inferior', 'convert', 'state-of-the-art', '18', 'conll', '1960s', 'amr', 'hand-coding', 'though', 'induction', 'claimed', 'trees', 'objective', 'text-to-video', 'parry', 'manipulating', 'helps', 'lemma', 'pam', 'whose', 'linking', 'knowledge', '19', 'historical', 'problem', 'contents', 'tagging', 'quantitative', 'recognizing', 'must', 'expected', 'especially', 'failed', 'japan', 'applications', '56', 'conclusions', 'rising', 'notion', 'metamodel', 'ontology', 'main', 'cognitive', 'deep', 'larger', 'intermediate', 'slower', 'weakly', 'spaces', 'capitalization', 'contextual', 'structured', 'mentions', 'texts', 'featuring', 'multimodal', 'entry', 'artificial', 'semantics-free', 'develop', 'engineering', '6', 'introduction', 'simulation', 'lemmatization', 'ocr', 'contrast', 'techniques', 'analog', 'laws', 'development', 'metaphor', 'dominance', 'confronts', 'notable', 'represents', 'successive', 'offers', 'relevant', 'phonology/orthography', 'platform', 'ã—', 'imply', 'ai', '\\\\frac', 'meaning', 'gradual', 'joseph', 'factual', 'report', 'done', 'second', 'accuracy', 'others', 'counter-argument', 'multilingual', '9700', 'span', 'fashion', 'dramatically', 'however', 'technique', 'years', 'starting', 'opened', '1966.', 'grouped', 'nouns', '7', 'organized', 'predicates', 'union', 'type', 'refers', 'dutch', 'remain', 'life', 'ross', 'wsd', '9269353', 'probabilistic', 'postprocessing', 'steady', 'function', 'root', 'linguistic', '2009', 'name', 'network', 'capitalizes', '45', 'tokenization', 'entered', 'matching', 'occurred', 'length', 'yoshua', 'results', 'real', 'coarticulation', 'makes', 'connected', 'nlu', 'multiple', '37', 'pauses', 'piece', 'half-constructed', 'pro-drop', 'research', 'find', 'famous', 'politics', 'systems', '2012', 'long-standing', 'lawyers', 'resource', 'georgetown', 'emotion', 'equally', 'languages', 'intractability', 'mikolov', 'goal', 'false', 'division', 'elements', 'capitalize', 'fact', '1977', 'recurrent', 'might', ',', 'marking', 'elimination', 'subject', 'phrasebook', 'revolution', 'series', '54', 'robust', '31', 'example', 'identified', 'acl', 'terms', 'case', 'articulated', 'seen', '2020', 'disambiguate', 'provided', '39', 'heuristic', 'orthography', 'intelligent', 'elsewhere', 'shared', 'particular', 'low-resource', 'specific', 'open-world', 'creation', 'pf', 'inaccurate', 'five', 'formalism', 'closer', 'cullingford', 'energy', 'began', 'worlds', 'road', 'lesk', 'chatterbots', 'document', 'text-to-scene', 'i=-d', 'depends', '’', 'somewhat', 'coupled', 'german', 'presence', 'basically', 'least', 'difficulty', 'titled', '1979', 'transformational', 'also', 'omitted', 'alpac', 'formalization', 'concepts', 'wilensky', 'conceptual', 'separate', 'hpsg', 'drt', 'sense', 'ambiguous', 'identical', 'electronic', 'government', 'categories', '03', '1999â€', 'study', 'description', 'bengio', 'bridging', 'spoken', 'possess', 'limited', 'understanding', 'areas', 'explanation', 'determine', 'scripts', '1984', 'symbols', '25', 'late', 'neural', 'important', 'much', 'actual', 'build', 'hundreds', 'anymore', 'analysis', 'layer', 'cluster', 'ontologies', 'morphological', 'teams', '2', 'consistently', 'markov', 'advantage', 'converse', 'written', '30', '1978', 'author', 'involve', 'words', 'grounded', 'software', 'continuous', 'broadly', 'batteries', 'emulates', '29', 'karl', 'tools', 'end-to-end', 'single', 'context-free', 'commonly', 'closing', 'variety', 'shrdlu', 'centering', 'branch', 'amount', 'theoretical', 'individual', 'terminology', 'printed', 'depended', 'another', 'several', 'negation', '12', 'need', 'interest', 'commercial', 'approaches', 'overperformed', 'parse', 'ai-complete', 'historically', 'affects', 'removing', 'measure', 'entire', 'supervised', '\\\\right', 'records', 'london', 'letters', 'raw', 'available', 'visually', 'turkish', 'nlp', 'given', 'existing', 'textual', 'nlg', 'verb', '57', 'entities', '2019', 'us', 'say', 'papers', 'argumentative', 'official', 'nlp-powered', 'organize', 'highly', 'containing', 'canada', 'management', 'work', 'computer', 'anaphora', 'correction', 'databases', 'comprehension', 'detection', 'date', 'erroneous', 'neuroscience', 'trivial', '}', 'topics', 'methods', 'present', 'arabic', 'would', 'necessary', 'effectively', 'rare', 'adjective', 'opens', 'roles', '09', 'plot', 'potential', '1981', 'thai', 'enormous', 'whereas', 'america', 'aspects', 'extremely', 'classification', 'frequently', 'collection', 'separated', 'leading', 'typically', 'cpu', 'searle', 'experiment', 'greatly', 'considered', 'marked', 'less', 'intended', 'due', '32', 'segmentation', 'facts', 'catalan', 'two-level', 'replaced', '.', 'letter', 'topic', 'extension', 'accurately', 'analyze', 'train', 'media', 'solved', 'reviews', 'basis', 'known', 'opinion', 'computing', 'demonstrated', 'opposite', 'millions', 'optical', 'notations', 'impactful', 'modelling', 'entails', 'hurts', 'syntactic', 'set', 'wikipedia', 'subjective', 'applying', 'senses', 'automatic', 'relational', 'advanced', 'grounds', 'support', 'examples', 'require', '51', 'world', 'scene', 'exceeded', 'schank', 'confusions', '33', 'two', 'recently', 'may', 'e.g.', ':', 'band-width', 'achieve', 'subsidiary', 'big', 'marks', 'top', 'frameworks', 'open', 'non-western', 'properties', 'breaking', 'probable', '40', 'n', 'brain', 'former', 'phd', 'information', 'identify', 'readable', 'psycholinguistics', '55', 'pcfg', 'capable', 'objects', 'test', 'approach', 'underpinnings', 'acts', 'blocks', 'idea', 'free', 'student', 'encyclopedia', 'otherwise', 'within', 'loss', 'sequence', 'beyond', 'trained', 'solutions', 'purposes', 'george', 'fragments', 'uses', 'unfamiliar', '2002', 'frames', 'progress', 'accountants', 'showing', 'make', 'marketing', 'flight', 'friston', 'called', 'based', 'combining', 'closely', 'entailment', 'syntax', 'output', 'technologies', 'then-newly-invented', '2006', 'extract', 'acquiring', '(', 'text-to-image', 'mental', 'care', 'right', 'trends', 'recognize', 'subtask', 'addressed', 'capital', 'increasing', 'sequence-to-sequence', 'focused', '10', 'relationship', 'coarse', 'improve', 'corresponding', '26', 'data', 'elaboration', 'cases', 'practical', 'annotated', 'provide', 'bow', 'stemming', 'learning', 'elementary', 'summaries', 'chomskyan', 'entirely', 'sounds', 'although', 'unsupervised', 'alan', 'early', 'increase', 'time', 'tomorrow', 'restricted', 'prior', 'largely', 'business', 'previously', 'current', 'technical', 'transformation', 'resolution', '36', 'startlingly', 'means', 'building', 'policeman', '1999', 'medicine', 'action', 'head', 'assumptions', 'general', 'future', 'discrete', 'boundary', 'programs', 'authors', 'amounts', 'e.g', 'protect', 'drawback', 'non-technical', 'even', 'distributional', 'sort', 'tree', 'hardly', 'equation', 'polarity', 'token', '46', 'psychotherapist', 'local', '?', \"''\", 'network-style', '1', 'describes', 'quickly', 'processes', 'higher-level', 'access', 'without', 'tendencies', 'token_', 'likewise', 'newspaper', 'dictionary', 'heritage', '47', 'common', 'nevertheless', 'representations', 'boundaries', 'article', 'human-like', 'properly', 'yesâ€', 'multi-layer', 'structure', '14', 'agglutinated', 'explainability', 'winter', 'room', 'conducted', 'speaking', 'humans', 'act-r', 'lexical', 'take', 'full-fledged', 'modeling', 'pronouns', 'slovenian', 'machine', 'extrapolate', 'sometimes', 'names', 'morphemes', 'easier', '”', 'dependency', 'extended', 'class', 'talol', 'large', 'ifâ€', 'patient', 'spanish', 'vs.', '42', 'transformations', 'transforming', 'tokens', 'logical', '3200', 'cham', 'history', 'context', 'n-i', 'insufficient', 'public', 'ner', 'emulate', 'completely', 'sam', '1990sâ€', 'levels', 'mostly', 'role', '=', '1976', 'hard', 'clip', 'equivalent', 'rules', 'cwa', 'generate', 'eliza', 'signal', 'arguments', 'wordnet', 'questions', 'grammar', '09/2017â€', 'accurate', 'psychology', 'memory', 'significant', 'patent', 'serve', 'three', 'models', 'map', 'found', 'sentence', 'greek', 'quillian', 'constituency', 'announced', 'responding', 'presented', 'misspelled', 'primary', 'maintained', 'construction', ']', '24', 'well-summarized', 'complexity', 'useful', '2007', 'criterion', '8', 'normalized', 'solving', 'explicitly', '50', 'model', 'rubric', 'unannotated', 'system', 'giving', 'wordsâ€', 'preprocessing', 'mid-1990s', 'applied', 'rogerian', 'rule-based', 'scheme', 'referred', '1970s', '2015', 'segment', 'funding', 'surprisingly', 'yes/no', 'linguistics', 'thousands', '21', 'russian', 'semantics', 'ignore', '43', 'empirical', 'devoted', 'pragmatics', 'financial', 'proposed', 'cognition', 'proper', 'lookup', 'indian', 'manipulate', '60+/100+', 'front', 'base', 'takes', 'portuguese', 'parts', 'heyday', 'machine-generated', 'semantic', 'still', 'result', 'made', 'speech', 'periods', '3d', '10/12/2023.from', '58', 'period', 'far', 'turing', 'went', 'produced', 'argument', 'actually', 'classify', 'bag', 'simple', 'led', '17', 'input', '27', 'meehan', 'involves', 'combination', 'include', 'part', 'ideas', 'low', 'realized', 'nuances', 'certain', 'disambiguation', 'noun', 'rmm', 'comparison', 'chinese', 'acquire', 'functional', '20', 'neuroscientist', 'reduced', 'character', 'novel', 'open-ended', 'non-sensical', 'frame', 'health', 'field', 'either', 'czech', 'almost', 'alike', '49', 'possible', 'rather', '\\\\times', 'part-of-speech', 'devising', 'continued', 'talespin', 'parses', 'behaviour', 'gain', 'characters', 'requiring', 'accidentally', 'house', 'opening', '\\\\left', 'enables', 'roots', 'video', 'natural', 'image', 'contains', 'rarely', '05/2008â€', 'successful', '6500', '11', 'desired', 'widespread', 'translate', 'list', 'etc', 'relationships', 'automatically', 'additional', 'observed', '‘', 'adjectives', 'llms'}\n"
     ]
    }
   ],
   "source": [
    "#remove stop words\n",
    "set_wo_stopwords = vocab_set - set(stopwords.words(\"english\"))\n",
    "print(set_wo_stopwords)\n"
   ]
  },
  {
   "cell_type": "code",
   "execution_count": 119,
   "id": "0b3cc059",
   "metadata": {},
   "outputs": [
    {
     "name": "stdout",
     "output_type": "stream",
     "text": [
      "{'underlies', 'consider', 'became', 'human-language', '5', '1950s', 'discouraged', 'discourse', 'subfield', '13', 'published', 'power', 'springer', 'matches', 'potentially', 'thus', 'zero', 'semi-supervised', 'section', 'perceptron', 'basque', 'margie', '41', 'computer-understandable', 'thought', 'already', 'usually', 'assumption', 'word', 'complex', 'social', 'along', 'subtasks', 'primarily', 'sentences', '40+', 'flurry', 'college', 'intelligence', 'inflected', 'fairly', 'translation', 'places', 'john', 'answer', 'use', 'pipelines', 'operationalization', 'million', 'return', 'impaired', 'science', 'hidden', 'danish', 'solve', 'swedish', 'organization', 'costly', '2017', 'coreference', 'answers', 'symbolic', 'abbreviations', '2001', 'chunk', 'insights', 'capture', 'true/false', 'refer', 'produce', 'calling', 'structures', 'twenty', 'networks', 'technically', 'researched', 'generation', 'sits', 'provides', 'involving', 'major', 'including', 'person', 'text-to-speech', 'derived', '1980s', 'assign', 'seeking', 'contained', '``', 'machinery', 'lessening', 'inaccessible', 'so-called', 'notably', 'theories', 'successfully', 'identifying', 'steps', 'chunks', 'age', '44', 'intertwined', 'pursued', 'jabberwacky', 'computational', 'developmental', 'relative', 'non-annotated', 'network-based', 'generative', 'enabling', 'elaborate', 'includes', 'apertium', 'well', 'verbal', 'one', 'regardless', 'dialogue', 'aid', 'limitation', 'transform', 'graph', 'concerned', 'summarization', 'principle', 'intents', 'blend', 'stochastic', 'âˆ', 'online', '3', 'forms', 'directions', 'j.', 'hand-annotated', '2011', 'eventually', 'resolve', 'married', 'subdivided', 'carbonell', 'representing', 'focus', 'expectations', 'brno', 'representation', 'beta', 'simply', 'member', 'ties', 'measured', 'among', '34', '1964', '2002â€', 'endings', 'seem', 'generally', 'pmm', 'sound', 'identification', 'documents', 'explained', 'see', 'fulfill', 'studies', 'statistical', 'sets', 'gone', 'working', 'behind', 'parsing', 'writing', 'categorize', 'meitei', 'efficient', 'beard', 'location', 'closed-world', 'content', 'colloquially', 'needs', 'classifying', 'specifically', 'distinguish', 'accents', 'developed', 'response', '1940', 'allows', '15', 'law', '2004â€', 'corpora', 'block', 'various', 'true', 'partly', 'machine-learning', 'ability', 'producing', '2010', 'advantages', 'analyses', '2006â€', 'perhaps', 'parliament', 'become', 'premise', 'conferences', 'enough', 'whether', 'often', 'nonsensical', 'french', 'similar', 'close', 'lakoff', 'convenience', 'end', 'tomã¡å¡', 'users', 'form', 'expressions', 'like', '22', '1966', 'importance', 'corpus', 'apply', 'technology', 'hand', 'human', 'defining', '2003', 'interdisciplinary', 'i.e', 'european', 'error', 'computers', 'formal', 'needed', 'success', 'university', 'included', 'vocabulary', 'involved', 'produces', 'unlike', 'analysts', 'types', 'analyzed', 'increasingly', 'small', 'new', \"'s\", 'tasks', 'fit', 'inflectional', 'reducing', 'first', 'revived', '4', 'proceedings', 'lithium-ion', 'hand-written', 'difficult', 'named', 'continues', 'extraction', 'wide', 'great', 'scientific', 'reference', 'inefficiencies', 'mark', 'n+i', '\\\\sum', 'stream', 'closed', '1954', 'things', 'assertion', 'fully', '1990s', '\\\\displaystyle', 'termed', 'word-sense', 'decision', 'created', 'real-world', 'evaluation', 'sentiment', 'word2vec', 'moore', '“', '2023.', 'inherent', 'mind', '16', 'obsolete', 'since', 'people', 'answering', 'different', 'notes', 'web', 'ended', 'focuses', 'british', 'expression', 'learn', 'processing', 'â€', 'challenges', 'entity', 'specified', 'abstract', 'algorithm', 'morphology', 'using', '38', 'grammars', 'furthermore', 'intent', 'grammatical', 'statement', 'mt', 'pos', 'italian', 'yields', 'multimodality', 'caused', 'japanese', 'determining', 'related', 'findings', 'many', 'used', 'writer', '1975', 'accordance', 'developments', 'towards', 'gpt-2', 'area', 'able', 'mathematical', 'privacy', 'non', 'question', 'growth', 'earliest', 'generic', 'phrase', 'problems', 'mainstream', 'company', 'namesâ€', 'i.e.', '52', 'layers', 'deal', 'theoretician', 'becomes', 'explicit', 'following', 'hungarian', 'metaphorically', 'weizenbaum', 'etc.', 'successes', 'referring', 'implicit', 'natural-language', '2d', 'sixty', 'datasets', 'popularity', 'alignment', 'typical', 'multilinguality', 'recognition', 'strong', '23', 'europe', 'articles', 'select', 'lines', 'governmental', 'old', 'english', 'summary', 'operationalizable', '48', 'ibm', 'conversion', 'punctuation', 'number', '2000s', 'perspective', 'co-authors', 'day', 'feature', 'physically', 'units', 'book', '1940s', 'interaction', 'first-order', 'programmers', '2010s', 'apparent', 'segments', 'capitalized', 'trajectories', '53', 'methodology', 'ones', 'text', 'challenge', '35', 'bulgarian', 'algorithms', 'embeddings', 'turn', 'table', 'theory', 'probability', 'vocabularies', '2011â€', 'write', 'rhetorical', 'powerful', '28', 'best', '2018', 'experience', 'books', 'n-gram', 'process', 'door', 'advance', 'uptake', 'items', 'healthcare', 'logic', 'shallow', 'automated', 'training', 'ten-year-long', 'direct', 'qualm', 'mining', 'lehnert', 'usages', '2015â€', 'nature', 'task', 'little', '9', 'labelling', 'language', 'associated', 'interpretation', 'extracted', 'racter', 'measures', 'implemented', 'inferior', 'convert', 'state-of-the-art', '18', 'conll', '1960s', 'amr', 'hand-coding', 'though', 'induction', 'claimed', 'trees', 'objective', 'text-to-video', 'parry', 'manipulating', 'helps', 'lemma', 'pam', 'whose', 'linking', 'knowledge', '19', 'historical', 'problem', 'contents', 'tagging', 'quantitative', 'recognizing', 'must', 'expected', 'especially', 'failed', 'japan', 'applications', '56', 'conclusions', 'rising', 'notion', 'metamodel', 'ontology', 'main', 'cognitive', 'deep', 'larger', 'intermediate', 'slower', 'weakly', 'spaces', 'capitalization', 'contextual', 'structured', 'mentions', 'texts', 'featuring', 'multimodal', 'entry', 'artificial', 'semantics-free', 'develop', 'engineering', '6', 'introduction', 'simulation', 'lemmatization', 'ocr', 'contrast', 'techniques', 'analog', 'laws', 'development', 'metaphor', 'dominance', 'confronts', 'notable', 'represents', 'successive', 'offers', 'relevant', 'phonology/orthography', 'platform', 'ã—', 'imply', 'ai', '\\\\frac', 'meaning', 'gradual', 'joseph', 'factual', 'report', 'done', 'second', 'accuracy', 'others', 'counter-argument', 'multilingual', '9700', 'span', 'fashion', 'dramatically', 'however', 'technique', 'years', 'starting', 'opened', '1966.', 'grouped', 'nouns', '7', 'organized', 'predicates', 'union', 'type', 'refers', 'dutch', 'remain', 'life', 'ross', 'wsd', '9269353', 'probabilistic', 'postprocessing', 'steady', 'function', 'root', 'linguistic', '2009', 'name', 'network', 'capitalizes', '45', 'tokenization', 'entered', 'matching', 'occurred', 'length', 'yoshua', 'results', 'real', 'coarticulation', 'makes', 'connected', 'nlu', 'multiple', '37', 'pauses', 'piece', 'half-constructed', 'pro-drop', 'research', 'find', 'famous', 'politics', 'systems', '2012', 'long-standing', 'lawyers', 'resource', 'georgetown', 'emotion', 'equally', 'languages', 'intractability', 'mikolov', 'goal', 'false', 'division', 'elements', 'capitalize', 'fact', '1977', 'recurrent', 'might', 'marking', 'elimination', 'subject', 'phrasebook', 'revolution', 'series', '54', 'robust', '31', 'example', 'identified', 'acl', 'terms', 'case', 'articulated', 'seen', '2020', 'disambiguate', 'provided', '39', 'heuristic', 'orthography', 'intelligent', 'elsewhere', 'shared', 'particular', 'low-resource', 'specific', 'open-world', 'creation', 'pf', 'inaccurate', 'five', 'formalism', 'closer', 'cullingford', 'energy', 'began', 'worlds', 'road', 'lesk', 'chatterbots', 'document', 'text-to-scene', 'i=-d', 'depends', '’', 'somewhat', 'coupled', 'german', 'presence', 'basically', 'least', 'difficulty', 'titled', '1979', 'transformational', 'also', 'omitted', 'alpac', 'formalization', 'concepts', 'wilensky', 'conceptual', 'separate', 'hpsg', 'drt', 'sense', 'ambiguous', 'identical', 'electronic', 'government', 'categories', '03', '1999â€', 'study', 'description', 'bengio', 'bridging', 'spoken', 'possess', 'limited', 'understanding', 'areas', 'explanation', 'determine', 'scripts', '1984', 'symbols', '25', 'late', 'neural', 'important', 'much', 'actual', 'build', 'hundreds', 'anymore', 'analysis', 'layer', 'cluster', 'ontologies', 'morphological', 'teams', '2', 'consistently', 'markov', 'advantage', 'converse', 'written', '30', '1978', 'author', 'involve', 'words', 'grounded', 'software', 'continuous', 'broadly', 'batteries', 'emulates', '29', 'karl', 'tools', 'end-to-end', 'single', 'context-free', 'commonly', 'closing', 'variety', 'shrdlu', 'centering', 'branch', 'amount', 'theoretical', 'individual', 'terminology', 'printed', 'depended', 'another', 'several', 'negation', '12', 'need', 'interest', 'commercial', 'approaches', 'overperformed', 'parse', 'ai-complete', 'historically', 'affects', 'removing', 'measure', 'entire', 'supervised', '\\\\right', 'records', 'london', 'letters', 'raw', 'available', 'visually', 'turkish', 'nlp', 'given', 'existing', 'textual', 'nlg', 'verb', '57', 'entities', '2019', 'us', 'say', 'papers', 'argumentative', 'official', 'nlp-powered', 'organize', 'highly', 'containing', 'canada', 'management', 'work', 'computer', 'anaphora', 'correction', 'databases', 'comprehension', 'detection', 'date', 'erroneous', 'neuroscience', 'trivial', 'topics', 'methods', 'present', 'arabic', 'would', 'necessary', 'effectively', 'rare', 'adjective', 'adjectives', 'opens', 'roles', '09', 'plot', 'potential', '1981', 'thai', 'enormous', 'whereas', 'america', 'aspects', 'extremely', 'classification', 'frequently', 'collection', 'separated', 'leading', 'typically', 'cpu', 'searle', 'experiment', 'greatly', 'considered', 'marked', 'less', 'intended', 'due', '32', 'segmentation', 'facts', 'catalan', 'two-level', 'replaced', 'letter', 'topic', 'extension', 'accurately', 'analyze', 'train', 'media', 'solved', 'reviews', 'basis', 'known', 'opinion', 'computing', 'demonstrated', 'opposite', 'millions', 'optical', 'notations', 'impactful', 'modelling', 'entails', 'hurts', 'syntactic', 'set', 'wikipedia', 'subjective', 'applying', 'senses', 'automatic', 'advanced', 'relational', 'grounds', 'support', 'examples', 'require', '51', 'world', 'scene', 'exceeded', 'schank', 'confusions', '33', 'two', 'recently', 'may', 'e.g.', 'band-width', 'achieve', 'subsidiary', 'big', 'marks', 'top', 'frameworks', 'open', 'non-western', 'properties', 'breaking', 'probable', '40', 'n', 'brain', 'former', 'phd', 'information', 'identify', 'readable', 'psycholinguistics', '55', 'pcfg', 'capable', 'objects', 'test', 'approach', 'underpinnings', 'acts', 'blocks', 'idea', 'free', 'student', 'encyclopedia', 'otherwise', 'within', 'loss', 'sequence', 'beyond', 'trained', 'solutions', 'purposes', 'george', 'fragments', 'uses', 'unfamiliar', '2002', 'frames', 'progress', 'accountants', 'showing', 'make', 'marketing', 'flight', 'friston', 'called', 'based', 'combining', 'closely', 'entailment', 'syntax', 'output', 'technologies', 'then-newly-invented', '2006', 'extract', 'acquiring', 'text-to-image', 'mental', 'care', 'right', 'trends', 'recognize', 'subtask', 'addressed', 'capital', 'increasing', 'sequence-to-sequence', 'focused', '10', 'relationship', 'coarse', 'improve', 'corresponding', '26', 'data', 'elaboration', 'cases', 'practical', 'annotated', 'provide', 'bow', 'stemming', 'learning', 'elementary', 'summaries', 'chomskyan', 'entirely', 'sounds', 'although', 'unsupervised', 'alan', 'early', 'increase', 'time', 'tomorrow', 'restricted', 'prior', 'largely', 'business', 'previously', 'current', 'technical', 'transformation', 'resolution', '36', 'startlingly', 'means', 'building', 'policeman', '1999', 'medicine', 'action', 'head', 'assumptions', 'general', 'future', 'discrete', 'boundary', 'programs', 'authors', 'amounts', 'e.g', 'protect', 'drawback', 'non-technical', 'even', 'distributional', 'sort', 'tree', 'hardly', 'equation', 'polarity', 'token', '46', 'psychotherapist', \"''\", 'local', 'network-style', '1', 'describes', 'quickly', 'processes', 'higher-level', 'access', 'without', 'tendencies', 'token_', 'likewise', 'newspaper', 'dictionary', 'heritage', '47', 'common', 'nevertheless', 'representations', 'boundaries', 'article', 'human-like', 'properly', 'yesâ€', 'multi-layer', 'structure', '14', 'agglutinated', 'explainability', 'winter', 'room', 'conducted', 'speaking', 'humans', 'act-r', 'lexical', 'take', 'full-fledged', 'modeling', 'pronouns', 'slovenian', 'machine', 'extrapolate', 'sometimes', 'names', 'morphemes', 'easier', '”', 'dependency', 'extended', 'class', 'talol', 'large', 'ifâ€', 'patient', 'spanish', 'vs.', '42', 'transformations', 'transforming', 'tokens', 'logical', '3200', 'cham', 'history', 'context', 'n-i', 'insufficient', 'public', 'ner', 'emulate', 'completely', 'sam', '1990sâ€', 'levels', 'mostly', 'role', '1976', 'hard', 'clip', 'equivalent', 'rules', 'cwa', 'generate', 'eliza', 'signal', 'arguments', 'wordnet', 'questions', 'grammar', '09/2017â€', 'accurate', 'psychology', 'memory', 'significant', 'patent', 'serve', 'three', 'models', 'map', 'found', 'sentence', 'greek', 'quillian', 'constituency', 'announced', 'responding', 'presented', 'misspelled', 'primary', 'maintained', 'construction', '24', 'well-summarized', 'complexity', 'useful', '2007', 'criterion', '8', 'normalized', 'solving', 'explicitly', '50', 'model', 'rubric', 'unannotated', 'system', 'giving', 'wordsâ€', 'preprocessing', 'mid-1990s', 'applied', 'rogerian', 'rule-based', 'scheme', 'referred', '1970s', '2015', 'segment', 'funding', 'surprisingly', 'yes/no', 'linguistics', 'thousands', '21', 'russian', 'semantics', 'ignore', '43', 'devoted', 'empirical', 'pragmatics', 'financial', 'proposed', 'cognition', 'proper', 'lookup', 'indian', 'manipulate', '60+/100+', 'front', 'base', 'takes', 'portuguese', 'parts', 'heyday', 'machine-generated', 'semantic', 'still', 'result', 'made', 'speech', 'periods', '3d', '10/12/2023.from', '58', 'period', 'far', 'turing', 'went', 'produced', 'argument', 'actually', 'classify', 'bag', 'simple', 'led', '17', 'input', '27', 'meehan', 'involves', 'combination', 'include', 'part', 'ideas', 'low', 'realized', 'nuances', 'certain', 'disambiguation', 'noun', 'rmm', 'comparison', 'chinese', 'acquire', 'functional', '20', 'neuroscientist', 'reduced', 'character', 'novel', 'open-ended', 'non-sensical', 'frame', 'health', 'field', 'either', 'czech', 'almost', 'alike', '49', 'possible', 'rather', '\\\\times', 'part-of-speech', 'devising', 'continued', 'talespin', 'parses', 'behaviour', 'gain', 'characters', 'requiring', 'accidentally', 'house', 'opening', '\\\\left', 'enables', 'roots', 'video', 'natural', 'image', 'contains', 'rarely', '05/2008â€', 'successful', '6500', '11', 'desired', 'widespread', 'translate', 'list', 'etc', 'relationships', 'automatically', 'additional', 'observed', '‘', 'marketed', 'llms'}\n"
     ]
    }
   ],
   "source": [
    "#remove punctuation\n",
    "set_wo_punctuation = set_wo_stopwords - set(punctuation)\n",
    "print(set_wo_punctuation)\n"
   ]
  },
  {
   "cell_type": "code",
   "execution_count": 120,
   "id": "ef30b967",
   "metadata": {},
   "outputs": [],
   "source": [
    "#stemming\n",
    "stemmed_list= []\n",
    "stemObj = SnowballStemmer(\"english\")\n",
    "for i in set_wo_punctuation:\n",
    "    stemmed_list.append(stemObj.stem(i))\n",
    "# print(stemmed_list)\n"
   ]
  },
  {
   "cell_type": "code",
   "execution_count": 121,
   "id": "9426e4de",
   "metadata": {},
   "outputs": [
    {
     "ename": "AttributeError",
     "evalue": "module 'nltk.stem.wordnet' has no attribute 'NOUN'",
     "output_type": "error",
     "traceback": [
      "\u001b[1;31m---------------------------------------------------------------------------\u001b[0m",
      "\u001b[1;31mAttributeError\u001b[0m                            Traceback (most recent call last)",
      "\u001b[1;32m~\\AppData\\Local\\Temp/ipykernel_9220/2759033578.py\u001b[0m in \u001b[0;36m<module>\u001b[1;34m\u001b[0m\n\u001b[0;32m     20\u001b[0m \u001b[0mlemmaObj\u001b[0m \u001b[1;33m=\u001b[0m  \u001b[0mWordNetLemmatizer\u001b[0m\u001b[1;33m(\u001b[0m\u001b[1;33m)\u001b[0m\u001b[1;33m\u001b[0m\u001b[1;33m\u001b[0m\u001b[0m\n\u001b[0;32m     21\u001b[0m \u001b[1;32mfor\u001b[0m \u001b[0mword\u001b[0m\u001b[1;33m,\u001b[0m\u001b[0mpos\u001b[0m \u001b[1;32min\u001b[0m \u001b[0mpos_tag_list\u001b[0m\u001b[1;33m:\u001b[0m\u001b[1;33m\u001b[0m\u001b[1;33m\u001b[0m\u001b[0m\n\u001b[1;32m---> 22\u001b[1;33m     \u001b[0mget_pos\u001b[0m \u001b[1;33m=\u001b[0m \u001b[0mparts_of_speech\u001b[0m\u001b[1;33m(\u001b[0m\u001b[0mpos\u001b[0m\u001b[1;33m)\u001b[0m\u001b[1;33m\u001b[0m\u001b[1;33m\u001b[0m\u001b[0m\n\u001b[0m\u001b[0;32m     23\u001b[0m     \u001b[1;32mif\u001b[0m \u001b[0mget_pos\u001b[0m \u001b[1;33m!=\u001b[0m \u001b[1;34m''\u001b[0m\u001b[1;33m:\u001b[0m\u001b[1;33m\u001b[0m\u001b[1;33m\u001b[0m\u001b[0m\n\u001b[0;32m     24\u001b[0m         \u001b[0mlemma_list\u001b[0m\u001b[1;33m.\u001b[0m\u001b[0mappend\u001b[0m\u001b[1;33m(\u001b[0m\u001b[0mlemmaObj\u001b[0m\u001b[1;33m.\u001b[0m\u001b[0mlemmatize\u001b[0m\u001b[1;33m(\u001b[0m\u001b[0mword\u001b[0m\u001b[1;33m,\u001b[0m \u001b[0mpos\u001b[0m \u001b[1;33m=\u001b[0m \u001b[0mget_pos\u001b[0m\u001b[1;33m)\u001b[0m\u001b[1;33m)\u001b[0m\u001b[1;33m\u001b[0m\u001b[1;33m\u001b[0m\u001b[0m\n",
      "\u001b[1;32m~\\AppData\\Local\\Temp/ipykernel_9220/2759033578.py\u001b[0m in \u001b[0;36mparts_of_speech\u001b[1;34m(pos)\u001b[0m\n\u001b[0;32m      5\u001b[0m \u001b[1;32mdef\u001b[0m \u001b[0mparts_of_speech\u001b[0m\u001b[1;33m(\u001b[0m\u001b[0mpos\u001b[0m\u001b[1;33m)\u001b[0m\u001b[1;33m:\u001b[0m\u001b[1;33m\u001b[0m\u001b[1;33m\u001b[0m\u001b[0m\n\u001b[0;32m      6\u001b[0m     \u001b[1;32mif\u001b[0m \u001b[0mpos\u001b[0m\u001b[1;33m.\u001b[0m\u001b[0mstartswith\u001b[0m\u001b[1;33m(\u001b[0m\u001b[1;34m\"N\"\u001b[0m\u001b[1;33m)\u001b[0m\u001b[1;33m:\u001b[0m\u001b[1;33m\u001b[0m\u001b[1;33m\u001b[0m\u001b[0m\n\u001b[1;32m----> 7\u001b[1;33m         \u001b[1;32mreturn\u001b[0m \u001b[0mwordnet\u001b[0m\u001b[1;33m.\u001b[0m\u001b[0mNOUN\u001b[0m\u001b[1;33m\u001b[0m\u001b[1;33m\u001b[0m\u001b[0m\n\u001b[0m\u001b[0;32m      8\u001b[0m     \u001b[1;32melif\u001b[0m \u001b[0mpos\u001b[0m\u001b[1;33m.\u001b[0m\u001b[0mstartswith\u001b[0m\u001b[1;33m(\u001b[0m\u001b[1;34m\"J\"\u001b[0m\u001b[1;33m)\u001b[0m\u001b[1;33m:\u001b[0m\u001b[1;33m\u001b[0m\u001b[1;33m\u001b[0m\u001b[0m\n\u001b[0;32m      9\u001b[0m         \u001b[1;32mreturn\u001b[0m \u001b[0mwordnet\u001b[0m\u001b[1;33m.\u001b[0m\u001b[0mADJ\u001b[0m\u001b[1;33m\u001b[0m\u001b[1;33m\u001b[0m\u001b[0m\n",
      "\u001b[1;31mAttributeError\u001b[0m: module 'nltk.stem.wordnet' has no attribute 'NOUN'"
     ]
    }
   ],
   "source": [
    "#parts of speech tagging\n",
    "pos_tag_list = pos_tag(set_wo_punctuation)\n",
    "# print(pos_tag_list)\n",
    "#for getting parts of speech\n",
    "def parts_of_speech(pos):\n",
    "    if pos.startswith(\"N\"):\n",
    "        return wordnet.NOUN\n",
    "    elif pos.startswith(\"J\"):\n",
    "        return wordnet.ADJ\n",
    "    elif pos.startswith(\"V\"):\n",
    "        return wordnet.VERB\n",
    "    elif pos.startswith(\"R\"):\n",
    "        return wordnet.ADV\n",
    "    elif pos.startswith(\"S\"):\n",
    "        return wordnet.ADJ_SAT\n",
    "    else:\n",
    "        return ''\n",
    "#lemmatization\n",
    "lemma_list = []\n",
    "lemmaObj =  WordNetLemmatizer()\n",
    "for word,pos in pos_tag_list:\n",
    "    get_pos = parts_of_speech(pos)\n",
    "    if get_pos != '':\n",
    "        lemma_list.append(lemmaObj.lemmatize(word, pos = get_pos))\n",
    "    else:\n",
    "        lemma_list.append(word)\n",
    "# print(lemma_list)\n"
   ]
  },
  {
   "cell_type": "code",
   "execution_count": 122,
   "id": "993892b3",
   "metadata": {},
   "outputs": [],
   "source": [
    "#bigrams\n",
    "bigrams = ngrams(set_wo_punctuation,2)\n",
    "# print(list(bigrams))\n"
   ]
  },
  {
   "cell_type": "code",
   "execution_count": 123,
   "id": "4af568e7",
   "metadata": {},
   "outputs": [
    {
     "name": "stdout",
     "output_type": "stream",
     "text": [
      "Occurences of a-z:  <re.Match object; span=(5, 8), match='was'>\n"
     ]
    }
   ],
   "source": [
    "sent3 = \"1947 was when India became independent.\"\n",
    "print(\"Occurences of a-z: \",re.search(r\"[a-z]+\",sent3)) \n",
    "#prints Occurences of a-z: <_sre.SRE_Match object; span=(5, 8), match='was'>\n"
   ]
  },
  {
   "cell_type": "code",
   "execution_count": 124,
   "id": "2229da02",
   "metadata": {},
   "outputs": [
    {
     "name": "stdout",
     "output_type": "stream",
     "text": [
      "Occurences of 0-9:  <re.Match object; span=(0, 4), match='1947'>\n"
     ]
    }
   ],
   "source": [
    "sent3 = \"1947 was when India became independent.\"\n",
    "print(\"Occurences of 0-9: \",re.search(r\"[0-9]+\",sent3))   \n",
    "#prints  Occurences of 0-9: <_sre.SRE_Match object; span=(0, 4), match='1947'>\n"
   ]
  },
  {
   "cell_type": "code",
   "execution_count": 125,
   "id": "a752211e",
   "metadata": {},
   "outputs": [
    {
     "name": "stdout",
     "output_type": "stream",
     "text": [
      "Occurences of 0-9:  <re.Match object; span=(0, 4), match='1947'>\n"
     ]
    }
   ],
   "source": [
    "sent3 = \"1947 was when India became independent.\"\n",
    "print(\"Occurences of 0-9: \",re.search(r\"[0-9]+\",sent3))   \n",
    "#prints  Occurences of 0-9: <_sre.SRE_Match object; span=(0, 4), match='1947'>\n"
   ]
  },
  {
   "cell_type": "code",
   "execution_count": 126,
   "id": "29d054a2",
   "metadata": {},
   "outputs": [
    {
     "name": "stdout",
     "output_type": "stream",
     "text": [
      "Occurences of w and space:  <re.Match object; span=(0, 38), match='1947_was when India became independent'>\n"
     ]
    }
   ],
   "source": [
    "sent3 = \"1947_was when India became independent.\"\n",
    "print(\"Occurences of w and space: \",re.search(r\"[\\w ]+\",sent3))\n",
    "#prints Occurences of 0-9: <_sre.SRE_Match object; span=(0, 38), match='1947_was when India became independent'>\n"
   ]
  },
  {
   "cell_type": "code",
   "execution_count": 127,
   "id": "4123f210",
   "metadata": {},
   "outputs": [
    {
     "name": "stdout",
     "output_type": "stream",
     "text": [
      "I like tea\n"
     ]
    }
   ],
   "source": [
    "sent = \"I like coffee\" \n",
    "print(re.sub(r\"coffee\",\"tea\",sent)) \n",
    "#prints I like tea\n"
   ]
  },
  {
   "cell_type": "code",
   "execution_count": 128,
   "id": "5203cd20",
   "metadata": {},
   "outputs": [
    {
     "name": "stdout",
     "output_type": "stream",
     "text": [
      "['coffee', 'coffee', 'coffee', 'coffee']\n",
      "4\n"
     ]
    }
   ],
   "source": [
    "sent = \"I like coffee and coffee is amazing. coffee keeps me awake. coffee is bad\" \n",
    "print(re.findall(r\"coffee\",sent))\n",
    "#prints ['coffee', 'coffee', 'coffee', 'coffee']\n",
    "print(len(re.findall(r\"coffee\",sent)))\n",
    "#prints 4\n"
   ]
  },
  {
   "cell_type": "code",
   "execution_count": 130,
   "id": "d9f93e58",
   "metadata": {},
   "outputs": [
    {
     "name": "stdout",
     "output_type": "stream",
     "text": [
      "['ca01', 'ca02', 'ca03', 'ca04', 'ca05', 'ca06', 'ca07', 'ca08', 'ca09', 'ca10', 'ca11', 'ca12', 'ca13', 'ca14', 'ca15', 'ca16', 'ca17', 'ca18', 'ca19', 'ca20', 'ca21', 'ca22', 'ca23', 'ca24', 'ca25', 'ca26', 'ca27', 'ca28', 'ca29', 'ca30', 'ca31', 'ca32', 'ca33', 'ca34', 'ca35', 'ca36', 'ca37', 'ca38', 'ca39', 'ca40', 'ca41', 'ca42', 'ca43', 'ca44', 'cb01', 'cb02', 'cb03', 'cb04', 'cb05', 'cb06', 'cb07', 'cb08', 'cb09', 'cb10', 'cb11', 'cb12', 'cb13', 'cb14', 'cb15', 'cb16', 'cb17', 'cb18', 'cb19', 'cb20', 'cb21', 'cb22', 'cb23', 'cb24', 'cb25', 'cb26', 'cb27', 'cc01', 'cc02', 'cc03', 'cc04', 'cc05', 'cc06', 'cc07', 'cc08', 'cc09', 'cc10', 'cc11', 'cc12', 'cc13', 'cc14', 'cc15', 'cc16', 'cc17', 'cd01', 'cd02', 'cd03', 'cd04', 'cd05', 'cd06', 'cd07', 'cd08', 'cd09', 'cd10', 'cd11', 'cd12', 'cd13', 'cd14', 'cd15', 'cd16', 'cd17', 'ce01', 'ce02', 'ce03', 'ce04', 'ce05', 'ce06', 'ce07', 'ce08', 'ce09', 'ce10', 'ce11', 'ce12', 'ce13', 'ce14', 'ce15', 'ce16', 'ce17', 'ce18', 'ce19', 'ce20', 'ce21', 'ce22', 'ce23', 'ce24', 'ce25', 'ce26', 'ce27', 'ce28', 'ce29', 'ce30', 'ce31', 'ce32', 'ce33', 'ce34', 'ce35', 'ce36', 'cf01', 'cf02', 'cf03', 'cf04', 'cf05', 'cf06', 'cf07', 'cf08', 'cf09', 'cf10', 'cf11', 'cf12', 'cf13', 'cf14', 'cf15', 'cf16', 'cf17', 'cf18', 'cf19', 'cf20', 'cf21', 'cf22', 'cf23', 'cf24', 'cf25', 'cf26', 'cf27', 'cf28', 'cf29', 'cf30', 'cf31', 'cf32', 'cf33', 'cf34', 'cf35', 'cf36', 'cf37', 'cf38', 'cf39', 'cf40', 'cf41', 'cf42', 'cf43', 'cf44', 'cf45', 'cf46', 'cf47', 'cf48', 'cg01', 'cg02', 'cg03', 'cg04', 'cg05', 'cg06', 'cg07', 'cg08', 'cg09', 'cg10', 'cg11', 'cg12', 'cg13', 'cg14', 'cg15', 'cg16', 'cg17', 'cg18', 'cg19', 'cg20', 'cg21', 'cg22', 'cg23', 'cg24', 'cg25', 'cg26', 'cg27', 'cg28', 'cg29', 'cg30', 'cg31', 'cg32', 'cg33', 'cg34', 'cg35', 'cg36', 'cg37', 'cg38', 'cg39', 'cg40', 'cg41', 'cg42', 'cg43', 'cg44', 'cg45', 'cg46', 'cg47', 'cg48', 'cg49', 'cg50', 'cg51', 'cg52', 'cg53', 'cg54', 'cg55', 'cg56', 'cg57', 'cg58', 'cg59', 'cg60', 'cg61', 'cg62', 'cg63', 'cg64', 'cg65', 'cg66', 'cg67', 'cg68', 'cg69', 'cg70', 'cg71', 'cg72', 'cg73', 'cg74', 'cg75', 'ch01', 'ch02', 'ch03', 'ch04', 'ch05', 'ch06', 'ch07', 'ch08', 'ch09', 'ch10', 'ch11', 'ch12', 'ch13', 'ch14', 'ch15', 'ch16', 'ch17', 'ch18', 'ch19', 'ch20', 'ch21', 'ch22', 'ch23', 'ch24', 'ch25', 'ch26', 'ch27', 'ch28', 'ch29', 'ch30', 'cj01', 'cj02', 'cj03', 'cj04', 'cj05', 'cj06', 'cj07', 'cj08', 'cj09', 'cj10', 'cj11', 'cj12', 'cj13', 'cj14', 'cj15', 'cj16', 'cj17', 'cj18', 'cj19', 'cj20', 'cj21', 'cj22', 'cj23', 'cj24', 'cj25', 'cj26', 'cj27', 'cj28', 'cj29', 'cj30', 'cj31', 'cj32', 'cj33', 'cj34', 'cj35', 'cj36', 'cj37', 'cj38', 'cj39', 'cj40', 'cj41', 'cj42', 'cj43', 'cj44', 'cj45', 'cj46', 'cj47', 'cj48', 'cj49', 'cj50', 'cj51', 'cj52', 'cj53', 'cj54', 'cj55', 'cj56', 'cj57', 'cj58', 'cj59', 'cj60', 'cj61', 'cj62', 'cj63', 'cj64', 'cj65', 'cj66', 'cj67', 'cj68', 'cj69', 'cj70', 'cj71', 'cj72', 'cj73', 'cj74', 'cj75', 'cj76', 'cj77', 'cj78', 'cj79', 'cj80', 'ck01', 'ck02', 'ck03', 'ck04', 'ck05', 'ck06', 'ck07', 'ck08', 'ck09', 'ck10', 'ck11', 'ck12', 'ck13', 'ck14', 'ck15', 'ck16', 'ck17', 'ck18', 'ck19', 'ck20', 'ck21', 'ck22', 'ck23', 'ck24', 'ck25', 'ck26', 'ck27', 'ck28', 'ck29', 'cl01', 'cl02', 'cl03', 'cl04', 'cl05', 'cl06', 'cl07', 'cl08', 'cl09', 'cl10', 'cl11', 'cl12', 'cl13', 'cl14', 'cl15', 'cl16', 'cl17', 'cl18', 'cl19', 'cl20', 'cl21', 'cl22', 'cl23', 'cl24', 'cm01', 'cm02', 'cm03', 'cm04', 'cm05', 'cm06', 'cn01', 'cn02', 'cn03', 'cn04', 'cn05', 'cn06', 'cn07', 'cn08', 'cn09', 'cn10', 'cn11', 'cn12', 'cn13', 'cn14', 'cn15', 'cn16', 'cn17', 'cn18', 'cn19', 'cn20', 'cn21', 'cn22', 'cn23', 'cn24', 'cn25', 'cn26', 'cn27', 'cn28', 'cn29', 'cp01', 'cp02', 'cp03', 'cp04', 'cp05', 'cp06', 'cp07', 'cp08', 'cp09', 'cp10', 'cp11', 'cp12', 'cp13', 'cp14', 'cp15', 'cp16', 'cp17', 'cp18', 'cp19', 'cp20', 'cp21', 'cp22', 'cp23', 'cp24', 'cp25', 'cp26', 'cp27', 'cp28', 'cp29', 'cr01', 'cr02', 'cr03', 'cr04', 'cr05', 'cr06', 'cr07', 'cr08', 'cr09']\n",
      "[[['The', 'Fulton', 'County', 'Grand', 'Jury', 'said', 'Friday', 'an', 'investigation', 'of', \"Atlanta's\", 'recent', 'primary', 'election', 'produced', '``', 'no', 'evidence', \"''\", 'that', 'any', 'irregularities', 'took', 'place', '.']], [['The', 'jury', 'further', 'said', 'in', 'term-end', 'presentments', 'that', 'the', 'City', 'Executive', 'Committee', ',', 'which', 'had', 'over-all', 'charge', 'of', 'the', 'election', ',', '``', 'deserves', 'the', 'praise', 'and', 'thanks', 'of', 'the', 'City', 'of', 'Atlanta', \"''\", 'for', 'the', 'manner', 'in', 'which', 'the', 'election', 'was', 'conducted', '.']], ...]\n",
      "[['The', 'Fulton', 'County', 'Grand', 'Jury', 'said', 'Friday', 'an', 'investigation', 'of', \"Atlanta's\", 'recent', 'primary', 'election', 'produced', '``', 'no', 'evidence', \"''\", 'that', 'any', 'irregularities', 'took', 'place', '.'], ['The', 'jury', 'further', 'said', 'in', 'term-end', 'presentments', 'that', 'the', 'City', 'Executive', 'Committee', ',', 'which', 'had', 'over-all', 'charge', 'of', 'the', 'election', ',', '``', 'deserves', 'the', 'praise', 'and', 'thanks', 'of', 'the', 'City', 'of', 'Atlanta', \"''\", 'for', 'the', 'manner', 'in', 'which', 'the', 'election', 'was', 'conducted', '.'], ...]\n",
      "['The', 'Fulton', 'County', 'Grand', 'Jury', 'said', ...]\n",
      "[('The', 'AT'), ('Fulton', 'NP-TL'), ...]\n"
     ]
    },
    {
     "ename": "LookupError",
     "evalue": "\n**********************************************************************\n  Resource \u001b[93mconll2000\u001b[0m not found.\n  Please use the NLTK Downloader to obtain the resource:\n\n  \u001b[31m>>> import nltk\n  >>> nltk.download('conll2000')\n  \u001b[0m\n  For more information see: https://www.nltk.org/data.html\n\n  Attempted to load \u001b[93mcorpora/conll2000\u001b[0m\n\n  Searched in:\n    - 'C:\\\\Users\\\\Ankul/nltk_data'\n    - 'C:\\\\Users\\\\Ankul\\\\AppData\\\\Local\\\\Programs\\\\Python\\\\Python310\\\\nltk_data'\n    - 'C:\\\\Users\\\\Ankul\\\\AppData\\\\Local\\\\Programs\\\\Python\\\\Python310\\\\share\\\\nltk_data'\n    - 'C:\\\\Users\\\\Ankul\\\\AppData\\\\Local\\\\Programs\\\\Python\\\\Python310\\\\lib\\\\nltk_data'\n    - 'C:\\\\Users\\\\Ankul\\\\AppData\\\\Roaming\\\\nltk_data'\n    - 'C:\\\\nltk_data'\n    - 'D:\\\\nltk_data'\n    - 'E:\\\\nltk_data'\n**********************************************************************\n",
     "output_type": "error",
     "traceback": [
      "\u001b[1;31m---------------------------------------------------------------------------\u001b[0m",
      "\u001b[1;31mLookupError\u001b[0m                               Traceback (most recent call last)",
      "\u001b[1;32m~\\AppData\\Local\\Programs\\Python\\Python310\\lib\\site-packages\\nltk\\corpus\\util.py\u001b[0m in \u001b[0;36m__load\u001b[1;34m(self)\u001b[0m\n\u001b[0;32m     83\u001b[0m                 \u001b[1;32mtry\u001b[0m\u001b[1;33m:\u001b[0m\u001b[1;33m\u001b[0m\u001b[1;33m\u001b[0m\u001b[0m\n\u001b[1;32m---> 84\u001b[1;33m                     \u001b[0mroot\u001b[0m \u001b[1;33m=\u001b[0m \u001b[0mnltk\u001b[0m\u001b[1;33m.\u001b[0m\u001b[0mdata\u001b[0m\u001b[1;33m.\u001b[0m\u001b[0mfind\u001b[0m\u001b[1;33m(\u001b[0m\u001b[1;34mf\"{self.subdir}/{zip_name}\"\u001b[0m\u001b[1;33m)\u001b[0m\u001b[1;33m\u001b[0m\u001b[1;33m\u001b[0m\u001b[0m\n\u001b[0m\u001b[0;32m     85\u001b[0m                 \u001b[1;32mexcept\u001b[0m \u001b[0mLookupError\u001b[0m\u001b[1;33m:\u001b[0m\u001b[1;33m\u001b[0m\u001b[1;33m\u001b[0m\u001b[0m\n",
      "\u001b[1;32m~\\AppData\\Local\\Programs\\Python\\Python310\\lib\\site-packages\\nltk\\data.py\u001b[0m in \u001b[0;36mfind\u001b[1;34m(resource_name, paths)\u001b[0m\n\u001b[0;32m    582\u001b[0m     \u001b[0mresource_not_found\u001b[0m \u001b[1;33m=\u001b[0m \u001b[1;34mf\"\\n{sep}\\n{msg}\\n{sep}\\n\"\u001b[0m\u001b[1;33m\u001b[0m\u001b[1;33m\u001b[0m\u001b[0m\n\u001b[1;32m--> 583\u001b[1;33m     \u001b[1;32mraise\u001b[0m \u001b[0mLookupError\u001b[0m\u001b[1;33m(\u001b[0m\u001b[0mresource_not_found\u001b[0m\u001b[1;33m)\u001b[0m\u001b[1;33m\u001b[0m\u001b[1;33m\u001b[0m\u001b[0m\n\u001b[0m\u001b[0;32m    584\u001b[0m \u001b[1;33m\u001b[0m\u001b[0m\n",
      "\u001b[1;31mLookupError\u001b[0m: \n**********************************************************************\n  Resource \u001b[93mconll2000\u001b[0m not found.\n  Please use the NLTK Downloader to obtain the resource:\n\n  \u001b[31m>>> import nltk\n  >>> nltk.download('conll2000')\n  \u001b[0m\n  For more information see: https://www.nltk.org/data.html\n\n  Attempted to load \u001b[93mcorpora/conll2000.zip/conll2000/\u001b[0m\n\n  Searched in:\n    - 'C:\\\\Users\\\\Ankul/nltk_data'\n    - 'C:\\\\Users\\\\Ankul\\\\AppData\\\\Local\\\\Programs\\\\Python\\\\Python310\\\\nltk_data'\n    - 'C:\\\\Users\\\\Ankul\\\\AppData\\\\Local\\\\Programs\\\\Python\\\\Python310\\\\share\\\\nltk_data'\n    - 'C:\\\\Users\\\\Ankul\\\\AppData\\\\Local\\\\Programs\\\\Python\\\\Python310\\\\lib\\\\nltk_data'\n    - 'C:\\\\Users\\\\Ankul\\\\AppData\\\\Roaming\\\\nltk_data'\n    - 'C:\\\\nltk_data'\n    - 'D:\\\\nltk_data'\n    - 'E:\\\\nltk_data'\n**********************************************************************\n",
      "\nDuring handling of the above exception, another exception occurred:\n",
      "\u001b[1;31mLookupError\u001b[0m                               Traceback (most recent call last)",
      "\u001b[1;32m~\\AppData\\Local\\Temp/ipykernel_9220/165481896.py\u001b[0m in \u001b[0;36m<module>\u001b[1;34m\u001b[0m\n\u001b[0;32m     11\u001b[0m \u001b[1;31m#Loading the CoNLL2000 corpus which has 270k words that are tagged and chunked\u001b[0m\u001b[1;33m\u001b[0m\u001b[1;33m\u001b[0m\u001b[0m\n\u001b[0;32m     12\u001b[0m \u001b[1;32mfrom\u001b[0m \u001b[0mnltk\u001b[0m\u001b[1;33m.\u001b[0m\u001b[0mcorpus\u001b[0m \u001b[1;32mimport\u001b[0m \u001b[0mconll2000\u001b[0m\u001b[1;33m\u001b[0m\u001b[1;33m\u001b[0m\u001b[0m\n\u001b[1;32m---> 13\u001b[1;33m \u001b[0mprint\u001b[0m\u001b[1;33m(\u001b[0m\u001b[0mconll2000\u001b[0m\u001b[1;33m.\u001b[0m\u001b[0mfileids\u001b[0m\u001b[1;33m(\u001b[0m\u001b[1;33m)\u001b[0m\u001b[1;33m)\u001b[0m\u001b[1;33m\u001b[0m\u001b[1;33m\u001b[0m\u001b[0m\n\u001b[0m\u001b[0;32m     14\u001b[0m \u001b[0mprint\u001b[0m\u001b[1;33m(\u001b[0m\u001b[0mconll2000\u001b[0m\u001b[1;33m.\u001b[0m\u001b[0mwords\u001b[0m\u001b[1;33m(\u001b[0m\u001b[1;34m'train.txt'\u001b[0m\u001b[1;33m)\u001b[0m\u001b[1;33m)\u001b[0m\u001b[1;33m\u001b[0m\u001b[1;33m\u001b[0m\u001b[0m\n\u001b[0;32m     15\u001b[0m \u001b[0mprint\u001b[0m\u001b[1;33m(\u001b[0m\u001b[0mconll2000\u001b[0m\u001b[1;33m.\u001b[0m\u001b[0mchunked_sents\u001b[0m\u001b[1;33m(\u001b[0m\u001b[1;34m'train.txt'\u001b[0m\u001b[1;33m)\u001b[0m\u001b[1;33m)\u001b[0m\u001b[1;33m\u001b[0m\u001b[1;33m\u001b[0m\u001b[0m\n",
      "\u001b[1;32m~\\AppData\\Local\\Programs\\Python\\Python310\\lib\\site-packages\\nltk\\corpus\\util.py\u001b[0m in \u001b[0;36m__getattr__\u001b[1;34m(self, attr)\u001b[0m\n\u001b[0;32m    119\u001b[0m             \u001b[1;32mraise\u001b[0m \u001b[0mAttributeError\u001b[0m\u001b[1;33m(\u001b[0m\u001b[1;34m\"LazyCorpusLoader object has no attribute '__bases__'\"\u001b[0m\u001b[1;33m)\u001b[0m\u001b[1;33m\u001b[0m\u001b[1;33m\u001b[0m\u001b[0m\n\u001b[0;32m    120\u001b[0m \u001b[1;33m\u001b[0m\u001b[0m\n\u001b[1;32m--> 121\u001b[1;33m         \u001b[0mself\u001b[0m\u001b[1;33m.\u001b[0m\u001b[0m__load\u001b[0m\u001b[1;33m(\u001b[0m\u001b[1;33m)\u001b[0m\u001b[1;33m\u001b[0m\u001b[1;33m\u001b[0m\u001b[0m\n\u001b[0m\u001b[0;32m    122\u001b[0m         \u001b[1;31m# This looks circular, but its not, since __load() changes our\u001b[0m\u001b[1;33m\u001b[0m\u001b[1;33m\u001b[0m\u001b[0m\n\u001b[0;32m    123\u001b[0m         \u001b[1;31m# __class__ to something new:\u001b[0m\u001b[1;33m\u001b[0m\u001b[1;33m\u001b[0m\u001b[0m\n",
      "\u001b[1;32m~\\AppData\\Local\\Programs\\Python\\Python310\\lib\\site-packages\\nltk\\corpus\\util.py\u001b[0m in \u001b[0;36m__load\u001b[1;34m(self)\u001b[0m\n\u001b[0;32m     84\u001b[0m                     \u001b[0mroot\u001b[0m \u001b[1;33m=\u001b[0m \u001b[0mnltk\u001b[0m\u001b[1;33m.\u001b[0m\u001b[0mdata\u001b[0m\u001b[1;33m.\u001b[0m\u001b[0mfind\u001b[0m\u001b[1;33m(\u001b[0m\u001b[1;34mf\"{self.subdir}/{zip_name}\"\u001b[0m\u001b[1;33m)\u001b[0m\u001b[1;33m\u001b[0m\u001b[1;33m\u001b[0m\u001b[0m\n\u001b[0;32m     85\u001b[0m                 \u001b[1;32mexcept\u001b[0m \u001b[0mLookupError\u001b[0m\u001b[1;33m:\u001b[0m\u001b[1;33m\u001b[0m\u001b[1;33m\u001b[0m\u001b[0m\n\u001b[1;32m---> 86\u001b[1;33m                     \u001b[1;32mraise\u001b[0m \u001b[0me\u001b[0m\u001b[1;33m\u001b[0m\u001b[1;33m\u001b[0m\u001b[0m\n\u001b[0m\u001b[0;32m     87\u001b[0m \u001b[1;33m\u001b[0m\u001b[0m\n\u001b[0;32m     88\u001b[0m         \u001b[1;31m# Load the corpus.\u001b[0m\u001b[1;33m\u001b[0m\u001b[1;33m\u001b[0m\u001b[0m\n",
      "\u001b[1;32m~\\AppData\\Local\\Programs\\Python\\Python310\\lib\\site-packages\\nltk\\corpus\\util.py\u001b[0m in \u001b[0;36m__load\u001b[1;34m(self)\u001b[0m\n\u001b[0;32m     79\u001b[0m         \u001b[1;32melse\u001b[0m\u001b[1;33m:\u001b[0m\u001b[1;33m\u001b[0m\u001b[1;33m\u001b[0m\u001b[0m\n\u001b[0;32m     80\u001b[0m             \u001b[1;32mtry\u001b[0m\u001b[1;33m:\u001b[0m\u001b[1;33m\u001b[0m\u001b[1;33m\u001b[0m\u001b[0m\n\u001b[1;32m---> 81\u001b[1;33m                 \u001b[0mroot\u001b[0m \u001b[1;33m=\u001b[0m \u001b[0mnltk\u001b[0m\u001b[1;33m.\u001b[0m\u001b[0mdata\u001b[0m\u001b[1;33m.\u001b[0m\u001b[0mfind\u001b[0m\u001b[1;33m(\u001b[0m\u001b[1;34mf\"{self.subdir}/{self.__name}\"\u001b[0m\u001b[1;33m)\u001b[0m\u001b[1;33m\u001b[0m\u001b[1;33m\u001b[0m\u001b[0m\n\u001b[0m\u001b[0;32m     82\u001b[0m             \u001b[1;32mexcept\u001b[0m \u001b[0mLookupError\u001b[0m \u001b[1;32mas\u001b[0m \u001b[0me\u001b[0m\u001b[1;33m:\u001b[0m\u001b[1;33m\u001b[0m\u001b[1;33m\u001b[0m\u001b[0m\n\u001b[0;32m     83\u001b[0m                 \u001b[1;32mtry\u001b[0m\u001b[1;33m:\u001b[0m\u001b[1;33m\u001b[0m\u001b[1;33m\u001b[0m\u001b[0m\n",
      "\u001b[1;32m~\\AppData\\Local\\Programs\\Python\\Python310\\lib\\site-packages\\nltk\\data.py\u001b[0m in \u001b[0;36mfind\u001b[1;34m(resource_name, paths)\u001b[0m\n\u001b[0;32m    581\u001b[0m     \u001b[0msep\u001b[0m \u001b[1;33m=\u001b[0m \u001b[1;34m\"*\"\u001b[0m \u001b[1;33m*\u001b[0m \u001b[1;36m70\u001b[0m\u001b[1;33m\u001b[0m\u001b[1;33m\u001b[0m\u001b[0m\n\u001b[0;32m    582\u001b[0m     \u001b[0mresource_not_found\u001b[0m \u001b[1;33m=\u001b[0m \u001b[1;34mf\"\\n{sep}\\n{msg}\\n{sep}\\n\"\u001b[0m\u001b[1;33m\u001b[0m\u001b[1;33m\u001b[0m\u001b[0m\n\u001b[1;32m--> 583\u001b[1;33m     \u001b[1;32mraise\u001b[0m \u001b[0mLookupError\u001b[0m\u001b[1;33m(\u001b[0m\u001b[0mresource_not_found\u001b[0m\u001b[1;33m)\u001b[0m\u001b[1;33m\u001b[0m\u001b[1;33m\u001b[0m\u001b[0m\n\u001b[0m\u001b[0;32m    584\u001b[0m \u001b[1;33m\u001b[0m\u001b[0m\n\u001b[0;32m    585\u001b[0m \u001b[1;33m\u001b[0m\u001b[0m\n",
      "\u001b[1;31mLookupError\u001b[0m: \n**********************************************************************\n  Resource \u001b[93mconll2000\u001b[0m not found.\n  Please use the NLTK Downloader to obtain the resource:\n\n  \u001b[31m>>> import nltk\n  >>> nltk.download('conll2000')\n  \u001b[0m\n  For more information see: https://www.nltk.org/data.html\n\n  Attempted to load \u001b[93mcorpora/conll2000\u001b[0m\n\n  Searched in:\n    - 'C:\\\\Users\\\\Ankul/nltk_data'\n    - 'C:\\\\Users\\\\Ankul\\\\AppData\\\\Local\\\\Programs\\\\Python\\\\Python310\\\\nltk_data'\n    - 'C:\\\\Users\\\\Ankul\\\\AppData\\\\Local\\\\Programs\\\\Python\\\\Python310\\\\share\\\\nltk_data'\n    - 'C:\\\\Users\\\\Ankul\\\\AppData\\\\Local\\\\Programs\\\\Python\\\\Python310\\\\lib\\\\nltk_data'\n    - 'C:\\\\Users\\\\Ankul\\\\AppData\\\\Roaming\\\\nltk_data'\n    - 'C:\\\\nltk_data'\n    - 'D:\\\\nltk_data'\n    - 'E:\\\\nltk_data'\n**********************************************************************\n"
     ]
    }
   ],
   "source": [
    "from nltk.corpus import brown\n",
    "# brown corpus is a tagged corpus where each word in each file of the corpus is associated with its POS tag\n",
    "#Display all the files that are there in the corpus\n",
    "print(brown.fileids())\n",
    "#Display the paragraphs, sentences and words in a specific file of the corpus\n",
    "print(brown.paras('ca01'))\n",
    "print(brown.sents('ca01'))\n",
    "print(brown.words('ca01'))\n",
    "#Display the POS tag for each word in a specific file of the corpus\n",
    "print(brown.tagged_words('ca01'))\n",
    "#Loading the CoNLL2000 corpus which has 270k words that are tagged and chunked\n",
    "from nltk.corpus import conll2000\n",
    "print(conll2000.fileids())\n",
    "print(conll2000.words('train.txt'))\n",
    "print(conll2000.chunked_sents('train.txt'))\n",
    "# When you print the chunked sentences, observe how chunks of tagged words are tagged.\n",
    "# For example, a chunk containing ('the' , 'DT') and ('pound', NN') is tagged as 'NP' \n"
   ]
  },
  {
   "cell_type": "code",
   "execution_count": 133,
   "id": "dd406223",
   "metadata": {},
   "outputs": [
    {
     "name": "stdout",
     "output_type": "stream",
     "text": [
      "[]\n"
     ]
    },
    {
     "ename": "OSError",
     "evalue": "No such file or directory: 'D:\\\\Desktop\\\\code\\\\NLP_Capstone.txt\\\\barack.txt'",
     "output_type": "error",
     "traceback": [
      "\u001b[1;31m---------------------------------------------------------------------------\u001b[0m",
      "\u001b[1;31mOSError\u001b[0m                                   Traceback (most recent call last)",
      "\u001b[1;32m~\\AppData\\Local\\Temp/ipykernel_9220/270944623.py\u001b[0m in \u001b[0;36m<module>\u001b[1;34m\u001b[0m\n\u001b[0;32m      5\u001b[0m \u001b[0mprint\u001b[0m\u001b[1;33m(\u001b[0m\u001b[0mpresident_corpus\u001b[0m\u001b[1;33m.\u001b[0m\u001b[0mfileids\u001b[0m\u001b[1;33m(\u001b[0m\u001b[1;33m)\u001b[0m\u001b[1;33m)\u001b[0m \u001b[1;31m#Prints ['barack.txt', 'bush.txt', 'trump.txt']\u001b[0m\u001b[1;33m\u001b[0m\u001b[1;33m\u001b[0m\u001b[0m\n\u001b[0;32m      6\u001b[0m \u001b[1;31m#Display the sentences in a specific file\u001b[0m\u001b[1;33m\u001b[0m\u001b[1;33m\u001b[0m\u001b[0m\n\u001b[1;32m----> 7\u001b[1;33m \u001b[0mprint\u001b[0m\u001b[1;33m(\u001b[0m\u001b[0mpresident_corpus\u001b[0m\u001b[1;33m.\u001b[0m\u001b[0msents\u001b[0m\u001b[1;33m(\u001b[0m\u001b[1;34m'barack.txt'\u001b[0m\u001b[1;33m)\u001b[0m\u001b[1;33m)\u001b[0m\u001b[1;33m\u001b[0m\u001b[1;33m\u001b[0m\u001b[0m\n\u001b[0m\u001b[0;32m      8\u001b[0m \u001b[1;31m#Display the sentences in all files of the corpus\u001b[0m\u001b[1;33m\u001b[0m\u001b[1;33m\u001b[0m\u001b[0m\n\u001b[0;32m      9\u001b[0m \u001b[0mprint\u001b[0m\u001b[1;33m(\u001b[0m\u001b[0mpresident_corpus\u001b[0m\u001b[1;33m.\u001b[0m\u001b[0msents\u001b[0m\u001b[1;33m(\u001b[0m\u001b[1;33m)\u001b[0m\u001b[1;33m)\u001b[0m\u001b[1;33m\u001b[0m\u001b[1;33m\u001b[0m\u001b[0m\n",
      "\u001b[1;32m~\\AppData\\Local\\Programs\\Python\\Python310\\lib\\site-packages\\nltk\\corpus\\reader\\plaintext.py\u001b[0m in \u001b[0;36msents\u001b[1;34m(self, fileids)\u001b[0m\n\u001b[0;32m     91\u001b[0m             [\n\u001b[0;32m     92\u001b[0m                 \u001b[0mself\u001b[0m\u001b[1;33m.\u001b[0m\u001b[0mCorpusView\u001b[0m\u001b[1;33m(\u001b[0m\u001b[0mpath\u001b[0m\u001b[1;33m,\u001b[0m \u001b[0mself\u001b[0m\u001b[1;33m.\u001b[0m\u001b[0m_read_sent_block\u001b[0m\u001b[1;33m,\u001b[0m \u001b[0mencoding\u001b[0m\u001b[1;33m=\u001b[0m\u001b[0menc\u001b[0m\u001b[1;33m)\u001b[0m\u001b[1;33m\u001b[0m\u001b[1;33m\u001b[0m\u001b[0m\n\u001b[1;32m---> 93\u001b[1;33m                 \u001b[1;32mfor\u001b[0m \u001b[1;33m(\u001b[0m\u001b[0mpath\u001b[0m\u001b[1;33m,\u001b[0m \u001b[0menc\u001b[0m\u001b[1;33m,\u001b[0m \u001b[0mfileid\u001b[0m\u001b[1;33m)\u001b[0m \u001b[1;32min\u001b[0m \u001b[0mself\u001b[0m\u001b[1;33m.\u001b[0m\u001b[0mabspaths\u001b[0m\u001b[1;33m(\u001b[0m\u001b[0mfileids\u001b[0m\u001b[1;33m,\u001b[0m \u001b[1;32mTrue\u001b[0m\u001b[1;33m,\u001b[0m \u001b[1;32mTrue\u001b[0m\u001b[1;33m)\u001b[0m\u001b[1;33m\u001b[0m\u001b[1;33m\u001b[0m\u001b[0m\n\u001b[0m\u001b[0;32m     94\u001b[0m             ]\n\u001b[0;32m     95\u001b[0m         )\n",
      "\u001b[1;32m~\\AppData\\Local\\Programs\\Python\\Python310\\lib\\site-packages\\nltk\\corpus\\reader\\api.py\u001b[0m in \u001b[0;36mabspaths\u001b[1;34m(self, fileids, include_encoding, include_fileid)\u001b[0m\n\u001b[0;32m    193\u001b[0m             \u001b[0mfileids\u001b[0m \u001b[1;33m=\u001b[0m \u001b[1;33m[\u001b[0m\u001b[0mfileids\u001b[0m\u001b[1;33m]\u001b[0m\u001b[1;33m\u001b[0m\u001b[1;33m\u001b[0m\u001b[0m\n\u001b[0;32m    194\u001b[0m \u001b[1;33m\u001b[0m\u001b[0m\n\u001b[1;32m--> 195\u001b[1;33m         \u001b[0mpaths\u001b[0m \u001b[1;33m=\u001b[0m \u001b[1;33m[\u001b[0m\u001b[0mself\u001b[0m\u001b[1;33m.\u001b[0m\u001b[0m_root\u001b[0m\u001b[1;33m.\u001b[0m\u001b[0mjoin\u001b[0m\u001b[1;33m(\u001b[0m\u001b[0mf\u001b[0m\u001b[1;33m)\u001b[0m \u001b[1;32mfor\u001b[0m \u001b[0mf\u001b[0m \u001b[1;32min\u001b[0m \u001b[0mfileids\u001b[0m\u001b[1;33m]\u001b[0m\u001b[1;33m\u001b[0m\u001b[1;33m\u001b[0m\u001b[0m\n\u001b[0m\u001b[0;32m    196\u001b[0m \u001b[1;33m\u001b[0m\u001b[0m\n\u001b[0;32m    197\u001b[0m         \u001b[1;32mif\u001b[0m \u001b[0minclude_encoding\u001b[0m \u001b[1;32mand\u001b[0m \u001b[0minclude_fileid\u001b[0m\u001b[1;33m:\u001b[0m\u001b[1;33m\u001b[0m\u001b[1;33m\u001b[0m\u001b[0m\n",
      "\u001b[1;32m~\\AppData\\Local\\Programs\\Python\\Python310\\lib\\site-packages\\nltk\\corpus\\reader\\api.py\u001b[0m in \u001b[0;36m<listcomp>\u001b[1;34m(.0)\u001b[0m\n\u001b[0;32m    193\u001b[0m             \u001b[0mfileids\u001b[0m \u001b[1;33m=\u001b[0m \u001b[1;33m[\u001b[0m\u001b[0mfileids\u001b[0m\u001b[1;33m]\u001b[0m\u001b[1;33m\u001b[0m\u001b[1;33m\u001b[0m\u001b[0m\n\u001b[0;32m    194\u001b[0m \u001b[1;33m\u001b[0m\u001b[0m\n\u001b[1;32m--> 195\u001b[1;33m         \u001b[0mpaths\u001b[0m \u001b[1;33m=\u001b[0m \u001b[1;33m[\u001b[0m\u001b[0mself\u001b[0m\u001b[1;33m.\u001b[0m\u001b[0m_root\u001b[0m\u001b[1;33m.\u001b[0m\u001b[0mjoin\u001b[0m\u001b[1;33m(\u001b[0m\u001b[0mf\u001b[0m\u001b[1;33m)\u001b[0m \u001b[1;32mfor\u001b[0m \u001b[0mf\u001b[0m \u001b[1;32min\u001b[0m \u001b[0mfileids\u001b[0m\u001b[1;33m]\u001b[0m\u001b[1;33m\u001b[0m\u001b[1;33m\u001b[0m\u001b[0m\n\u001b[0m\u001b[0;32m    196\u001b[0m \u001b[1;33m\u001b[0m\u001b[0m\n\u001b[0;32m    197\u001b[0m         \u001b[1;32mif\u001b[0m \u001b[0minclude_encoding\u001b[0m \u001b[1;32mand\u001b[0m \u001b[0minclude_fileid\u001b[0m\u001b[1;33m:\u001b[0m\u001b[1;33m\u001b[0m\u001b[1;33m\u001b[0m\u001b[0m\n",
      "\u001b[1;32m~\\AppData\\Local\\Programs\\Python\\Python310\\lib\\site-packages\\nltk\\data.py\u001b[0m in \u001b[0;36mjoin\u001b[1;34m(self, fileid)\u001b[0m\n\u001b[0;32m    332\u001b[0m     \u001b[1;32mdef\u001b[0m \u001b[0mjoin\u001b[0m\u001b[1;33m(\u001b[0m\u001b[0mself\u001b[0m\u001b[1;33m,\u001b[0m \u001b[0mfileid\u001b[0m\u001b[1;33m)\u001b[0m\u001b[1;33m:\u001b[0m\u001b[1;33m\u001b[0m\u001b[1;33m\u001b[0m\u001b[0m\n\u001b[0;32m    333\u001b[0m         \u001b[0m_path\u001b[0m \u001b[1;33m=\u001b[0m \u001b[0mos\u001b[0m\u001b[1;33m.\u001b[0m\u001b[0mpath\u001b[0m\u001b[1;33m.\u001b[0m\u001b[0mjoin\u001b[0m\u001b[1;33m(\u001b[0m\u001b[0mself\u001b[0m\u001b[1;33m.\u001b[0m\u001b[0m_path\u001b[0m\u001b[1;33m,\u001b[0m \u001b[0mfileid\u001b[0m\u001b[1;33m)\u001b[0m\u001b[1;33m\u001b[0m\u001b[1;33m\u001b[0m\u001b[0m\n\u001b[1;32m--> 334\u001b[1;33m         \u001b[1;32mreturn\u001b[0m \u001b[0mFileSystemPathPointer\u001b[0m\u001b[1;33m(\u001b[0m\u001b[0m_path\u001b[0m\u001b[1;33m)\u001b[0m\u001b[1;33m\u001b[0m\u001b[1;33m\u001b[0m\u001b[0m\n\u001b[0m\u001b[0;32m    335\u001b[0m \u001b[1;33m\u001b[0m\u001b[0m\n\u001b[0;32m    336\u001b[0m     \u001b[1;32mdef\u001b[0m \u001b[0m__repr__\u001b[0m\u001b[1;33m(\u001b[0m\u001b[0mself\u001b[0m\u001b[1;33m)\u001b[0m\u001b[1;33m:\u001b[0m\u001b[1;33m\u001b[0m\u001b[1;33m\u001b[0m\u001b[0m\n",
      "\u001b[1;32m~\\AppData\\Local\\Programs\\Python\\Python310\\lib\\site-packages\\nltk\\compat.py\u001b[0m in \u001b[0;36m_decorator\u001b[1;34m(*args, **kwargs)\u001b[0m\n\u001b[0;32m     39\u001b[0m     \u001b[1;32mdef\u001b[0m \u001b[0m_decorator\u001b[0m\u001b[1;33m(\u001b[0m\u001b[1;33m*\u001b[0m\u001b[0margs\u001b[0m\u001b[1;33m,\u001b[0m \u001b[1;33m**\u001b[0m\u001b[0mkwargs\u001b[0m\u001b[1;33m)\u001b[0m\u001b[1;33m:\u001b[0m\u001b[1;33m\u001b[0m\u001b[1;33m\u001b[0m\u001b[0m\n\u001b[0;32m     40\u001b[0m         \u001b[0margs\u001b[0m \u001b[1;33m=\u001b[0m \u001b[1;33m(\u001b[0m\u001b[0margs\u001b[0m\u001b[1;33m[\u001b[0m\u001b[1;36m0\u001b[0m\u001b[1;33m]\u001b[0m\u001b[1;33m,\u001b[0m \u001b[0madd_py3_data\u001b[0m\u001b[1;33m(\u001b[0m\u001b[0margs\u001b[0m\u001b[1;33m[\u001b[0m\u001b[1;36m1\u001b[0m\u001b[1;33m]\u001b[0m\u001b[1;33m)\u001b[0m\u001b[1;33m)\u001b[0m \u001b[1;33m+\u001b[0m \u001b[0margs\u001b[0m\u001b[1;33m[\u001b[0m\u001b[1;36m2\u001b[0m\u001b[1;33m:\u001b[0m\u001b[1;33m]\u001b[0m\u001b[1;33m\u001b[0m\u001b[1;33m\u001b[0m\u001b[0m\n\u001b[1;32m---> 41\u001b[1;33m         \u001b[1;32mreturn\u001b[0m \u001b[0minit_func\u001b[0m\u001b[1;33m(\u001b[0m\u001b[1;33m*\u001b[0m\u001b[0margs\u001b[0m\u001b[1;33m,\u001b[0m \u001b[1;33m**\u001b[0m\u001b[0mkwargs\u001b[0m\u001b[1;33m)\u001b[0m\u001b[1;33m\u001b[0m\u001b[1;33m\u001b[0m\u001b[0m\n\u001b[0m\u001b[0;32m     42\u001b[0m \u001b[1;33m\u001b[0m\u001b[0m\n\u001b[0;32m     43\u001b[0m     \u001b[1;32mreturn\u001b[0m \u001b[0mwraps\u001b[0m\u001b[1;33m(\u001b[0m\u001b[0minit_func\u001b[0m\u001b[1;33m)\u001b[0m\u001b[1;33m(\u001b[0m\u001b[0m_decorator\u001b[0m\u001b[1;33m)\u001b[0m\u001b[1;33m\u001b[0m\u001b[1;33m\u001b[0m\u001b[0m\n",
      "\u001b[1;32m~\\AppData\\Local\\Programs\\Python\\Python310\\lib\\site-packages\\nltk\\data.py\u001b[0m in \u001b[0;36m__init__\u001b[1;34m(self, _path)\u001b[0m\n\u001b[0;32m    310\u001b[0m         \u001b[0m_path\u001b[0m \u001b[1;33m=\u001b[0m \u001b[0mos\u001b[0m\u001b[1;33m.\u001b[0m\u001b[0mpath\u001b[0m\u001b[1;33m.\u001b[0m\u001b[0mabspath\u001b[0m\u001b[1;33m(\u001b[0m\u001b[0m_path\u001b[0m\u001b[1;33m)\u001b[0m\u001b[1;33m\u001b[0m\u001b[1;33m\u001b[0m\u001b[0m\n\u001b[0;32m    311\u001b[0m         \u001b[1;32mif\u001b[0m \u001b[1;32mnot\u001b[0m \u001b[0mos\u001b[0m\u001b[1;33m.\u001b[0m\u001b[0mpath\u001b[0m\u001b[1;33m.\u001b[0m\u001b[0mexists\u001b[0m\u001b[1;33m(\u001b[0m\u001b[0m_path\u001b[0m\u001b[1;33m)\u001b[0m\u001b[1;33m:\u001b[0m\u001b[1;33m\u001b[0m\u001b[1;33m\u001b[0m\u001b[0m\n\u001b[1;32m--> 312\u001b[1;33m             \u001b[1;32mraise\u001b[0m \u001b[0mOSError\u001b[0m\u001b[1;33m(\u001b[0m\u001b[1;34m\"No such file or directory: %r\"\u001b[0m \u001b[1;33m%\u001b[0m \u001b[0m_path\u001b[0m\u001b[1;33m)\u001b[0m\u001b[1;33m\u001b[0m\u001b[1;33m\u001b[0m\u001b[0m\n\u001b[0m\u001b[0;32m    313\u001b[0m         \u001b[0mself\u001b[0m\u001b[1;33m.\u001b[0m\u001b[0m_path\u001b[0m \u001b[1;33m=\u001b[0m \u001b[0m_path\u001b[0m\u001b[1;33m\u001b[0m\u001b[1;33m\u001b[0m\u001b[0m\n\u001b[0;32m    314\u001b[0m \u001b[1;33m\u001b[0m\u001b[0m\n",
      "\u001b[1;31mOSError\u001b[0m: No such file or directory: 'D:\\\\Desktop\\\\code\\\\NLP_Capstone.txt\\\\barack.txt'"
     ]
    }
   ],
   "source": [
    "from nltk.corpus.reader.plaintext import PlaintextCorpusReader \n",
    "path = r\"D:\\Desktop\\code\\NLP_Capstone.txt\"\n",
    "president_corpus = PlaintextCorpusReader(path,\".*\")\n",
    "# Display the files in the corpus\n",
    "print(president_corpus.fileids()) #Prints ['barack.txt', 'bush.txt', 'trump.txt']\n",
    "#Display the sentences in a specific file\n",
    "print(president_corpus.sents('barack.txt'))\n",
    "#Display the sentences in all files of the corpus\n",
    "print(president_corpus.sents())\n",
    "#Display the words in a specific file\n",
    "print(president_corpus.words('barack.txt'))\n",
    "#Display the words in the corpus\n",
    "print(president_corpus.words())"
   ]
  },
  {
   "cell_type": "code",
   "execution_count": 136,
   "id": "b15458fa",
   "metadata": {},
   "outputs": [
    {
     "ename": "NameError",
     "evalue": "name 'text_vocab' is not defined",
     "output_type": "error",
     "traceback": [
      "\u001b[1;31m---------------------------------------------------------------------------\u001b[0m",
      "\u001b[1;31mNameError\u001b[0m                                 Traceback (most recent call last)",
      "\u001b[1;32m~\\AppData\\Local\\Temp/ipykernel_9220/2117056201.py\u001b[0m in \u001b[0;36m<module>\u001b[1;34m\u001b[0m\n\u001b[0;32m      9\u001b[0m     \u001b[0munusual_set\u001b[0m \u001b[1;33m=\u001b[0m \u001b[0mtext_vocab\u001b[0m \u001b[1;33m-\u001b[0m \u001b[0menglish_vocab\u001b[0m\u001b[1;33m\u001b[0m\u001b[1;33m\u001b[0m\u001b[0m\n\u001b[0;32m     10\u001b[0m     \u001b[1;32mreturn\u001b[0m \u001b[0msorted\u001b[0m\u001b[1;33m(\u001b[0m\u001b[0munusual\u001b[0m\u001b[1;33m)\u001b[0m\u001b[1;33m\u001b[0m\u001b[1;33m\u001b[0m\u001b[0m\n\u001b[1;32m---> 11\u001b[1;33m \u001b[0mprint\u001b[0m\u001b[1;33m(\u001b[0m\u001b[0mfind_unusual_words\u001b[0m\u001b[1;33m(\u001b[0m\u001b[0mnltk\u001b[0m\u001b[1;33m.\u001b[0m\u001b[0mwordpunct_tokenize\u001b[0m\u001b[1;33m(\u001b[0m\u001b[0msent1\u001b[0m\u001b[1;33m)\u001b[0m\u001b[1;33m)\u001b[0m\u001b[1;33m)\u001b[0m\u001b[1;33m\u001b[0m\u001b[1;33m\u001b[0m\u001b[0m\n\u001b[0m\u001b[0;32m     12\u001b[0m \u001b[1;31m#Prints ['knows', 'lol']\u001b[0m\u001b[1;33m\u001b[0m\u001b[1;33m\u001b[0m\u001b[0m\n\u001b[0;32m     13\u001b[0m \u001b[0mprint\u001b[0m\u001b[1;33m(\u001b[0m\u001b[0munusual_words\u001b[0m\u001b[1;33m(\u001b[0m\u001b[0mnltk\u001b[0m\u001b[1;33m.\u001b[0m\u001b[0mwordpunct_tokenize\u001b[0m\u001b[1;33m(\u001b[0m\u001b[0msent2\u001b[0m\u001b[1;33m)\u001b[0m\u001b[1;33m)\u001b[0m\u001b[1;33m)\u001b[0m\u001b[1;33m\u001b[0m\u001b[1;33m\u001b[0m\u001b[0m\n",
      "\u001b[1;32m~\\AppData\\Local\\Temp/ipykernel_9220/2117056201.py\u001b[0m in \u001b[0;36mfind_unusual_words\u001b[1;34m(text)\u001b[0m\n\u001b[0;32m      7\u001b[0m     \u001b[0mtext_vocab_set\u001b[0m \u001b[1;33m=\u001b[0m \u001b[0mset\u001b[0m\u001b[1;33m(\u001b[0m\u001b[0mw\u001b[0m\u001b[1;33m.\u001b[0m\u001b[0mlower\u001b[0m\u001b[1;33m(\u001b[0m\u001b[1;33m)\u001b[0m \u001b[1;32mfor\u001b[0m \u001b[0mw\u001b[0m \u001b[1;32min\u001b[0m \u001b[0mtext\u001b[0m \u001b[1;32mif\u001b[0m \u001b[0mw\u001b[0m\u001b[1;33m.\u001b[0m\u001b[0misalpha\u001b[0m\u001b[1;33m(\u001b[0m\u001b[1;33m)\u001b[0m\u001b[1;33m)\u001b[0m\u001b[1;33m\u001b[0m\u001b[1;33m\u001b[0m\u001b[0m\n\u001b[0;32m      8\u001b[0m     \u001b[0menglish_vocab_set\u001b[0m \u001b[1;33m=\u001b[0m \u001b[0mset\u001b[0m\u001b[1;33m(\u001b[0m\u001b[0mw\u001b[0m\u001b[1;33m.\u001b[0m\u001b[0mlower\u001b[0m\u001b[1;33m(\u001b[0m\u001b[1;33m)\u001b[0m \u001b[1;32mfor\u001b[0m \u001b[0mw\u001b[0m \u001b[1;32min\u001b[0m \u001b[0mnltk\u001b[0m\u001b[1;33m.\u001b[0m\u001b[0mcorpus\u001b[0m\u001b[1;33m.\u001b[0m\u001b[0mwords\u001b[0m\u001b[1;33m.\u001b[0m\u001b[0mwords\u001b[0m\u001b[1;33m(\u001b[0m\u001b[1;33m)\u001b[0m\u001b[1;33m)\u001b[0m\u001b[1;33m\u001b[0m\u001b[1;33m\u001b[0m\u001b[0m\n\u001b[1;32m----> 9\u001b[1;33m     \u001b[0munusual_set\u001b[0m \u001b[1;33m=\u001b[0m \u001b[0mtext_vocab\u001b[0m \u001b[1;33m-\u001b[0m \u001b[0menglish_vocab\u001b[0m\u001b[1;33m\u001b[0m\u001b[1;33m\u001b[0m\u001b[0m\n\u001b[0m\u001b[0;32m     10\u001b[0m     \u001b[1;32mreturn\u001b[0m \u001b[0msorted\u001b[0m\u001b[1;33m(\u001b[0m\u001b[0munusual\u001b[0m\u001b[1;33m)\u001b[0m\u001b[1;33m\u001b[0m\u001b[1;33m\u001b[0m\u001b[0m\n\u001b[0;32m     11\u001b[0m \u001b[0mprint\u001b[0m\u001b[1;33m(\u001b[0m\u001b[0mfind_unusual_words\u001b[0m\u001b[1;33m(\u001b[0m\u001b[0mnltk\u001b[0m\u001b[1;33m.\u001b[0m\u001b[0mwordpunct_tokenize\u001b[0m\u001b[1;33m(\u001b[0m\u001b[0msent1\u001b[0m\u001b[1;33m)\u001b[0m\u001b[1;33m)\u001b[0m\u001b[1;33m)\u001b[0m\u001b[1;33m\u001b[0m\u001b[1;33m\u001b[0m\u001b[0m\n",
      "\u001b[1;31mNameError\u001b[0m: name 'text_vocab' is not defined"
     ]
    }
   ],
   "source": [
    "import nltk\n",
    "sent1 = \"\"\"Just forced myself to eat a slice. I'm really not hungry tho. \n",
    "           Mark is getting worried. He knows I'm sick when I turn down pizza. Lol\"\"\"\n",
    "sent2 = \"I call you later, don't have nw. If urgnt, sms me.\"\n",
    "sent3 = \"Watching a telugu movie..wat abt u?\"\n",
    "def find_unusual_words(text):\n",
    "    text_vocab_set = set(w.lower() for w in text if w.isalpha())\n",
    "    english_vocab_set = set(w.lower() for w in nltk.corpus.words.words())\n",
    "    unusual_set = text_vocab - english_vocab\n",
    "    return sorted(unusual)\n",
    "print(find_unusual_words(nltk.wordpunct_tokenize(sent1)))\n",
    "#Prints ['knows', 'lol']\n",
    "print(unusual_words(nltk.wordpunct_tokenize(sent2)))\n",
    "#Prints ['nw', 'sms', 'urgnt']\n",
    "print(unusual_words(nltk.wordpunct_tokenize(sent3)))\n",
    "#Prints ['abt']"
   ]
  },
  {
   "cell_type": "code",
   "execution_count": 138,
   "id": "132ac6f8",
   "metadata": {},
   "outputs": [
    {
     "name": "stdout",
     "output_type": "stream",
     "text": [
      "[]\n",
      "[]\n"
     ]
    }
   ],
   "source": [
    "def names_in_text(text):\n",
    "    names = []\n",
    "    words_set = set(i for i in text if i.isalpha())\n",
    "    male_names = nltk.corpus.names.words('male.txt')\n",
    "    female_names = nltk.corpus.names.words('female.txt')\n",
    "    for w in words_set:\n",
    "        if i in male_names or i in female_names:\n",
    "            names.append(i)\n",
    "    return names\n",
    "sent1 = \"John and Mary go to the church every Sunday\"\n",
    "sent2 = \"No man has ever seen the dark side of the Moon\"\n",
    "print(names_in_text(word_tokenize(sent1)))\n",
    "print(names_in_text(word_tokenize(sent2)))\n"
   ]
  },
  {
   "cell_type": "code",
   "execution_count": 142,
   "id": "bbbf44e0",
   "metadata": {},
   "outputs": [
    {
     "name": "stdout",
     "output_type": "stream",
     "text": [
      "[Synset('dog.n.01'), Synset('frump.n.01'), Synset('dog.n.03'), Synset('cad.n.01'), Synset('frank.n.02'), Synset('pawl.n.01'), Synset('andiron.n.01'), Synset('chase.v.01')]\n"
     ]
    },
    {
     "ename": "NameError",
     "evalue": "name 'dog' is not defined",
     "output_type": "error",
     "traceback": [
      "\u001b[1;31m---------------------------------------------------------------------------\u001b[0m",
      "\u001b[1;31mNameError\u001b[0m                                 Traceback (most recent call last)",
      "\u001b[1;32m~\\AppData\\Local\\Temp/ipykernel_9220/3634352302.py\u001b[0m in \u001b[0;36m<module>\u001b[1;34m\u001b[0m\n\u001b[0;32m      3\u001b[0m \u001b[0mprint\u001b[0m\u001b[1;33m(\u001b[0m\u001b[0mwn\u001b[0m\u001b[1;33m.\u001b[0m\u001b[0msynsets\u001b[0m\u001b[1;33m(\u001b[0m\u001b[1;34m\"dog\"\u001b[0m\u001b[1;33m)\u001b[0m\u001b[1;33m)\u001b[0m\u001b[1;33m\u001b[0m\u001b[1;33m\u001b[0m\u001b[0m\n\u001b[0;32m      4\u001b[0m \u001b[1;31m# Get all lemma names of \"dog\"\u001b[0m\u001b[1;33m\u001b[0m\u001b[1;33m\u001b[0m\u001b[0m\n\u001b[1;32m----> 5\u001b[1;33m \u001b[0mprint\u001b[0m\u001b[1;33m(\u001b[0m\u001b[0mdog\u001b[0m\u001b[1;33m.\u001b[0m\u001b[0mlemma_names\u001b[0m\u001b[1;33m(\u001b[0m\u001b[1;33m)\u001b[0m\u001b[1;33m)\u001b[0m\u001b[1;33m\u001b[0m\u001b[1;33m\u001b[0m\u001b[0m\n\u001b[0m\u001b[0;32m      6\u001b[0m \u001b[1;31m#Get all hypernyms of \"dog\"\u001b[0m\u001b[1;33m\u001b[0m\u001b[1;33m\u001b[0m\u001b[0m\n\u001b[0;32m      7\u001b[0m \u001b[0mprint\u001b[0m\u001b[1;33m(\u001b[0m\u001b[0mwn\u001b[0m\u001b[1;33m.\u001b[0m\u001b[0msynset\u001b[0m\u001b[1;33m(\u001b[0m\u001b[1;34m'dog.n.01'\u001b[0m\u001b[1;33m)\u001b[0m\u001b[1;33m.\u001b[0m\u001b[0mhypernyms\u001b[0m\u001b[1;33m(\u001b[0m\u001b[1;33m)\u001b[0m\u001b[1;33m)\u001b[0m\u001b[1;33m\u001b[0m\u001b[1;33m\u001b[0m\u001b[0m\n",
      "\u001b[1;31mNameError\u001b[0m: name 'dog' is not defined"
     ]
    }
   ],
   "source": [
    "from nltk.corpus import wordnet as wn\n",
    "# Get all possible meanings of the word \"dog\n",
    "print(wn.synsets(\"dog\"))\n",
    "# Get all lemma names of \"dog\"\n",
    "print(dog.lemma_names())\n",
    "#Get all hypernyms of \"dog\"\n",
    "print(wn.synset('dog.n.01').hypernyms())\n",
    "# A hypernym is the generic term where as a hyponym is a specific term\n",
    "# For the word dog, the hypernyms are 'canine' and 'domestic_animal'\n",
    "#Get all hyponyms of \"dog\"\n",
    "print(wn.synset('dog.n.01').hyponyms())\n",
    "# some of hyponyms are  \"pug\", \"puppy\", \"lap_dog\", etc..\n",
    "#Get the path similarity between to words - the method returns the shortest path in the taxonomy\n",
    "dog = wn.synset('dog.n.01')\n",
    "cat = wn.synset('cat.n.01')\n",
    "print(cat.path_similarity(dog)) #Returns a value between 0 and 1. The higher the number, higher the similarity in path\n",
    "# wu and palmer similarity method. \n",
    "\"\"\" Produces similarity values based on their Least Common Subsumer (most specific ancestor node) and \n",
    "   the maximum depth in the taxonomy\"\"\"\n",
    "cat.wup_similarity(dog)\n",
    "# Get all synonyms of the word 'good'\n",
    "synonyms = []\n",
    "for syn in wn.synsets(\"good\"):\n",
    "    for word in syn.lemmas():\n",
    "        if word.name() != \"good\":\n",
    "            synonyms.append(word.name())\n",
    "print(synonyms)\n",
    "# Get all antonyms of the word \"good\"\n",
    "antonyms = []\n",
    "for syn in wn.synsets(\"good\"):\n",
    "    for word in syn.lemmas():\n",
    "        if word.name() != \"good\" and word.antonyms() :\n",
    "            antonyms.append( word.antonyms()[0].name())\n",
    "print(antonyms)\n",
    "# Return the base form (morphy) of a word \n",
    "print(wn.morphy(\"working\" , wn.VERB)) #Prints \"work\"\n",
    "print(wn.morphy(\"denied\" , wn.VERB)) #Prints \"deny\"\n",
    "print(wn.morphy(\"abaci\")) \n",
    "#Prints \"abacus\"\n"
   ]
  },
  {
   "cell_type": "code",
   "execution_count": 143,
   "id": "0d2104a4",
   "metadata": {},
   "outputs": [
    {
     "name": "stdout",
     "output_type": "stream",
     "text": [
      "[('The', 'DT'), ('race', 'NN'), ('officials', 'NNS'), ('refused', 'VBD'), ('to', 'TO'), ('permit', 'VB'), ('the', 'DT'), ('team', 'NN'), ('to', 'TO'), ('race', 'NN'), ('today', 'NN')]\n"
     ]
    }
   ],
   "source": [
    "sent1 = \"The race officials refused to permit the team to race today\"\n",
    "print(pos_tag(word_tokenize(sent1)))\n"
   ]
  },
  {
   "cell_type": "code",
   "execution_count": 145,
   "id": "0e515327",
   "metadata": {},
   "outputs": [
    {
     "name": "stdout",
     "output_type": "stream",
     "text": [
      "[('That', 'DT'), ('gentleman', 'NN'), ('wants', 'VBZ'), ('some', 'DT'), ('water', 'NN'), ('to', 'TO'), ('water', 'NN'), ('the', 'DT'), ('plants', 'NNS')]\n"
     ]
    }
   ],
   "source": [
    "sent2 = \"That gentleman wants some water to water the plants\"\n",
    "print(pos_tag(word_tokenize(sent2)))\n",
    "# Output: [('That', 'DT'), ('gentleman', 'NN'), ('wants', 'VBZ'), ('some', 'DT'), ('water', 'NN'), \n",
    "#('to', 'TO'), ('water', 'NN'), ('the', 'DT'), ('plants', 'NNS')] \n"
   ]
  },
  {
   "cell_type": "code",
   "execution_count": 146,
   "id": "a76ee255",
   "metadata": {},
   "outputs": [
    {
     "name": "stdout",
     "output_type": "stream",
     "text": [
      "[('They', 'PRP'), ('refuse', 'VBP'), ('to', 'TO'), ('permit', 'VB'), ('us', 'PRP'), ('to', 'TO'), ('obtain', 'VB'), ('the', 'DT'), ('refuse', 'NN'), ('permit', 'NN')]\n"
     ]
    }
   ],
   "source": [
    "text = word_tokenize(\"They refuse to permit us to obtain the refuse permit\")\n",
    "print(nltk.pos_tag(text))\n",
    "# Prints [('They', 'PRP'), ('refuse', 'VBP'), ('to', 'TO'), ('permit', 'VB'), ('us', 'PRP'), ('to', 'TO'),('obtain', 'VB'), ('the', 'DT'), ('refuse', 'NN'), ('permit', 'NN')] \n"
   ]
  },
  {
   "cell_type": "code",
   "execution_count": 147,
   "id": "8d5374e5",
   "metadata": {},
   "outputs": [
    {
     "name": "stdout",
     "output_type": "stream",
     "text": [
      "[('They', 'PRP'), ('refuse', 'VBP'), ('to', 'TO'), ('permit', 'VB'), ('us', 'PRP'), ('to', 'TO'), ('obtain', 'VB'), ('the', 'DT'), ('refuse', 'NN'), ('permit', 'NN')]\n"
     ]
    }
   ],
   "source": [
    "text = word_tokenize(\"They refuse to permit us to obtain the refuse permit\")\n",
    "print(nltk.pos_tag(text))\n",
    "# Prints [('They', 'PRP'), ('refuse', 'VBP'), ('to', 'TO'), ('permit', 'VB'), ('us', 'PRP'), ('to', 'TO'),('obtain', 'VB'), ('the', 'DT'), ('refuse', 'NN'), ('permit', 'NN')] \n"
   ]
  },
  {
   "cell_type": "code",
   "execution_count": 149,
   "id": "eff01828",
   "metadata": {},
   "outputs": [
    {
     "name": "stdout",
     "output_type": "stream",
     "text": [
      "(S\n",
      "  (PERSON Barack/NNP)\n",
      "  (PERSON Hussein/NNP Obama/NNP)\n",
      "  (/(\n",
      "  born/VBN\n",
      "  August/NNP\n",
      "  4/CD\n",
      "  ,/,\n",
      "  1961/CD\n",
      "  )/)\n",
      "  is/VBZ\n",
      "  an/DT\n",
      "  (GPE American/JJ)\n",
      "  politician/NN\n",
      "  who/WP\n",
      "  served/VBD\n",
      "  as/IN\n",
      "  the/DT\n",
      "  44th/CD\n",
      "  President/NNP\n",
      "  of/IN\n",
      "  the/DT\n",
      "  (GPE United/NNP States/NNPS)\n",
      "  from/IN\n",
      "  January/NNP\n",
      "  20/CD\n",
      "  ,/,\n",
      "  2009/CD\n",
      "  ,/,\n",
      "  to/TO\n",
      "  January/NNP\n",
      "  20/CD\n",
      "  ,/,\n",
      "  2017/CD\n",
      "  ./.\n",
      "  A/DT\n",
      "  member/NN\n",
      "  of/IN\n",
      "  the/DT\n",
      "  (ORGANIZATION Democratic/NNP Party/NNP)\n",
      "  ,/,\n",
      "  he/PRP\n",
      "  was/VBD\n",
      "  the/DT\n",
      "  first/JJ\n",
      "  (ORGANIZATION African/JJ American/NNP)\n",
      "  to/TO\n",
      "  assume/VB\n",
      "  the/DT\n",
      "  presidency/NN\n",
      "  and/CC\n",
      "  previously/RB\n",
      "  served/VBD\n",
      "  as/IN\n",
      "  a/DT\n",
      "  (GPE United/NNP States/NNPS)\n",
      "  Senator/NNP\n",
      "  from/IN\n",
      "  (GPE Illinois/NNP)\n",
      "  (/(\n",
      "  2005–2008/CD\n",
      "  )/)\n",
      "  ./.)\n"
     ]
    }
   ],
   "source": [
    "from nltk import word_tokenize\n",
    "from nltk import pos_tag\n",
    "from nltk import ne_chunk\n",
    "barack = \"\"\"Barack Hussein Obama (born August 4, 1961) is an American politician \n",
    "who served as the 44th President of the United States from January 20, 2009, to January 20, 2017.\n",
    "A member of the Democratic Party, he was the first African American to assume the presidency \n",
    "and previously served as a United States Senator from Illinois (2005–2008).\"\"\"\n",
    "tokenised_barack = word_tokenize(barack)\n",
    "pos_list = pos_tag(tokenised_barack)\n",
    "print(ne_chunk(pos_list))"
   ]
  },
  {
   "cell_type": "code",
   "execution_count": 150,
   "id": "cb4a036b",
   "metadata": {},
   "outputs": [
    {
     "name": "stdout",
     "output_type": "stream",
     "text": [
      "(S\n",
      "  (Person Barack/NNP Hussein/NNP Obama/NNP II/NNP)\n",
      "  born/VBD\n",
      "  (Date August/NNP 4/CD ,/, 1961/CD)\n",
      "  )/)\n",
      "  is/VBZ\n",
      "  an/DT\n",
      "  American/JJ\n",
      "  politician/NN\n",
      "  who/WP\n",
      "  served/VBD\n",
      "  as/IN\n",
      "  the/DT\n",
      "  44th/CD\n",
      "  (Person President/NNP)\n",
      "  of/IN\n",
      "  the/DT\n",
      "  (Place United/NNP States/NNPS)\n",
      "  from/IN\n",
      "  (Date January/NNP 20/CD ,/, 2009/CD)\n",
      "  ,/,\n",
      "  to/TO\n",
      "  (Date January/NNP 20/CD ,/, 2017/CD)\n",
      "  ./.\n",
      "  A/DT\n",
      "  member/NN\n",
      "  of/IN\n",
      "  the/DT\n",
      "  (Person Democratic/NNP Party/NNP)\n",
      "  ,/,\n",
      "  he/PRP\n",
      "  was/VBD\n",
      "  the/DT\n",
      "  first/JJ\n",
      "  African/JJ\n",
      "  (Person American/NNP)\n",
      "  to/TO\n",
      "  assume/VB\n",
      "  the/DT\n",
      "  presidency/NN\n",
      "  and/CC\n",
      "  previously/RB\n",
      "  served/VBD\n",
      "  as/IN\n",
      "  a/DT\n",
      "  (Place United/NNP States/NNPS)\n",
      "  (Person Senator/NNP)\n",
      "  from/IN\n",
      "  (Person Illinois/NNP)\n",
      "  (/(\n",
      "  2005–2008/CD\n",
      "  )/)\n",
      "  ./.)\n"
     ]
    }
   ],
   "source": [
    "from nltk import RegexpParser\n",
    "from nltk import word_tokenize\n",
    "from nltk import pos_tag\n",
    "barack = \"\"\"Barack Hussein Obama II born August 4, 1961) is an American politician\n",
    "who served as the 44th President of \n",
    "the United States from January 20, 2009, to January 20, 2017.\n",
    "A member of the Democratic Party, he was the \n",
    "first African American to assume the presidency and previously\n",
    "served as a United States Senator from Illinois (2005–2008).\"\"\"\n",
    "grammar = r\"\"\"Place: {<NNP><NNPS>+}\n",
    "           Date: {<NNP><CD><,><CD>}\n",
    "           Person: {<NNP>+}\n",
    "           \"\"\"\n",
    "tokenised_barack = word_tokenize(barack)\n",
    "pos_list = pos_tag(tokenised_barack)\n",
    "regParser = RegexpParser(grammar)\n",
    "reg_lines = regParser.parse(pos_list)\n",
    "print(reg_lines)\n"
   ]
  },
  {
   "cell_type": "code",
   "execution_count": 159,
   "id": "bb302372",
   "metadata": {},
   "outputs": [
    {
     "ename": "SyntaxError",
     "evalue": "invalid non-printable character U+00A0 (Temp/ipykernel_9220/2304921101.py, line 3)",
     "output_type": "error",
     "traceback": [
      "\u001b[1;36m  File \u001b[1;32m\"C:\\Users\\Ankul\\AppData\\Local\\Temp/ipykernel_9220/2304921101.py\"\u001b[1;36m, line \u001b[1;32m3\u001b[0m\n\u001b[1;33m    text = pd.read_table(\"D:\\\\Desktop\\\\code\\\\A.P.J.Abdul Kalam.txt\",header=None,encoding='utf-8')\u001b[0m\n\u001b[1;37m                                                                                                 ^\u001b[0m\n\u001b[1;31mSyntaxError\u001b[0m\u001b[1;31m:\u001b[0m invalid non-printable character U+00A0\n"
     ]
    }
   ],
   "source": [
    "import nltk\n",
    "import pandas as pd\n",
    "text = pd.read_table(\"D:\\\\Desktop\\\\code\\\\A.P.J.Abdul Kalam.txt\",header=None,encoding='utf-8') \n",
    "text = text[0][0]\n",
    "print(text) #Prints the first paragraph of the article\n"
   ]
  },
  {
   "cell_type": "code",
   "execution_count": 160,
   "id": "a3357f89",
   "metadata": {},
   "outputs": [
    {
     "ename": "SyntaxError",
     "evalue": "'(' was never closed (Temp/ipykernel_9220/2034692163.py, line 2)",
     "output_type": "error",
     "traceback": [
      "\u001b[1;36m  File \u001b[1;32m\"C:\\Users\\Ankul\\AppData\\Local\\Temp/ipykernel_9220/2034692163.py\"\u001b[1;36m, line \u001b[1;32m2\u001b[0m\n\u001b[1;33m    tagged_words = nltk.pos_tag(words\u001b[0m\n\u001b[1;37m                               ^\u001b[0m\n\u001b[1;31mSyntaxError\u001b[0m\u001b[1;31m:\u001b[0m '(' was never closed\n"
     ]
    }
   ],
   "source": [
    "words = nltk.word_tokenize(text)\n",
    "tagged_words = nltk.pos_tag(words\n"
   ]
  },
  {
   "cell_type": "code",
   "execution_count": 161,
   "id": "2fcfa4d9",
   "metadata": {},
   "outputs": [
    {
     "ename": "NameError",
     "evalue": "name 'tagged_words' is not defined",
     "output_type": "error",
     "traceback": [
      "\u001b[1;31m---------------------------------------------------------------------------\u001b[0m",
      "\u001b[1;31mNameError\u001b[0m                                 Traceback (most recent call last)",
      "\u001b[1;32m~\\AppData\\Local\\Temp/ipykernel_9220/2244090350.py\u001b[0m in \u001b[0;36m<module>\u001b[1;34m\u001b[0m\n\u001b[0;32m      2\u001b[0m                 Name: {<NNP>+}\"\"\"\n\u001b[0;32m      3\u001b[0m \u001b[0mchunkParser\u001b[0m \u001b[1;33m=\u001b[0m \u001b[0mnltk\u001b[0m\u001b[1;33m.\u001b[0m\u001b[0mRegexpParser\u001b[0m\u001b[1;33m(\u001b[0m\u001b[0mchunkGram\u001b[0m\u001b[1;33m)\u001b[0m\u001b[1;33m\u001b[0m\u001b[1;33m\u001b[0m\u001b[0m\n\u001b[1;32m----> 4\u001b[1;33m \u001b[0mchunked\u001b[0m \u001b[1;33m=\u001b[0m \u001b[0mchunkParser\u001b[0m\u001b[1;33m.\u001b[0m\u001b[0mparse\u001b[0m\u001b[1;33m(\u001b[0m\u001b[0mtagged_words\u001b[0m\u001b[1;33m)\u001b[0m\u001b[1;33m\u001b[0m\u001b[1;33m\u001b[0m\u001b[0m\n\u001b[0m\u001b[0;32m      5\u001b[0m \u001b[0mprint\u001b[0m\u001b[1;33m(\u001b[0m\u001b[0mchunked\u001b[0m\u001b[1;33m)\u001b[0m \u001b[1;31m#Prints the annotated text\u001b[0m\u001b[1;33m\u001b[0m\u001b[1;33m\u001b[0m\u001b[0m\n",
      "\u001b[1;31mNameError\u001b[0m: name 'tagged_words' is not defined"
     ]
    }
   ],
   "source": [
    "chunkGram = r\"\"\"Date: {<CD>?<NNP><CD>}\n",
    "                Name: {<NNP>+}\"\"\"\n",
    "chunkParser = nltk.RegexpParser(chunkGram)\n",
    "chunked = chunkParser.parse(tagged_words)\n",
    "print(chunked) #Prints the annotated text\n"
   ]
  },
  {
   "cell_type": "code",
   "execution_count": null,
   "id": "10b4caf2",
   "metadata": {},
   "outputs": [],
   "source": [
    "Step 4: Identifying relationship pairs\n"
   ]
  }
 ],
 "metadata": {
  "kernelspec": {
   "display_name": "Python 3 (ipykernel)",
   "language": "python",
   "name": "python3"
  },
  "language_info": {
   "codemirror_mode": {
    "name": "ipython",
    "version": 3
   },
   "file_extension": ".py",
   "mimetype": "text/x-python",
   "name": "python",
   "nbconvert_exporter": "python",
   "pygments_lexer": "ipython3",
   "version": "3.10.0"
  }
 },
 "nbformat": 4,
 "nbformat_minor": 5
}
