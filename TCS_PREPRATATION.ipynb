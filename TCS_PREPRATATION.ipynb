{
 "cells": [
  {
   "cell_type": "code",
   "execution_count": null,
   "id": "26c8beec",
   "metadata": {},
   "outputs": [],
   "source": [
    "n=int (input(\"inter Array size:- \"))\n",
    "\n",
    "def is_perfect_square(num):\n",
    "    # Function to check if a number is a perfect square\n",
    "    return int(num ** 0.5) ** 2 == num\n",
    "\n",
    "def isPrime(i):\n",
    "    if i == 1:\n",
    "        return False\n",
    "    elif i > 1:\n",
    "    # check for factors\n",
    "    flag=False\n",
    "    for p in range(2, i):\n",
    "        if (i % p) == 0:\n",
    "            # if factor is found, set flag to True\n",
    "            flag = True\n",
    "            # break out of loop\n",
    "            break\n",
    "    if flag:\n",
    "        return True\n",
    "    return False \n",
    "\n",
    "def isperfectSqure(s):\n",
    "    if (s**0.5)**2==s:\n",
    "        return True\n",
    "    else:\n",
    "        return False\n",
    "    \n",
    "power_of_two=1\n",
    "power_of_three=1\n",
    "arr=[]\n",
    "\n",
    "for i in range (n+1):\n",
    "    if (isPrime(i+1)):\n",
    "        arr[i]=power_of_two\n",
    "        power_of_two =2\n",
    "        \n",
    "    elif(isperfectSqure(i+1)):\n",
    "        arr[i]=power_of_three\n",
    "        power_of_three=3\n",
    "    else:\n",
    "        arr[i]=arr[i-1]+arr[i-2]\n",
    "        \n",
    "print(arr)"
   ]
  },
  {
   "cell_type": "code",
   "execution_count": 8,
   "id": "82ede713",
   "metadata": {},
   "outputs": [
    {
     "name": "stdout",
     "output_type": "stream",
     "text": [
      "inter the value 8\n",
      "this is not prefect squre number: \n"
     ]
    }
   ],
   "source": [
    "x=int(input(\"inter the value \"))\n",
    "if (x**0.5)**2==x:\n",
    "    print(\"this number is perfect squrae\")\n",
    "else:\n",
    "    print(\"this is not prefect squre number: \")"
   ]
  },
  {
   "cell_type": "code",
   "execution_count": 10,
   "id": "f026ebcb",
   "metadata": {},
   "outputs": [
    {
     "name": "stdout",
     "output_type": "stream",
     "text": [
      "65\n"
     ]
    }
   ],
   "source": [
    "print(65)"
   ]
  },
  {
   "cell_type": "code",
   "execution_count": 14,
   "id": "c8ae6321",
   "metadata": {},
   "outputs": [
    {
     "name": "stdout",
     "output_type": "stream",
     "text": [
      "A\n"
     ]
    }
   ],
   "source": [
    "print(chr(65))"
   ]
  },
  {
   "cell_type": "code",
   "execution_count": 32,
   "id": "8307c602",
   "metadata": {},
   "outputs": [
    {
     "name": "stdout",
     "output_type": "stream",
     "text": [
      "0\n",
      "7\n"
     ]
    }
   ],
   "source": [
    "n=111\n",
    "temp=n\n",
    "dec=0\n",
    "count=0\n",
    "print(count)\n",
    "\n",
    "while(temp!=0):\n",
    "    remender=temp%10\n",
    "    \n",
    "    dec+=remender*(2**count)\n",
    "    temp=(temp)//10\n",
    "    #temp=int(temp/10)\n",
    "    count+=1\n",
    "\n",
    "print(dec)   \n",
    "#print(dec)"
   ]
  },
  {
   "cell_type": "markdown",
   "id": "7889e371",
   "metadata": {},
   "source": [
    " # decimal to baniry\n"
   ]
  },
  {
   "cell_type": "code",
   "execution_count": 51,
   "id": "88437892",
   "metadata": {},
   "outputs": [
    {
     "name": "stdout",
     "output_type": "stream",
     "text": [
      "111"
     ]
    }
   ],
   "source": [
    "x=7\n",
    "l=list()\n",
    "while(x!=0):\n",
    "    remnder=x%2\n",
    "    l.append(remnder)\n",
    "    x=x//2\n",
    "l.reverse()\n",
    "for ele in l:\n",
    "    print(ele,end=\"\")\n",
    "#     if remnder==1:\n",
    "#         x=x-1\n",
    "#     print(x)\n",
    "#     x=x/2\n",
    "\n",
    "#     print(x)\n",
    "#     s=str(remnder)+s\n",
    "#     x=x//10\n",
    "\n"
   ]
  },
  {
   "cell_type": "markdown",
   "id": "91e24daa",
   "metadata": {},
   "source": [
    "# check the palindrome "
   ]
  },
  {
   "cell_type": "code",
   "execution_count": null,
   "id": "96f92ce3",
   "metadata": {},
   "outputs": [],
   "source": [
    "s=input(\"enter the string: \")\n",
    "size=len(s)-1\n",
    "p=''\n",
    "for i in range (size+1):\n",
    "    p=p+s[size-i]\n",
    "if p==s:\n",
    "    print(\"palindrome\")\n",
    "else:\n",
    "    print(\"not palindrome\")\n"
   ]
  },
  {
   "cell_type": "code",
   "execution_count": 71,
   "id": "96cba51d",
   "metadata": {},
   "outputs": [
    {
     "name": "stdout",
     "output_type": "stream",
     "text": [
      "Enter the char:- A\n",
      "65\n"
     ]
    }
   ],
   "source": [
    "s=input(\"Enter the char:- \")\n",
    "print(ord(s))"
   ]
  },
  {
   "cell_type": "code",
   "execution_count": 81,
   "id": "4c62e927",
   "metadata": {},
   "outputs": [
    {
     "name": "stdout",
     "output_type": "stream",
     "text": [
      "a\n",
      "R\n",
      "e\n",
      "R\n",
      "i\n",
      "R\n",
      "o\n",
      "R\n",
      "u\n",
      "R\n",
      "A\n",
      "R\n",
      "E\n",
      "R\n",
      "I\n",
      "R\n",
      "O\n",
      "R\n",
      "U\n",
      "R\n",
      "e\n",
      "a\n",
      "i\n",
      "a\n",
      "o\n",
      "a\n",
      "u\n",
      "a\n",
      "A\n",
      "a\n",
      "E\n",
      "a\n",
      "I\n",
      "a\n",
      "O\n",
      "a\n",
      "U\n",
      "a\n",
      "a\n",
      "m\n",
      "e\n",
      "m\n",
      "i\n",
      "m\n",
      "o\n",
      "m\n",
      "u\n",
      "m\n",
      "A\n",
      "m\n",
      "E\n",
      "m\n",
      "I\n",
      "m\n",
      "O\n",
      "m\n",
      "U\n",
      "m\n",
      "\n"
     ]
    }
   ],
   "source": [
    "s=\"Ram\"\n",
    "y=''\n",
    "l=[\"a\",\"e\",\"i\",\"o\",'u',\"A\",\"E\",\"I\",\"O\",\"U\"]\n",
    "for i in range (len(s)):\n",
    "    for j in range (len(l)):\n",
    "        if l[j]!=s[i]:\n",
    "            print(l[j])\n",
    "            print(s[i])\n",
    "             y+=s[i]\n",
    "print(y)         "
   ]
  },
  {
   "cell_type": "code",
   "execution_count": 21,
   "id": "fa5cea8f",
   "metadata": {},
   "outputs": [
    {
     "name": "stdout",
     "output_type": "stream",
     "text": [
      "<class 'list'>\n",
      "<class 'list'>\n",
      "3\n",
      "3\n"
     ]
    },
    {
     "ename": "AttributeError",
     "evalue": "'NoneType' object has no attribute 'append'",
     "output_type": "error",
     "traceback": [
      "\u001b[1;31m---------------------------------------------------------------------------\u001b[0m",
      "\u001b[1;31mAttributeError\u001b[0m                            Traceback (most recent call last)",
      "\u001b[1;32m~\\AppData\\Local\\Temp/ipykernel_49732/3073084397.py\u001b[0m in \u001b[0;36m<module>\u001b[1;34m\u001b[0m\n\u001b[0;32m     14\u001b[0m \u001b[1;31m# for i in range(n+1):\u001b[0m\u001b[1;33m\u001b[0m\u001b[1;33m\u001b[0m\u001b[0m\n\u001b[0;32m     15\u001b[0m \u001b[1;31m#     arr=arr.append(int(input()))\u001b[0m\u001b[1;33m\u001b[0m\u001b[1;33m\u001b[0m\u001b[0m\n\u001b[1;32m---> 16\u001b[1;33m \u001b[0mnumber\u001b[0m\u001b[1;33m(\u001b[0m\u001b[0marr\u001b[0m\u001b[1;33m)\u001b[0m\u001b[1;33m\u001b[0m\u001b[1;33m\u001b[0m\u001b[0m\n\u001b[0m",
      "\u001b[1;32m~\\AppData\\Local\\Temp/ipykernel_49732/3073084397.py\u001b[0m in \u001b[0;36mnumber\u001b[1;34m(num)\u001b[0m\n\u001b[0;32m      7\u001b[0m         \u001b[1;32mif\u001b[0m \u001b[1;33m(\u001b[0m\u001b[0mnum\u001b[0m\u001b[1;33m.\u001b[0m\u001b[0mcount\u001b[0m\u001b[1;33m(\u001b[0m\u001b[0mnum\u001b[0m\u001b[1;33m[\u001b[0m\u001b[0mi\u001b[0m\u001b[1;33m]\u001b[0m\u001b[1;33m)\u001b[0m\u001b[1;33m)\u001b[0m\u001b[1;33m>=\u001b[0m\u001b[1;36m3\u001b[0m\u001b[1;33m:\u001b[0m\u001b[1;33m\u001b[0m\u001b[1;33m\u001b[0m\u001b[0m\n\u001b[0;32m      8\u001b[0m \u001b[1;33m\u001b[0m\u001b[0m\n\u001b[1;32m----> 9\u001b[1;33m             \u001b[0ma\u001b[0m\u001b[1;33m=\u001b[0m\u001b[0ma\u001b[0m\u001b[1;33m.\u001b[0m\u001b[0mappend\u001b[0m\u001b[1;33m(\u001b[0m\u001b[0mnum\u001b[0m\u001b[1;33m[\u001b[0m\u001b[0mi\u001b[0m\u001b[1;33m]\u001b[0m\u001b[1;33m)\u001b[0m\u001b[1;33m\u001b[0m\u001b[1;33m\u001b[0m\u001b[0m\n\u001b[0m\u001b[0;32m     10\u001b[0m            \u001b[1;31m# print(a)\u001b[0m\u001b[1;33m\u001b[0m\u001b[1;33m\u001b[0m\u001b[0m\n\u001b[0;32m     11\u001b[0m     \u001b[1;32mreturn\u001b[0m \u001b[0ma\u001b[0m\u001b[1;33m\u001b[0m\u001b[1;33m\u001b[0m\u001b[0m\n",
      "\u001b[1;31mAttributeError\u001b[0m: 'NoneType' object has no attribute 'append'"
     ]
    }
   ],
   "source": [
    "def number(num):\n",
    "    print(type(num))\n",
    "    a=[]\n",
    "    print(type(a))\n",
    "    for i in range (len(num)+1):\n",
    "        print(num[i])\n",
    "        if (num.count(num[i]))>=3:\n",
    "            \n",
    "            a=a.append(num[i])\n",
    "           # print(a)\n",
    "    return a\n",
    "# n=int(input(\"Enter the number: \"))\n",
    "arr=[3,3,3,44,44,44,5,1,-1,-1,-1]\n",
    "# for i in range(n+1):\n",
    "#     arr=arr.append(int(input()))\n",
    "number(arr)"
   ]
  },
  {
   "cell_type": "code",
   "execution_count": 11,
   "id": "10a3b60f",
   "metadata": {},
   "outputs": [
    {
     "name": "stdout",
     "output_type": "stream",
     "text": [
      "2\n"
     ]
    }
   ],
   "source": [
    "x=[5,5,5,6,6,9]\n",
    "print(x.count(6))"
   ]
  },
  {
   "cell_type": "code",
   "execution_count": null,
   "id": "632aeb41",
   "metadata": {},
   "outputs": [],
   "source": []
  },
  {
   "cell_type": "markdown",
   "id": "ae770ed7",
   "metadata": {},
   "source": [
    "# what is oops concet what is requriment \n"
   ]
  },
  {
   "cell_type": "markdown",
   "id": "b3488f51",
   "metadata": {},
   "source": [
    "# there is four type of oops that work of real time object  declration that work \n",
    "\n",
    "\n",
    "\"\"\"\n",
    "Ploymorphism \n",
    "encaplustion \n",
    "inheritance \n",
    "Absrtration \n",
    "\n",
    "encaplustion there will be provide option code cansolide \n",
    "there will be to type first overraide \n",
    "and overloading \n",
    "\n",
    "inhritance single inheritance \n",
    "multipule inheritance\n",
    "mulileve inheitance\n",
    "abratrations means it will be provide interface \n",
    "\n",
    "\"\"\"\n",
    "\n",
    "\"\"\" \n",
    "para metriase method \n",
    "super key word \n",
    "this key word \n",
    "\n",
    "construstre \n",
    "this this will foru type \n",
    "input without output \n",
    "only output \n",
    "input with output\n",
    "\n",
    "define variable besically two type \n",
    "local varibal \n",
    "golbal varial \n",
    "instance varibale\n",
    " \n",
    " \n",
    "method three type \n",
    "private method \n",
    "proctect method \n",
    "normal method \n",
    "\n",
    "Absrtration \n",
    "will be define \n",
    "interface \n",
    "\n",
    "there will two type class inner class \n",
    "outter class \n",
    "\n",
    "\n",
    "multipule programing \n",
    "thread \n",
    "sheduling \n",
    "deadlock candition \n",
    "\n",
    "file handling \n",
    "error handling \n",
    "\n",
    "\n",
    "\n",
    "\n",
    "\"\"\"\n",
    "\n",
    "Class "
   ]
  },
  {
   "cell_type": "code",
   "execution_count": 27,
   "id": "0a1a00f3",
   "metadata": {},
   "outputs": [
    {
     "name": "stdout",
     "output_type": "stream",
     "text": [
      "Ankul\n"
     ]
    },
    {
     "data": {
      "text/plain": [
       "17"
      ]
     },
     "execution_count": 27,
     "metadata": {},
     "output_type": "execute_result"
    }
   ],
   "source": [
    "class First():\n",
    "    def __init__(self):\n",
    "        print(\"Ankul\")\n",
    "    def method1(self ):\n",
    "        a=8\n",
    "        b=9\n",
    "        c=a+b\n",
    "        return c\n",
    "        \n",
    "obj=First()\n",
    "obj.method1()"
   ]
  },
  {
   "cell_type": "code",
   "execution_count": 33,
   "id": "c473c116",
   "metadata": {},
   "outputs": [],
   "source": [
    "class car:\n",
    "    def __init__(sudh,body_type,engine, fule_type):\n",
    "        sudh.a=body_type\n",
    "        sudh.b=engine\n",
    "        sudh.c=fule_type\n",
    "        \n",
    "    def test(sudh):\n",
    "        print(\"this is my first method in my car class\")"
   ]
  },
  {
   "cell_type": "code",
   "execution_count": 34,
   "id": "0d29a963",
   "metadata": {},
   "outputs": [],
   "source": [
    "forture=car(\"suv\",\"bs4\",\"petrol\")"
   ]
  },
  {
   "cell_type": "code",
   "execution_count": 35,
   "id": "a6a8b325",
   "metadata": {},
   "outputs": [
    {
     "data": {
      "text/plain": [
       "'suv'"
      ]
     },
     "execution_count": 35,
     "metadata": {},
     "output_type": "execute_result"
    }
   ],
   "source": [
    "forture.a"
   ]
  },
  {
   "cell_type": "code",
   "execution_count": 36,
   "id": "51566679",
   "metadata": {},
   "outputs": [
    {
     "data": {
      "text/plain": [
       "'bs4'"
      ]
     },
     "execution_count": 36,
     "metadata": {},
     "output_type": "execute_result"
    }
   ],
   "source": [
    "forture.b"
   ]
  },
  {
   "cell_type": "code",
   "execution_count": 37,
   "id": "80ebfe75",
   "metadata": {},
   "outputs": [
    {
     "name": "stdout",
     "output_type": "stream",
     "text": [
      "this is my first method in my car class\n"
     ]
    }
   ],
   "source": [
    "forture.test()"
   ]
  },
  {
   "cell_type": "code",
   "execution_count": 39,
   "id": "0ea1b4cc",
   "metadata": {},
   "outputs": [],
   "source": [
    "def test(sudh):\n",
    "    print(\"tihs is my first methon inn my car clas\")"
   ]
  },
  {
   "cell_type": "code",
   "execution_count": 40,
   "id": "3768967f",
   "metadata": {},
   "outputs": [
    {
     "ename": "TypeError",
     "evalue": "test() missing 1 required positional argument: 'sudh'",
     "output_type": "error",
     "traceback": [
      "\u001b[1;31m---------------------------------------------------------------------------\u001b[0m",
      "\u001b[1;31mTypeError\u001b[0m                                 Traceback (most recent call last)",
      "\u001b[1;32m~\\AppData\\Local\\Temp/ipykernel_49732/756179265.py\u001b[0m in \u001b[0;36m<module>\u001b[1;34m\u001b[0m\n\u001b[1;32m----> 1\u001b[1;33m \u001b[0mtest\u001b[0m\u001b[1;33m(\u001b[0m\u001b[1;33m)\u001b[0m\u001b[1;33m\u001b[0m\u001b[1;33m\u001b[0m\u001b[0m\n\u001b[0m",
      "\u001b[1;31mTypeError\u001b[0m: test() missing 1 required positional argument: 'sudh'"
     ]
    }
   ],
   "source": [
    "test()"
   ]
  },
  {
   "cell_type": "code",
   "execution_count": 41,
   "id": "4974934c",
   "metadata": {},
   "outputs": [],
   "source": [
    "forture= car(\"suv\",\"bs4\",\"petrol\")\n",
    "\n",
    "nexon=car(\"suv\",\"abc\",\"petrol\")"
   ]
  },
  {
   "cell_type": "code",
   "execution_count": 42,
   "id": "4fcd813e",
   "metadata": {},
   "outputs": [
    {
     "ename": "AttributeError",
     "evalue": "'car' object has no attribute 'body_type'",
     "output_type": "error",
     "traceback": [
      "\u001b[1;31m---------------------------------------------------------------------------\u001b[0m",
      "\u001b[1;31mAttributeError\u001b[0m                            Traceback (most recent call last)",
      "\u001b[1;32m~\\AppData\\Local\\Temp/ipykernel_49732/2088113962.py\u001b[0m in \u001b[0;36m<module>\u001b[1;34m\u001b[0m\n\u001b[1;32m----> 1\u001b[1;33m \u001b[0mforture\u001b[0m\u001b[1;33m.\u001b[0m\u001b[0mbody_type\u001b[0m\u001b[1;33m\u001b[0m\u001b[1;33m\u001b[0m\u001b[0m\n\u001b[0m",
      "\u001b[1;31mAttributeError\u001b[0m: 'car' object has no attribute 'body_type'"
     ]
    }
   ],
   "source": [
    "forture.body_type"
   ]
  },
  {
   "cell_type": "code",
   "execution_count": 44,
   "id": "92933df0",
   "metadata": {},
   "outputs": [
    {
     "ename": "AttributeError",
     "evalue": "'car' object has no attribute 'engine'",
     "output_type": "error",
     "traceback": [
      "\u001b[1;31m---------------------------------------------------------------------------\u001b[0m",
      "\u001b[1;31mAttributeError\u001b[0m                            Traceback (most recent call last)",
      "\u001b[1;32m~\\AppData\\Local\\Temp/ipykernel_49732/2466556918.py\u001b[0m in \u001b[0;36m<module>\u001b[1;34m\u001b[0m\n\u001b[1;32m----> 1\u001b[1;33m \u001b[0mnexon\u001b[0m\u001b[1;33m.\u001b[0m\u001b[0mengine\u001b[0m\u001b[1;33m\u001b[0m\u001b[1;33m\u001b[0m\u001b[0m\n\u001b[0m",
      "\u001b[1;31mAttributeError\u001b[0m: 'car' object has no attribute 'engine'"
     ]
    }
   ],
   "source": [
    "nexon.engine"
   ]
  },
  {
   "cell_type": "code",
   "execution_count": 45,
   "id": "aa22f7d5",
   "metadata": {},
   "outputs": [
    {
     "name": "stdout",
     "output_type": "stream",
     "text": [
      "677s8u8w\n"
     ]
    }
   ],
   "source": [
    "a=input()"
   ]
  },
  {
   "cell_type": "code",
   "execution_count": 46,
   "id": "d2df8fc0",
   "metadata": {},
   "outputs": [
    {
     "name": "stdout",
     "output_type": "stream",
     "text": [
      "<class 'int'>\n"
     ]
    }
   ],
   "source": [
    "a=10\n",
    "print(type(a))"
   ]
  },
  {
   "cell_type": "code",
   "execution_count": 47,
   "id": "28b830a7",
   "metadata": {},
   "outputs": [],
   "source": [
    "s=\"sudh\""
   ]
  },
  {
   "cell_type": "code",
   "execution_count": 48,
   "id": "0db3ae3b",
   "metadata": {},
   "outputs": [
    {
     "name": "stdout",
     "output_type": "stream",
     "text": [
      "<class 'str'>\n"
     ]
    }
   ],
   "source": [
    "print(type(s))"
   ]
  },
  {
   "cell_type": "code",
   "execution_count": 49,
   "id": "4885e302",
   "metadata": {},
   "outputs": [],
   "source": [
    "n=67"
   ]
  },
  {
   "cell_type": "code",
   "execution_count": 50,
   "id": "1ea30d0e",
   "metadata": {},
   "outputs": [],
   "source": [
    "m=\"sudh\""
   ]
  },
  {
   "cell_type": "code",
   "execution_count": 51,
   "id": "ee53ff81",
   "metadata": {},
   "outputs": [],
   "source": [
    "class car:\n",
    "    def test(sudh,b,c):\n",
    "        print(\"this is my first method in my car class\")"
   ]
  },
  {
   "cell_type": "code",
   "execution_count": 52,
   "id": "f0cbd15e",
   "metadata": {},
   "outputs": [],
   "source": [
    "x=car()"
   ]
  },
  {
   "cell_type": "code",
   "execution_count": 53,
   "id": "e30a5720",
   "metadata": {},
   "outputs": [
    {
     "name": "stdout",
     "output_type": "stream",
     "text": [
      "<class '__main__.car'>\n"
     ]
    }
   ],
   "source": [
    "print(type(x))"
   ]
  },
  {
   "cell_type": "code",
   "execution_count": 54,
   "id": "09b09460",
   "metadata": {},
   "outputs": [
    {
     "name": "stdout",
     "output_type": "stream",
     "text": [
      "this is my first method in my car class\n"
     ]
    }
   ],
   "source": [
    "x.test(6,\"sdfrdsf\")"
   ]
  },
  {
   "cell_type": "code",
   "execution_count": 59,
   "id": "a4cd7585",
   "metadata": {},
   "outputs": [],
   "source": [
    "class list_parser:\n",
    "    def __init__(self,l):\n",
    "        self.l=l\n",
    "        \n",
    "    def parcer(self):\n",
    "        if type(self.l)== list:\n",
    "            for i in self.l:\n",
    "                print(i)\n",
    "            \n",
    "    def reverser_list(self):\n",
    "        if type(self.l) == list:\n",
    "            return self.l [::-1]"
   ]
  },
  {
   "cell_type": "code",
   "execution_count": 60,
   "id": "26a42f88",
   "metadata": {},
   "outputs": [
    {
     "name": "stdout",
     "output_type": "stream",
     "text": [
      "2\n",
      "3\n",
      "4\n",
      "6\n",
      "7\n",
      "78\n"
     ]
    }
   ],
   "source": [
    "c=list_parser([2,3,4,6,7,78])\n",
    "c.parcer()"
   ]
  },
  {
   "cell_type": "code",
   "execution_count": 61,
   "id": "c825d4bf",
   "metadata": {},
   "outputs": [
    {
     "data": {
      "text/plain": [
       "[78, 7, 6, 4, 3, 2]"
      ]
     },
     "execution_count": 61,
     "metadata": {},
     "output_type": "execute_result"
    }
   ],
   "source": [
    "c.reverser_list()"
   ]
  },
  {
   "cell_type": "code",
   "execution_count": null,
   "id": "db61c479",
   "metadata": {},
   "outputs": [],
   "source": [
    "l=[4,5,56,76]"
   ]
  },
  {
   "cell_type": "markdown",
   "id": "9eeb7e11",
   "metadata": {},
   "source": [
    "# create a class for dictonary parsing \n",
    "\n",
    "1 .write a functoin to give all the keys \n",
    "\n",
    "2 .write a function to give all the values \n",
    "\n",
    "3 . write a function to throw an exception in case of input is not dictonary \n",
    "\n",
    "4.write a function to take user input and then parse a key and value out of dictonary   \n",
    "5.write a function to insert new key value pair  into dictonary \n"
   ]
  },
  {
   "cell_type": "code",
   "execution_count": 62,
   "id": "7107c86b",
   "metadata": {},
   "outputs": [
    {
     "name": "stdout",
     "output_type": "stream",
     "text": [
      "3\n"
     ]
    }
   ],
   "source": [
    "class dict_parser:\n",
    "    \n",
    "    def keys_dict(self,d):\n",
    "        for i in d.keys():\n",
    "            print(i)\n",
    "            \n",
    "    def keys_dict(self,d):\n",
    "        for i in d.values():\n",
    "            print(i)\n",
    "            \n",
    "    def dict_chek(self,d):\n",
    "        if (type(d)!=dict):\n",
    "            raise Exception(\"input not dictinary\")\n",
    "    def dict_in(self,d,a=int(input())):\n",
    "        print(d[a])\n",
    "        \n",
    "    def dict_input(self,d,key,value):\n",
    "        d[key]=value\n",
    "    "
   ]
  },
  {
   "cell_type": "code",
   "execution_count": null,
   "id": "385b9024",
   "metadata": {},
   "outputs": [],
   "source": []
  },
  {
   "cell_type": "code",
   "execution_count": null,
   "id": "a40048a5",
   "metadata": {},
   "outputs": [],
   "source": []
  }
 ],
 "metadata": {
  "kernelspec": {
   "display_name": "Python 3 (ipykernel)",
   "language": "python",
   "name": "python3"
  },
  "language_info": {
   "codemirror_mode": {
    "name": "ipython",
    "version": 3
   },
   "file_extension": ".py",
   "mimetype": "text/x-python",
   "name": "python",
   "nbconvert_exporter": "python",
   "pygments_lexer": "ipython3",
   "version": "3.10.0"
  }
 },
 "nbformat": 4,
 "nbformat_minor": 5
}
