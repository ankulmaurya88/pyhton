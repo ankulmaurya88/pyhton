{
 "cells": [
  {
   "cell_type": "code",
   "execution_count": 12,
   "id": "a090af80",
   "metadata": {},
   "outputs": [
    {
     "name": "stdout",
     "output_type": "stream",
     "text": [
      "0 ->1   \n",
      "1 ->2   \n",
      "2 ->0   \n"
     ]
    }
   ],
   "source": [
    "def addEdge(adj,u,v):\n",
    "    adj[u].append(v)\n",
    "    \n",
    "def adjacencylist(adj,V):\n",
    "    for i in range(0,V):\n",
    "        print(i,\"->\",end=\"\")\n",
    "        \n",
    "        for x in adj[i]:\n",
    "            print(x,\" \",end=\" \")\n",
    "        print()\n",
    "        \n",
    "def initGraph(v,edges,noOfEdges):\n",
    "    adj=[0]*3\n",
    "    \n",
    "    for i in range(0,len(adj)):\n",
    "        adj[i]=[]\n",
    "        \n",
    "    for i in range(0,noOfEdges):\n",
    "        addEdge(adj,edges[i][0],edges[i][1])\n",
    "        \n",
    "    adjacencylist(adj,V)\n",
    "    \n",
    "V=3\n",
    "\n",
    "edges=[[0,1],[1,2],[2,0],[3,5]]\n",
    "\n",
    "noOfEdges=3;\n",
    "initGraph(V,edges,noOfEdges)"
   ]
  },
  {
   "cell_type": "markdown",
   "id": "a782afc6",
   "metadata": {},
   "source": [
    "## BFS\n"
   ]
  },
  {
   "cell_type": "code",
   "execution_count": 11,
   "id": "2bbeb31e",
   "metadata": {},
   "outputs": [
    {
     "name": "stdout",
     "output_type": "stream",
     "text": [
      "Following is Breadth First Traversal -> starting from vertex 2\n",
      "2 0 3 1 "
     ]
    }
   ],
   "source": [
    "from collections import defaultdict\n",
    "#python program to print BFS travesal \n",
    "# from a given source vertex .BFS(int s)\n",
    "# traverse vertices reachable from s.\n",
    "\n",
    "\n",
    "class Graph:\n",
    "    def __init__ (self):\n",
    "        self.graph=defaultdict(list)\n",
    "        \n",
    "    def addEdge(self,u,v):\n",
    "        self.graph[u].append(v)\n",
    "        \n",
    "        \n",
    "    def BFS(self,s):\n",
    "        \n",
    "        visited =[False]*(max(self.graph)+1)\n",
    "        queue=[]\n",
    "        queue.append(s)\n",
    "        visited[s]=True\n",
    "        \n",
    "        while queue:\n",
    "            s=queue.pop(0)\n",
    "            print(s,end=\" \")\n",
    "            \n",
    "            for i in self.graph[s]:\n",
    "                if visited[i]== False:\n",
    "                    queue.append(i)\n",
    "                    visited[i]=True\n",
    "                    \n",
    "                    \n",
    "#Drive code \n",
    "if __name__== '__main__':\n",
    "    g=Graph()\n",
    "    g.addEdge(0,1)\n",
    "    g.addEdge(0,2)\n",
    "    g.addEdge(1,2)\n",
    "    g.addEdge(2,0)\n",
    "    g.addEdge(2,3)\n",
    "    g.addEdge(3,3)\n",
    "    \n",
    "    print(\"Following is Breadth First Traversal -> starting from vertex 2\")\n",
    "    g.BFS(2)"
   ]
  },
  {
   "cell_type": "code",
   "execution_count": 21,
   "id": "fa9baa99",
   "metadata": {},
   "outputs": [
    {
     "name": "stdout",
     "output_type": "stream",
     "text": [
      "2\n"
     ]
    }
   ],
   "source": [
    "def findLevel(N,edges,X):\n",
    "    \n",
    "    maxVertex=0\n",
    "    for it in edges:\n",
    "        maxVertex=max(maxVertex,max(it[0],it[1]))\n",
    "        \n",
    "    adj=[[] for j in range(maxVertex+1)]\n",
    "    for i in range (len(edges)):\n",
    "        adj[edges[i][0]].append(edges[i][1])\n",
    "        adj[edges[i][1]].append(edges[i][0])\n",
    "        \n",
    "    if (X>maxVertex or len(adj[X])==0 ):\n",
    "        return -1\n",
    "    \n",
    "    \n",
    "    q=[]\n",
    "    q.append(0)\n",
    "    level=0\n",
    "    \n",
    "    visited=[0]*(maxVertex+1)\n",
    "    visited[0]=1\n",
    "    \n",
    "    while(len(q)>0):\n",
    "        sz=len(q)\n",
    "        while(sz>0):\n",
    "            currentNode=q[0]\n",
    "            q.pop(0)\n",
    "            if(currentNode==X):\n",
    "                return level \n",
    "            for it in adj[currentNode]:\n",
    "                if(not visited[it]):\n",
    "                    q.append(it)\n",
    "                    visited[it]=1\n",
    "            sz=sz-1\n",
    "        level=level+1\n",
    "        \n",
    "    return -1\n",
    "\n",
    "\n",
    "V=5\n",
    "edges=[[0,1],[0,2],[1,3],[2,4]]\n",
    "X=3\n",
    "\n",
    "level=findLevel(V,edges,X)\n",
    "print(level)"
   ]
  },
  {
   "cell_type": "code",
   "execution_count": null,
   "id": "efe01649",
   "metadata": {},
   "outputs": [],
   "source": [
    "visited=[]\n",
    "queue=[]\n",
    "\n",
    "def bfs(vistited, graph,node):\n",
    "    visited.append(node)\n",
    "    queue.append(node)\n",
    "    \n",
    "    while queue:\n",
    "        m=queue.pop(0)\n",
    "        print(m,end= \" \")\n",
    "        for neighbour in graph[m]:\n",
    "            if neighbour not in visited:\n",
    "                visited.append(neighbour)\n",
    "                queue.append(neighbour)"
   ]
  },
  {
   "cell_type": "code",
   "execution_count": null,
   "id": "62e8f5b0",
   "metadata": {},
   "outputs": [],
   "source": [
    "from collections import defaultdict\n",
    "\n",
    "\n",
    "\n",
    "class Graph:\n",
    "    def __init__ (self):\n",
    "        self.graph=defaultdict(list)\n",
    "        \n",
    "    def addEdge(self,u,v):\n",
    "        self.graph[u].append(v)\n",
    "        \n",
    "        \n",
    "    def BFS(self,s):\n",
    "        \n",
    "        visited =[False]*(max(self.graph)+1)\n",
    "        queue=[]\n",
    "        queue.append(s)\n",
    "        visited[s]=True\n",
    "        \n",
    "        while queue:\n",
    "            s=queue.pop(0)\n",
    "            print(s,end=\" \")\n",
    "            \n",
    "            for i in self.graph[s]:\n",
    "                if visited[i]== False:\n",
    "                    queue.append(i)\n",
    "                    visited[i]=True\n",
    "                    \n",
    "                    \n",
    "#Drive code \n",
    "if __name__== '__main__':\n",
    "    g=Graph()\n",
    "    g.addEdge(0,1)\n",
    "    g.addEdge(0,2)\n",
    "    g.addEdge(1,2)\n",
    "    g.addEdge(2,0)\n",
    "    g.addEdge(2,3)\n",
    "    g.addEdge(3,3)\n",
    "    \n",
    "    print(\"Following is Breadth First Traversal -> starting from vertex 2\")\n",
    "    g.BFS(2)"
   ]
  },
  {
   "cell_type": "code",
   "execution_count": null,
   "id": "7fbb584c",
   "metadata": {},
   "outputs": [],
   "source": [
    " "
   ]
  }
 ],
 "metadata": {
  "kernelspec": {
   "display_name": "Python 3 (ipykernel)",
   "language": "python",
   "name": "python3"
  },
  "language_info": {
   "codemirror_mode": {
    "name": "ipython",
    "version": 3
   },
   "file_extension": ".py",
   "mimetype": "text/x-python",
   "name": "python",
   "nbconvert_exporter": "python",
   "pygments_lexer": "ipython3",
   "version": "3.10.0"
  }
 },
 "nbformat": 4,
 "nbformat_minor": 5
}
