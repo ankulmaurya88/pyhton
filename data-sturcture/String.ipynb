{
 "cells": [
  {
   "cell_type": "code",
   "execution_count": null,
   "metadata": {},
   "outputs": [],
   "source": [
    "def check(value):\n",
    "    start,end=0,len(value)-1\n",
    "    while start<=end:\n",
    "        if value[start] !=value[end]:\n",
    "            return False\n",
    "        start+=1\n",
    "        end-=1\n",
    "\n",
    "    return True\n",
    "    "
   ]
  },
  {
   "cell_type": "code",
   "execution_count": 6,
   "metadata": {},
   "outputs": [
    {
     "name": "stdout",
     "output_type": "stream",
     "text": [
      "28\n",
      "28\n",
      "['r', 'ra', 'rac', 'race', 'racec', 'raceca', 'racecar', 'a', 'ac', 'ace', 'acec', 'aceca', 'acecar', 'c', 'ce', 'cec', 'ceca', 'cecar', 'e', 'ec', 'eca', 'ecar', 'c', 'ca', 'car', 'a', 'ar', 'r']\n",
      "28\n"
     ]
    }
   ],
   "source": [
    "# what is way of finding substring\n",
    "s=\"racecar\" \n",
    "n=len(s)\n",
    "res=[]\n",
    "print((n * (n + 1)) // 2)  \n",
    "print((n*(n+1))//2)\n",
    "for i in range (n):\n",
    "    for j in range(i+1,n+1):\n",
    "        res.append(s[i:j])\n",
    "print(res)\n",
    "print(len(res))\n",
    "\n"
   ]
  },
  {
   "cell_type": "code",
   "execution_count": 7,
   "metadata": {},
   "outputs": [
    {
     "data": {
      "text/plain": [
       "95"
      ]
     },
     "execution_count": 7,
     "metadata": {},
     "output_type": "execute_result"
    }
   ],
   "source": [
    "# find second largest number\n",
    "def second_largest(arr):\n",
    "    first = float('-inf') \n",
    "    second = float('-inf')\n",
    "    n=len(arr)\n",
    "    for i in range (n):\n",
    "        if arr[i]>first:\n",
    "            second=first\n",
    "            first=arr[i]\n",
    "\n",
    "        elif(first!=arr[i] and arr[i] > second):\n",
    "            second=arr[i]\n",
    "\n",
    "    if second == float('-inf'):\n",
    "        return None\n",
    "\n",
    "    return second\n",
    "\n",
    "\n",
    "arr=[56,89,90,45,78,95,97]\n",
    "second_largest(arr)\n"
   ]
  },
  {
   "cell_type": "code",
   "execution_count": 9,
   "metadata": {},
   "outputs": [
    {
     "name": "stdout",
     "output_type": "stream",
     "text": [
      "[20, 90]\n"
     ]
    },
    {
     "data": {
      "text/plain": [
       "90"
      ]
     },
     "execution_count": 9,
     "metadata": {},
     "output_type": "execute_result"
    }
   ],
   "source": [
    "def peak(arr):\n",
    "    res=[]\n",
    "    n=len(arr)\n",
    "\n",
    "    if arr[0] > arr[1]:\n",
    "        res.append(arr[0])\n",
    "    \n",
    "        \n",
    "    \n",
    "    for i in range (1,n-1):\n",
    "        if arr[i]>arr[i-1] and arr[i]>arr[i+1]:\n",
    "            res.append(arr[i])\n",
    "    if arr[n-1]>arr[n-2]:\n",
    "        res.append(arr[n])\n",
    "    print(res)\n",
    "    return  res[-1] if len(res)!=0 else -1\n",
    "\n",
    "\n",
    "\n",
    "arr = [10, 20, 15, 2, 23, 90, 80]\n",
    "peak(arr)"
   ]
  },
  {
   "cell_type": "code",
   "execution_count": null,
   "metadata": {},
   "outputs": [],
   "source": []
  }
 ],
 "metadata": {
  "kernelspec": {
   "display_name": "Python 3",
   "language": "python",
   "name": "python3"
  },
  "language_info": {
   "codemirror_mode": {
    "name": "ipython",
    "version": 3
   },
   "file_extension": ".py",
   "mimetype": "text/x-python",
   "name": "python",
   "nbconvert_exporter": "python",
   "pygments_lexer": "ipython3",
   "version": "3.9.5"
  }
 },
 "nbformat": 4,
 "nbformat_minor": 2
}
