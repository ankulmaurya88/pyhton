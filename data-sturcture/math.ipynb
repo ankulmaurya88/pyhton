{
 "cells": [
  {
   "cell_type": "code",
   "execution_count": 9,
   "metadata": {},
   "outputs": [
    {
     "data": {
      "text/plain": [
       "[0, 1, 1, 2, 3, 5]"
      ]
     },
     "execution_count": 9,
     "metadata": {},
     "output_type": "execute_result"
    }
   ],
   "source": [
    "# Nth Fibonacci Number\n",
    "\n",
    "def fibonacci(n):\n",
    "    a,b=0,1\n",
    "    res=[]\n",
    "    res.append(a)\n",
    "    while n>=b:\n",
    "        res.append(b)\n",
    "        a,b =b,a+b\n",
    "    return res\n",
    "fibonacci(5)"
   ]
  },
  {
   "cell_type": "code",
   "execution_count": null,
   "metadata": {},
   "outputs": [
    {
     "data": {
      "text/plain": [
       "2"
      ]
     },
     "execution_count": 20,
     "metadata": {},
     "output_type": "execute_result"
    }
   ],
   "source": [
    "# recurvice way \n",
    "def fibonacci(n):\n",
    "    if n==0:\n",
    "        return 0\n",
    "    elif n == 1:\n",
    "        return 1\n",
    "    return fibonacci(n-1)+fibonacci(n-2)\n",
    "fibonacci(3)"
   ]
  },
  {
   "cell_type": "code",
   "execution_count": null,
   "metadata": {},
   "outputs": [
    {
     "data": {
      "text/plain": [
       "False"
      ]
     },
     "execution_count": 41,
     "metadata": {},
     "output_type": "execute_result"
    }
   ],
   "source": [
    "# Prime Number\n",
    "\n",
    "def Prime_number (n):\n",
    "    if n==1:\n",
    "        return False\n",
    "    for i in range (2,n):\n",
    "        if n%i==0:\n",
    "            return False\n",
    "    return True\n",
    "\n",
    "Prime_number(99)\n"
   ]
  },
  {
   "cell_type": "code",
   "execution_count": 56,
   "metadata": {},
   "outputs": [
    {
     "data": {
      "text/plain": [
       "[]"
      ]
     },
     "execution_count": 56,
     "metadata": {},
     "output_type": "execute_result"
    }
   ],
   "source": [
    "# Prime number list \n",
    "\n",
    "def Prime_nmuber(n):\n",
    "    count=0\n",
    "    while(n!=0):\n",
    "        n=n//10\n",
    "        count+=1\n",
    "    temp=10**count\n",
    "\n",
    "    res=[]\n",
    "    while True:\n",
    "        p=2\n",
    "        for i in range (2,n*temp):\n",
    "            if p%i!=0:\n",
    "                res.append(i)\n",
    "            p+=1\n",
    "            \n",
    "        if len(res)==n:\n",
    "            break\n",
    "    return res\n",
    "\n",
    "\n",
    "Prime_nmuber(10)"
   ]
  },
  {
   "cell_type": "code",
   "execution_count": 51,
   "metadata": {},
   "outputs": [
    {
     "data": {
      "text/plain": [
       "2"
      ]
     },
     "execution_count": 51,
     "metadata": {},
     "output_type": "execute_result"
    }
   ],
   "source": [
    "# Digit Count\n",
    "def digit_count(n):\n",
    "    temp=n\n",
    "    count=0\n",
    "    while(n!=0):\n",
    "        # n=n%10\n",
    "        n=n//10\n",
    "        count+=1\n",
    "    return count\n",
    "\n",
    "digit_count(20)"
   ]
  },
  {
   "cell_type": "code",
   "execution_count": null,
   "metadata": {},
   "outputs": [
    {
     "name": "stdout",
     "output_type": "stream",
     "text": [
      "[2, 3, 5, 7, 11, 13, 17, 19, 23, 29]\n"
     ]
    }
   ],
   "source": [
    "def prime_numbers(n):\n",
    "    res = []\n",
    "    num = 2 \n",
    "\n",
    "    while len(res) < n:  \n",
    "        is_prime = True\n",
    "        for i in range(2, int(num ** 0.5) + 1):  \n",
    "            if num % i == 0:\n",
    "                is_prime = False\n",
    "                break\n",
    "        if is_prime:\n",
    "            res.append(num)\n",
    "        num += 1  \n",
    "    \n",
    "    return res\n",
    "\n",
    "print(prime_numbers(10))  "
   ]
  },
  {
   "cell_type": "code",
   "execution_count": null,
   "metadata": {},
   "outputs": [],
   "source": []
  }
 ],
 "metadata": {
  "kernelspec": {
   "display_name": "Python 3",
   "language": "python",
   "name": "python3"
  },
  "language_info": {
   "codemirror_mode": {
    "name": "ipython",
    "version": 3
   },
   "file_extension": ".py",
   "mimetype": "text/x-python",
   "name": "python",
   "nbconvert_exporter": "python",
   "pygments_lexer": "ipython3",
   "version": "3.9.5"
  }
 },
 "nbformat": 4,
 "nbformat_minor": 2
}
