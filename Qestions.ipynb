{
 "cells": [
  {
   "cell_type": "code",
   "execution_count": 13,
   "id": "605496ed",
   "metadata": {},
   "outputs": [
    {
     "name": "stdout",
     "output_type": "stream",
     "text": [
      "yes\n"
     ]
    }
   ],
   "source": [
    "def subset(arr1,arr2):\n",
    "    \n",
    "    size1=len(arr1)\n",
    "    size2=len(arr2)\n",
    "    for i in range(size2):\n",
    "        count=0\n",
    "        \n",
    "        for j in range(size1):\n",
    "            if arr2[i]==arr1[j]:\n",
    "                count+=1\n",
    "        if count==0:\n",
    "            return 'No'\n",
    "    return 'yes'\n",
    "        \n",
    "    \n",
    "a1= [11, 7, 1, 13, 21, 3, 7, 3,0]\n",
    "a2 = [11, 3, 7, 1, 7,0]\n",
    "\n",
    "print(subset(a1,a2))\n",
    "\n",
    "\n",
    "\n",
    "\n",
    "# 1 2 3 4 5 6 7 8\n",
    "# 1 2 3 1"
   ]
  },
  {
   "cell_type": "code",
   "execution_count": null,
   "id": "7c42475e",
   "metadata": {},
   "outputs": [],
   "source": []
  }
 ],
 "metadata": {
  "kernelspec": {
   "display_name": "Python 3 (ipykernel)",
   "language": "python",
   "name": "python3"
  },
  "language_info": {
   "codemirror_mode": {
    "name": "ipython",
    "version": 3
   },
   "file_extension": ".py",
   "mimetype": "text/x-python",
   "name": "python",
   "nbconvert_exporter": "python",
   "pygments_lexer": "ipython3",
   "version": "3.10.0"
  }
 },
 "nbformat": 4,
 "nbformat_minor": 5
}
