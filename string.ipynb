{
 "cells": [
  {
   "cell_type": "code",
   "execution_count": 1,
   "metadata": {},
   "outputs": [
    {
     "name": "stdout",
     "output_type": "stream",
     "text": [
      "ankul\n"
     ]
    }
   ],
   "source": [
    "print(\"ankul\")"
   ]
  },
  {
   "cell_type": "code",
   "execution_count": 6,
   "metadata": {},
   "outputs": [],
   "source": [
    "s = 'forgeeksskeegfor'"
   ]
  },
  {
   "cell_type": "code",
   "execution_count": 9,
   "metadata": {},
   "outputs": [
    {
     "name": "stdout",
     "output_type": "stream",
     "text": [
      "e\n",
      "f\n",
      "g\n",
      "k\n",
      "o\n",
      "r\n",
      "s\n"
     ]
    }
   ],
   "source": [
    "# find the first repeting chater\n",
    "\n",
    "\n",
    "count=[0]*26\n",
    "n=len(s)\n",
    "for i in range (n):\n",
    "    count[ord(s[i]) - 97] += 1\n",
    "    \n",
    "\n",
    "for i in range (26):\n",
    "    if count[i]>1:\n",
    "        print(chr(i+97))"
   ]
  },
  {
   "cell_type": "code",
   "execution_count": 10,
   "metadata": {},
   "outputs": [
    {
     "name": "stdout",
     "output_type": "stream",
     "text": [
      "a\n",
      "e\n"
     ]
    }
   ],
   "source": [
    "s = \"examplae\"  # Example input string\n",
    "count = [0] * 26  # Array to store frequency of each character\n",
    "\n",
    "# Count frequency of each character\n",
    "for char in s:\n",
    "    count[ord(char) - ord('a')] += 1  \n",
    "\n",
    "# Print repeating characters\n",
    "for i in range(26):\n",
    "    if count[i] > 1:\n",
    "        print(chr(i + ord('a')))\n"
   ]
  },
  {
   "cell_type": "code",
   "execution_count": 19,
   "metadata": {},
   "outputs": [
    {
     "name": "stdout",
     "output_type": "stream",
     "text": [
      "x\n"
     ]
    }
   ],
   "source": [
    "s = \"examplae\"  # Example input string\n",
    "count = [0] * 26  # Array to store frequency of each character\n",
    "\n",
    "# Count frequency of each character\n",
    "for char in s:\n",
    "    count[ord(char) - 97] += 1  \n",
    "\n",
    "# Print repeating characters\n",
    "for i in range(len(s)):\n",
    "    if count[ord(s[i])-97] ==1:\n",
    "        print(s[i])\n",
    "        break"
   ]
  },
  {
   "cell_type": "code",
   "execution_count": 17,
   "metadata": {},
   "outputs": [
    {
     "name": "stdout",
     "output_type": "stream",
     "text": [
      "Leftmost non-repeating character: x\n",
      "Leftmost non-repeating character: m\n",
      "Leftmost non-repeating character: p\n",
      "Leftmost non-repeating character: l\n"
     ]
    }
   ],
   "source": [
    "s = \"examplae\"  # Example input string\n",
    "count = [0] * 26  # Array to store frequency of each character\n",
    "\n",
    "# Count frequency of each character\n",
    "for char in s:\n",
    "    count[ord(char) - 97] += 1  \n",
    "\n",
    "# Find the leftmost non-repeating character\n",
    "for i in range(len(s)):  \n",
    "    if count[ord(s[i]) - 97] == 1:  # If the character appears only once\n",
    "        print(\"Leftmost non-repeating character:\", s[i])"
   ]
  },
  {
   "cell_type": "code",
   "execution_count": null,
   "metadata": {},
   "outputs": [
    {
     "name": "stdout",
     "output_type": "stream",
     "text": [
      "['A', 'n', 'k', 'u', 'l', ' ', 'k', 'u', 'm', 'a', 'r', ' ', 'M', 'a', 'u', 'r', 'y', 'a']\n",
      "['M', 'a', 'u', 'r', 'y', 'a', ' ', 'k', 'u', 'm', 'a', 'r', ' ', 'A', 'n', 'k', 'u', 'l']\n",
      "Maurya kumar Ankul\n",
      "Maurya kumar Ankul\n"
     ]
    }
   ],
   "source": [
    "#  the reverse the word \n",
    "\"\"\"\n",
    "1 . create a stack \n",
    "2 . push words one by one to the stack \n",
    "3 . pop words from the stack and append to output \n",
    "\"\"\"\n",
    "\n",
    "def reverse(s,b,e):\n",
    "    while (b<e):\n",
    "        s[b],s[e] =s[e],s[b]\n",
    "        b += 1\n",
    "        e -= 1\n",
    "\n",
    "\n",
    "def reverse_words(s):\n",
    "    n=len(s)\n",
    "    s = list(s)\n",
    "    b=0\n",
    "    for e in range (n):\n",
    "        if s[e]==\" \":\n",
    "            reverse(s,b,e-1)\n",
    "            b=e+1\n",
    "        \n",
    "    reverse(s,b,n-1)\n",
    "    reverse(s,0,n-1)\n",
    "    return \"\".join(s)\n",
    "\n",
    "\n",
    "s=\"Ankul kumar Maurya\"\n",
    "print (list(s))\n",
    "print(reverse_words(s))"
   ]
  },
  {
   "cell_type": "code",
   "execution_count": null,
   "metadata": {},
   "outputs": [
    {
     "name": "stdout",
     "output_type": "stream",
     "text": [
      "171\n",
      "171.0\n"
     ]
    }
   ],
   "source": [
    "# how to find all substring \n",
    "s=\"Ankul kumar Maurya\"\n",
    "n=len(s)\n",
    "# for start in range (n):\n",
    "#     for end in range (start+1,n-1):\n",
    "#         for k in range (start,end):\n",
    "#             print(s[start:k])\n",
    "\n",
    "p=[]      \n",
    "for start in range(n):\n",
    "    for end in range(start + 1, n + 1):  # Corrected the range\n",
    "        p.append(s[start:end])\n",
    "\n",
    "print(len(p))\n",
    "\n"
   ]
  },
  {
   "cell_type": "code",
   "execution_count": 52,
   "metadata": {},
   "outputs": [
    {
     "name": "stdout",
     "output_type": "stream",
     "text": [
      "this is palindrome\n"
     ]
    }
   ],
   "source": [
    "# checking pollidrome \n",
    "\n",
    "def palindrome(s):\n",
    "\n",
    "    n=len(s)\n",
    "    \n",
    "    for i in range (n//2):\n",
    "        if s[i]!=s[n-i-1]:\n",
    "            return \"this not palindrome\"\n",
    "    return \"this is palindrome\"\n",
    "\n",
    "\n",
    "s=\"bab\"\n",
    "\n",
    "print(palindrome(s))"
   ]
  },
  {
   "cell_type": "code",
   "execution_count": null,
   "metadata": {},
   "outputs": [],
   "source": []
  }
 ],
 "metadata": {
  "kernelspec": {
   "display_name": "Python 3",
   "language": "python",
   "name": "python3"
  },
  "language_info": {
   "codemirror_mode": {
    "name": "ipython",
    "version": 3
   },
   "file_extension": ".py",
   "mimetype": "text/x-python",
   "name": "python",
   "nbconvert_exporter": "python",
   "pygments_lexer": "ipython3",
   "version": "3.9.5"
  }
 },
 "nbformat": 4,
 "nbformat_minor": 2
}
