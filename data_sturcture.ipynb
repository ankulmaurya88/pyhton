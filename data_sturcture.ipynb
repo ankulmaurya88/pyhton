{
 "cells": [
  {
   "cell_type": "code",
   "execution_count": 32,
   "id": "46222738",
   "metadata": {},
   "outputs": [
    {
     "name": "stdout",
     "output_type": "stream",
     "text": [
      "1\n",
      "7\n",
      "4\n",
      "\n",
      "7\n",
      "4\n",
      "-8\n",
      "\n",
      "4\n",
      "-8\n",
      "5\n",
      "\n",
      "-8\n",
      "5\n",
      "4\n",
      "\n",
      "5\n",
      "4\n",
      "2\n",
      "\n",
      "4\n",
      "2\n",
      "1\n",
      "\n",
      "2\n",
      "1\n",
      "7\n",
      "\n",
      "1\n",
      "7\n",
      "9\n",
      "\n",
      "7\n",
      "9\n",
      "2\n",
      "\n",
      "9\n",
      "2\n",
      "1\n",
      "\n",
      "2\n",
      "1\n",
      "9\n",
      "\n",
      "1\n",
      "9\n"
     ]
    },
    {
     "ename": "IndexError",
     "evalue": "list index out of range",
     "output_type": "error",
     "traceback": [
      "\u001b[1;31m---------------------------------------------------------------------------\u001b[0m",
      "\u001b[1;31mIndexError\u001b[0m                                Traceback (most recent call last)",
      "\u001b[1;32m~\\AppData\\Local\\Temp/ipykernel_16224/1908186125.py\u001b[0m in \u001b[0;36m<module>\u001b[1;34m\u001b[0m\n\u001b[0;32m      6\u001b[0m \u001b[1;32mfor\u001b[0m \u001b[0mi\u001b[0m \u001b[1;32min\u001b[0m \u001b[0mrange\u001b[0m \u001b[1;33m(\u001b[0m\u001b[0mlen\u001b[0m\u001b[1;33m(\u001b[0m\u001b[0mx\u001b[0m\u001b[1;33m)\u001b[0m\u001b[1;33m-\u001b[0m\u001b[1;36m1\u001b[0m\u001b[1;33m)\u001b[0m\u001b[1;33m:\u001b[0m\u001b[1;33m\u001b[0m\u001b[1;33m\u001b[0m\u001b[0m\n\u001b[0;32m      7\u001b[0m     \u001b[1;32mfor\u001b[0m \u001b[0mj\u001b[0m \u001b[1;32min\u001b[0m \u001b[0mrange\u001b[0m\u001b[1;33m(\u001b[0m\u001b[1;36m0\u001b[0m\u001b[1;33m,\u001b[0m\u001b[0mk\u001b[0m\u001b[1;33m)\u001b[0m\u001b[1;33m:\u001b[0m\u001b[1;33m\u001b[0m\u001b[1;33m\u001b[0m\u001b[0m\n\u001b[1;32m----> 8\u001b[1;33m         \u001b[0mprint\u001b[0m\u001b[1;33m(\u001b[0m\u001b[0mx\u001b[0m\u001b[1;33m[\u001b[0m\u001b[0mi\u001b[0m\u001b[1;33m]\u001b[0m\u001b[1;33m)\u001b[0m\u001b[1;33m\u001b[0m\u001b[1;33m\u001b[0m\u001b[0m\n\u001b[0m\u001b[0;32m      9\u001b[0m         \u001b[0mi\u001b[0m\u001b[1;33m=\u001b[0m\u001b[0mi\u001b[0m\u001b[1;33m+\u001b[0m\u001b[1;36m1\u001b[0m\u001b[1;33m\u001b[0m\u001b[1;33m\u001b[0m\u001b[0m\n\u001b[0;32m     10\u001b[0m     \u001b[0mprint\u001b[0m\u001b[1;33m(\u001b[0m\u001b[1;33m)\u001b[0m\u001b[1;33m\u001b[0m\u001b[1;33m\u001b[0m\u001b[0m\n",
      "\u001b[1;31mIndexError\u001b[0m: list index out of range"
     ]
    }
   ],
   "source": [
    "x=[1,7,4,-8,5,4,2,1,7,9,2,1,9] # \n",
    "k= 3\n",
    "#print(len(x))\n",
    "l=[]\n",
    "sum=0\n",
    "for i in range (len(x)-1):\n",
    "    for j in range(0,k):\n",
    "        print(x[i])\n",
    "        i=i+1\n",
    "    print()\n",
    "        "
   ]
  },
  {
   "cell_type": "code",
   "execution_count": 35,
   "id": "07cf86a4",
   "metadata": {},
   "outputs": [
    {
     "ename": "TypeError",
     "evalue": "'int' object is not callable",
     "output_type": "error",
     "traceback": [
      "\u001b[1;31m---------------------------------------------------------------------------\u001b[0m",
      "\u001b[1;31mTypeError\u001b[0m                                 Traceback (most recent call last)",
      "\u001b[1;32m~\\AppData\\Local\\Temp/ipykernel_16224/2587821585.py\u001b[0m in \u001b[0;36m<module>\u001b[1;34m\u001b[0m\n\u001b[0;32m      7\u001b[0m \u001b[1;31m# Iterate over the list to find the maximum sum of k consecutive elements\u001b[0m\u001b[1;33m\u001b[0m\u001b[1;33m\u001b[0m\u001b[0m\n\u001b[0;32m      8\u001b[0m \u001b[1;32mfor\u001b[0m \u001b[0mi\u001b[0m \u001b[1;32min\u001b[0m \u001b[0mrange\u001b[0m\u001b[1;33m(\u001b[0m\u001b[0mlen\u001b[0m\u001b[1;33m(\u001b[0m\u001b[0mx\u001b[0m\u001b[1;33m)\u001b[0m \u001b[1;33m-\u001b[0m \u001b[0mk\u001b[0m \u001b[1;33m+\u001b[0m \u001b[1;36m1\u001b[0m\u001b[1;33m)\u001b[0m\u001b[1;33m:\u001b[0m\u001b[1;33m\u001b[0m\u001b[1;33m\u001b[0m\u001b[0m\n\u001b[1;32m----> 9\u001b[1;33m     \u001b[0mcurrent_sum\u001b[0m \u001b[1;33m=\u001b[0m \u001b[0msum\u001b[0m\u001b[1;33m(\u001b[0m\u001b[0mx\u001b[0m\u001b[1;33m[\u001b[0m\u001b[0mi\u001b[0m\u001b[1;33m:\u001b[0m\u001b[0mi\u001b[0m \u001b[1;33m+\u001b[0m \u001b[0mk\u001b[0m\u001b[1;33m]\u001b[0m\u001b[1;33m)\u001b[0m\u001b[1;33m\u001b[0m\u001b[1;33m\u001b[0m\u001b[0m\n\u001b[0m\u001b[0;32m     10\u001b[0m     \u001b[1;32mif\u001b[0m \u001b[0mcurrent_sum\u001b[0m \u001b[1;33m>\u001b[0m \u001b[0mmax_sum\u001b[0m\u001b[1;33m:\u001b[0m\u001b[1;33m\u001b[0m\u001b[1;33m\u001b[0m\u001b[0m\n\u001b[0;32m     11\u001b[0m         \u001b[0mmax_sum\u001b[0m \u001b[1;33m=\u001b[0m \u001b[0mcurrent_sum\u001b[0m\u001b[1;33m\u001b[0m\u001b[1;33m\u001b[0m\u001b[0m\n",
      "\u001b[1;31mTypeError\u001b[0m: 'int' object is not callable"
     ]
    }
   ],
   "source": [
    "x = [1, 7, 4, -8, 5, 4, 2, 1, 7, 9, 2, 1, 9]\n",
    "k = 3\n",
    "\n",
    "# Initialize the maximum sum to be very small\n",
    "max_sum = float('-inf')\n",
    "\n",
    "# Iterate over the list to find the maximum sum of k consecutive elements\n",
    "for i in range(len(x) - k + 1):\n",
    "    current_sum = sum(x[i:i + k])\n",
    "    if current_sum > max_sum:\n",
    "        max_sum = current_sum\n",
    "\n",
    "print(f\"The maximum sum of {k} consecutive elements is: {max_sum}\")\n"
   ]
  },
  {
   "cell_type": "code",
   "execution_count": 37,
   "id": "3e3dcec5",
   "metadata": {},
   "outputs": [],
   "source": [
    "\n",
    "k= 3 \n",
    "\n"
   ]
  },
  {
   "cell_type": "code",
   "execution_count": 42,
   "id": "c8a49c30",
   "metadata": {},
   "outputs": [],
   "source": [
    "x=[1,7,4,-8,5,4,2,1,7,9,2,1,9] \n",
    "# Sort by using Merg sort.\n",
    "length=len(x)\n",
    "start=0\n",
    "end=length\n",
    "\n",
    "def mort_sort(x,start,end):\n",
    "    mid=(end+start)/2\n",
    "    length=len(x)\n",
    "    \n",
    "    if length > 2:\n",
    "        \n",
    "        while(start>end):\n",
    "            left_sort=x[start:mid]\n",
    "            print(left_sort)\n",
    "            print()\n",
    "            right_sort=x[mid:]\n",
    "            print(right_sort)\n",
    "            print()\n",
    "mort_sort(x,start,end)\n"
   ]
  },
  {
   "cell_type": "code",
   "execution_count": 2,
   "id": "ee372273",
   "metadata": {},
   "outputs": [
    {
     "data": {
      "text/plain": [
       "'Algoritham of sorting List.\\n1.bubble sort \\n2.Selection sort \\n3.Insertion sort \\n3.Quick sort \\n4.Marg sort\\n5.Redix sort\\n6.Count sort \\n7.Topilogical sort :- Algorithm is work in graph. \\n\\n'"
      ]
     },
     "execution_count": 2,
     "metadata": {},
     "output_type": "execute_result"
    }
   ],
   "source": [
    "\"\"\"Algoritham of sorting List.\n",
    "1.bubble sort \n",
    "2.Selection sort \n",
    "3.Insertion sort \n",
    "3.Quick sort \n",
    "4.Marg sort\n",
    "5.Redix sort\n",
    "6.Count sort \n",
    "7.Topilogical sort :- Algorithm is work in graph.\n",
    "  \n",
    "  \n",
    "Some following technique use in Array question .\n",
    "1.prefix\n",
    "2.suffix\n",
    "3.sliding window cancept\n",
    "4.subarray cancept\n",
    "\n",
    "\n",
    "\"\"\""
   ]
  },
  {
   "cell_type": "code",
   "execution_count": 12,
   "id": "dd74eff9",
   "metadata": {},
   "outputs": [
    {
     "name": "stdout",
     "output_type": "stream",
     "text": [
      "Enter the year:- 1600\n",
      "this leap year:-\n"
     ]
    }
   ],
   "source": [
    "# write a program to find leep year \n",
    "#if (( yr%400 == 0) or (( yr%4 == 0 ) and ( yr%100 != 0))):\n",
    "def leap_year(n):\n",
    "    if n%400==0 or (n%4 and n%100!=0):\n",
    "        print(\"this leap year:-\")\n",
    "    else:\n",
    "        print(\"this not leap.\")\n",
    "year=int(input(\"Enter the year:- \"))\n",
    "leap_year(year)\n",
    "        "
   ]
  },
  {
   "cell_type": "code",
   "execution_count": 14,
   "id": "c9388a98",
   "metadata": {},
   "outputs": [
    {
     "name": "stdout",
     "output_type": "stream",
     "text": [
      "number is not prime:\n",
      "number is prime\n",
      "number is prime\n",
      "number is not prime:\n",
      "number is prime\n",
      "number is prime\n",
      "number is prime\n",
      "number is prime\n"
     ]
    }
   ],
   "source": [
    "# write program check number is prime \n",
    "# write program frist 100 prime number \n",
    "# write program find all prime number between x to y \n",
    "\n",
    "# what is prime number :- a number which is divide by by itself and one that number is called prime number :\n",
    "\n",
    "for i in range (2,10):\n",
    "    if 10%i!=0:\n",
    "        print(\"number is prime\")\n",
    "    else:\n",
    "        print(\"number is not prime:\")\n"
   ]
  },
  {
   "cell_type": "code",
   "execution_count": 5,
   "id": "aed08f34",
   "metadata": {},
   "outputs": [
    {
     "name": "stdout",
     "output_type": "stream",
     "text": [
      "1\n",
      "11\n",
      "1\n",
      "1\n"
     ]
    }
   ],
   "source": [
    "n=11\n",
    "p=n%10\n",
    "print(p)\n",
    "print(n)\n",
    "n=n//10\n",
    "print(n)\n",
    "p=n%10\n",
    "print(p)"
   ]
  },
  {
   "cell_type": "code",
   "execution_count": null,
   "id": "af12fdad",
   "metadata": {},
   "outputs": [],
   "source": [
    "                                                                                                                                    def reverse_digit(n):\n",
    "                                                                                                                                        # Code here\n",
    "                                                                                                                                        sum=0\n",
    "                                                                                                                                        while(n>0):\n",
    "                                                                                                                                            remender=n%10\n",
    "                                                                                                                                            sum=0*10+remender\n",
    "                                                                                                                                            n=n//10\n",
    "                                                                                                                                        return sum\n"
   ]
  },
  {
   "cell_type": "code",
   "execution_count": null,
   "id": "4c05deea",
   "metadata": {},
   "outputs": [],
   "source": [
    "\tdef reverse_digit(self, n):\n",
    "\t\t# Code here\n",
    "        sum=0\n",
    "\t\twhile(n>0):\n",
    "\t\t    remender=n%10\n",
    "\t\t    sum=0*10+remender\n",
    "\t\t    n=n//10\n",
    "        return sum"
   ]
  },
  {
   "cell_type": "code",
   "execution_count": 20,
   "id": "507844c2",
   "metadata": {},
   "outputs": [
    {
     "data": {
      "text/plain": [
       "333"
      ]
     },
     "execution_count": 20,
     "metadata": {},
     "output_type": "execute_result"
    }
   ],
   "source": [
    "def reverse_digit(n):\n",
    "\t# Code here\n",
    "    sum=0\n",
    "    while(n> 0):\n",
    "        remender=n%10\n",
    "#         print(n)\n",
    "        sum=sum*10+remender\n",
    "        n=n//10\n",
    "#         print(\"sum= \",sum)\n",
    "#         print(n)\n",
    "    return sum\n",
    "reverse_digit(333)"
   ]
  },
  {
   "cell_type": "code",
   "execution_count": 13,
   "id": "fbf30c5c",
   "metadata": {},
   "outputs": [
    {
     "ename": "SyntaxError",
     "evalue": "expected ':' (Temp/ipykernel_28344/553216637.py, line 1)",
     "output_type": "error",
     "traceback": [
      "\u001b[1;36m  File \u001b[1;32m\"C:\\Users\\Ankul\\AppData\\Local\\Temp/ipykernel_28344/553216637.py\"\u001b[1;36m, line \u001b[1;32m1\u001b[0m\n\u001b[1;33m    def revese()\u001b[0m\n\u001b[1;37m                ^\u001b[0m\n\u001b[1;31mSyntaxError\u001b[0m\u001b[1;31m:\u001b[0m expected ':'\n"
     ]
    }
   ],
   "source": [
    "def revese()"
   ]
  },
  {
   "cell_type": "code",
   "execution_count": 25,
   "id": "cb01362f",
   "metadata": {},
   "outputs": [
    {
     "name": "stdout",
     "output_type": "stream",
     "text": [
      "0\n",
      "5\n",
      "None\n"
     ]
    }
   ],
   "source": [
    "def gcd (den1,den2):\n",
    "    while(den1>0 and den2>0):\n",
    "        if (den1>den2):\n",
    "            den1=den1%den2\n",
    "        else:\n",
    "            den2=den2%den1\n",
    "    print(den1)\n",
    "    print(den2)\n",
    "    \n",
    "            \n",
    "p=gcd(15,35)\n",
    "print(p)"
   ]
  },
  {
   "cell_type": "code",
   "execution_count": 27,
   "id": "65784e77",
   "metadata": {},
   "outputs": [
    {
     "ename": "IndentationError",
     "evalue": "expected an indented block after 'while' statement on line 3 (Temp/ipykernel_28344/4206690753.py, line 4)",
     "output_type": "error",
     "traceback": [
      "\u001b[1;36m  File \u001b[1;32m\"C:\\Users\\Ankul\\AppData\\Local\\Temp/ipykernel_28344/4206690753.py\"\u001b[1;36m, line \u001b[1;32m4\u001b[0m\n\u001b[1;33m    \u001b[0m\n\u001b[1;37m    ^\u001b[0m\n\u001b[1;31mIndentationError\u001b[0m\u001b[1;31m:\u001b[0m expected an indented block after 'while' statement on line 3\n"
     ]
    }
   ],
   "source": [
    "def gcd(den1,den2):\n",
    "    p=min(den1,den2)\n",
    "    while(p):\n",
    "        \n",
    "        "
   ]
  },
  {
   "cell_type": "code",
   "execution_count": 7,
   "id": "be78703d",
   "metadata": {},
   "outputs": [],
   "source": [
    "def reverse(n):\n",
    "    sum=0\n",
    "    while (n>0):\n",
    "        remender=n%10\n",
    "        sum=sum*10+remender\n",
    "        n=n//10\n",
    "    return sum\n",
    "def PalinArray(arr):\n",
    "    # Code here\n",
    "    for i in range (len(arr)):\n",
    "        p=arr[i]\n",
    "        re=reverse(p)\n",
    "        #print (re)\n",
    "        \n",
    "        if p==re:\n",
    "            pass\n",
    "        else:\n",
    "            return false\n",
    "        \n",
    "        \n",
    "list1=[111, 222, 333, 444, 555]\n",
    "\n",
    "PalinArray(list1)"
   ]
  },
  {
   "cell_type": "code",
   "execution_count": 1,
   "id": "9ffcfd80",
   "metadata": {},
   "outputs": [
    {
     "name": "stdout",
     "output_type": "stream",
     "text": [
      "651\n"
     ]
    }
   ],
   "source": [
    "def reverse8(n):\n",
    "    sum=0\n",
    "    while (n>0):\n",
    "        remender=n%10\n",
    "        sum=sum*10+remender\n",
    "        n=n//10\n",
    "    return sum\n",
    "\n",
    "n=156\n",
    "\n",
    "p=reverse8(n)\n",
    "print(p)"
   ]
  },
  {
   "cell_type": "code",
   "execution_count": 5,
   "id": "e7c9bc8a",
   "metadata": {},
   "outputs": [
    {
     "ename": "SyntaxError",
     "evalue": "invalid syntax. Maybe you meant '==' or ':=' instead of '='? (Temp/ipykernel_16028/1179938501.py, line 15)",
     "output_type": "error",
     "traceback": [
      "\u001b[1;36m  File \u001b[1;32m\"C:\\Users\\Ankul\\AppData\\Local\\Temp/ipykernel_16028/1179938501.py\"\u001b[1;36m, line \u001b[1;32m15\u001b[0m\n\u001b[1;33m    if p=re:\u001b[0m\n\u001b[1;37m       ^\u001b[0m\n\u001b[1;31mSyntaxError\u001b[0m\u001b[1;31m:\u001b[0m invalid syntax. Maybe you meant '==' or ':=' instead of '='?\n"
     ]
    }
   ],
   "source": [
    "def reverse(n):\n",
    "    sum=0\n",
    "    while (n>0):\n",
    "        remender=n%10\n",
    "        sum=sum*10+remender\n",
    "        n=n//10\n",
    "    return sum\n",
    "def PalinArray(arr):\n",
    "    # Code here\n",
    "    for i in range (len(arr)):\n",
    "        p=arr[i]\n",
    "        re=reverse(p)\n",
    "        print (re)\n",
    "        \n",
    "        if p=re:\n",
    "            pass\n",
    "        else:\n",
    "            return false\n",
    "        \n",
    "list1=[111, 222, 333, 444, 555]\n",
    "\n",
    "PalinArray(list1)"
   ]
  },
  {
   "cell_type": "code",
   "execution_count": 6,
   "id": "05bfd311",
   "metadata": {},
   "outputs": [
    {
     "ename": "SyntaxError",
     "evalue": "invalid syntax. Perhaps you forgot a comma? (Temp/ipykernel_16028/3019229438.py, line 1)",
     "output_type": "error",
     "traceback": [
      "\u001b[1;36m  File \u001b[1;32m\"C:\\Users\\Ankul\\AppData\\Local\\Temp/ipykernel_16028/3019229438.py\"\u001b[1;36m, line \u001b[1;32m1\u001b[0m\n\u001b[1;33m    Given an array arr[] of positive integers. Return true if all the array elements are palindrome otherwise, return false.\u001b[0m\n\u001b[1;37m                      ^\u001b[0m\n\u001b[1;31mSyntaxError\u001b[0m\u001b[1;31m:\u001b[0m invalid syntax. Perhaps you forgot a comma?\n"
     ]
    }
   ],
   "source": []
  },
  {
   "cell_type": "code",
   "execution_count": 25,
   "id": "7b308b78",
   "metadata": {},
   "outputs": [
    {
     "name": "stdout",
     "output_type": "stream",
     "text": [
      "0 1 1 2 3 5 8 13 "
     ]
    }
   ],
   "source": [
    "def printFibb(n):\n",
    "        # your code here\n",
    "        \n",
    "        a=0\n",
    "        b=1 \n",
    "        print(a,end=\" \")\n",
    "        while(n):\n",
    "            num=a+b\n",
    "            b=a\n",
    "            a=num\n",
    "            print(num,end=\" \")\n",
    "            n=n-1\n",
    "            \n",
    "n=7\n",
    "printFibb(n)"
   ]
  },
  {
   "cell_type": "code",
   "execution_count": 27,
   "id": "8d40eeb8",
   "metadata": {},
   "outputs": [
    {
     "ename": "IndentationError",
     "evalue": "unindent does not match any outer indentation level (<tokenize>, line 6)",
     "output_type": "error",
     "traceback": [
      "\u001b[1;36m  File \u001b[1;32m\"<tokenize>\"\u001b[1;36m, line \u001b[1;32m6\u001b[0m\n\u001b[1;33m    num=a+b\u001b[0m\n\u001b[1;37m    ^\u001b[0m\n\u001b[1;31mIndentationError\u001b[0m\u001b[1;31m:\u001b[0m unindent does not match any outer indentation level\n"
     ]
    }
   ],
   "source": [
    "a=0\n",
    "b=1\n",
    "\n",
    "print(a,end=\" \")\n",
    "while(n-1):\n",
    "    num=a+b\n",
    "    b=a\n",
    "    a=num\n",
    "    print(num,end=\" \")\n",
    "    n=n-1"
   ]
  },
  {
   "cell_type": "code",
   "execution_count": null,
   "id": "39c84aa7",
   "metadata": {},
   "outputs": [],
   "source": []
  }
 ],
 "metadata": {
  "kernelspec": {
   "display_name": "Python 3 (ipykernel)",
   "language": "python",
   "name": "python3"
  },
  "language_info": {
   "codemirror_mode": {
    "name": "ipython",
    "version": 3
   },
   "file_extension": ".py",
   "mimetype": "text/x-python",
   "name": "python",
   "nbconvert_exporter": "python",
   "pygments_lexer": "ipython3",
   "version": "3.10.0"
  }
 },
 "nbformat": 4,
 "nbformat_minor": 5
}
