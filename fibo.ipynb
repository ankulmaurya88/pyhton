{
 "cells": [
  {
   "cell_type": "code",
   "execution_count": 8,
   "metadata": {},
   "outputs": [
    {
     "name": "stdout",
     "output_type": "stream",
     "text": [
      "[0, 1, 1, 2, 3, 5, 8, 13]\n"
     ]
    }
   ],
   "source": [
    "def fibo(n):\n",
    "    list1=[]\n",
    "    if n==0:\n",
    "        return []\n",
    "    if n==1:\n",
    "        return [0]\n",
    "    a,b=0,1\n",
    "    list1=[0,1]\n",
    "\n",
    "    count=2\n",
    "    while len(list1) < n:\n",
    "        num=a+b\n",
    "        list1.append(num)\n",
    "        a=b\n",
    "        b=num\n",
    "        \n",
    "        count +=1\n",
    "\n",
    "    return list1\n",
    "\n",
    "\n",
    "\n",
    "\n",
    "print(fibo(8))\n"
   ]
  },
  {
   "cell_type": "code",
   "execution_count": null,
   "metadata": {},
   "outputs": [],
   "source": [
    "while count < n:\n",
    "        num = a + b  # Correct Fibonacci calculation\n",
    "        list1.append(num)\n",
    "        a, b = b, num  # Update variables\n",
    "        count += 1"
   ]
  }
 ],
 "metadata": {
  "kernelspec": {
   "display_name": "Python 3",
   "language": "python",
   "name": "python3"
  },
  "language_info": {
   "codemirror_mode": {
    "name": "ipython",
    "version": 3
   },
   "file_extension": ".py",
   "mimetype": "text/x-python",
   "name": "python",
   "nbconvert_exporter": "python",
   "pygments_lexer": "ipython3",
   "version": "3.9.5"
  }
 },
 "nbformat": 4,
 "nbformat_minor": 2
}
