{
 "cells": [
  {
   "cell_type": "code",
   "execution_count": 1,
   "id": "9bd4148f",
   "metadata": {},
   "outputs": [
    {
     "name": "stdout",
     "output_type": "stream",
     "text": [
      "35\n"
     ]
    }
   ],
   "source": [
    "import keyword\n",
    "print(len(keyword.kwlist))"
   ]
  },
  {
   "cell_type": "code",
   "execution_count": 2,
   "id": "f2b647aa",
   "metadata": {},
   "outputs": [
    {
     "name": "stdout",
     "output_type": "stream",
     "text": [
      "['False', 'None', 'True', 'and', 'as', 'assert', 'async', 'await', 'break', 'class', 'continue', 'def', 'del', 'elif', 'else', 'except', 'finally', 'for', 'from', 'global', 'if', 'import', 'in', 'is', 'lambda', 'nonlocal', 'not', 'or', 'pass', 'raise', 'return', 'try', 'while', 'with', 'yield']\n"
     ]
    }
   ],
   "source": [
    "print(keyword.kwlist)"
   ]
  },
  {
   "cell_type": "code",
   "execution_count": 9,
   "id": "963dcb84",
   "metadata": {},
   "outputs": [
    {
     "name": "stdout",
     "output_type": "stream",
     "text": [
      "2.0\n"
     ]
    }
   ],
   "source": [
    "def add(x,y):\n",
    "    return (x+y)\n",
    "def subract(x,y):\n",
    "    return (x-y)\n",
    "def multiply(x,y):\n",
    "    return (x*y)\n",
    "def divide(x,y):\n",
    "    return (x/y)\n",
    "\n",
    "\n",
    "num_1=20\n",
    "num_2=10\n",
    "\n",
    "add_result=add(num_1,num_2)\n",
    "sub_result=subract(num_1,num_2)\n",
    "mul_result=multiply(num_1,num_2)\n",
    "div_result=divide(num_1,num_2)\n",
    "print(div_result)\n",
    "    "
   ]
  },
  {
   "cell_type": "code",
   "execution_count": 5,
   "id": "0213682d",
   "metadata": {},
   "outputs": [],
   "source": [
    "# logging is module which help  us to track the log infomration."
   ]
  },
  {
   "cell_type": "code",
   "execution_count": null,
   "id": "8ebddf68",
   "metadata": {},
   "outputs": [],
   "source": []
  },
  {
   "cell_type": "code",
   "execution_count": null,
   "id": "abfa0544",
   "metadata": {},
   "outputs": [],
   "source": [
    "# log critical part of system documetoin about runtime status of application "
   ]
  },
  {
   "cell_type": "code",
   "execution_count": 14,
   "id": "e2c02aa2",
   "metadata": {},
   "outputs": [],
   "source": [
    "import logging"
   ]
  },
  {
   "cell_type": "code",
   "execution_count": 18,
   "id": "a12b00b8",
   "metadata": {},
   "outputs": [],
   "source": [
    "import logging\n",
    "logging.basicConfig(level=logging.DEBUG)\n",
    "\n",
    "def add(x,y):\n",
    "    return (x+y)\n",
    "def subract(x,y):\n",
    "    return (x-y)\n",
    "def multiply(x,y):\n",
    "    return (x*y)\n",
    "def divide(x,y):\n",
    "    return (x/y)\n",
    "\n",
    "\n",
    "num_1=20\n",
    "num_2=10\n",
    "\n",
    "add_result=add(num_1,num_2)\n",
    "logging.debug(add_result)\n",
    "sub_result=subract(num_1,num_2)\n",
    "logging.debug(sub_result)\n",
    "mul_result=multiply(num_1,num_2)\n",
    "logging.debug(mul_result)\n",
    "div_result=divide(num_1,num_2)\n",
    "logging.debug(div_result)\n",
    "    "
   ]
  },
  {
   "cell_type": "code",
   "execution_count": 10,
   "id": "cfaf74bf",
   "metadata": {},
   "outputs": [],
   "source": [
    "import logging"
   ]
  },
  {
   "cell_type": "code",
   "execution_count": null,
   "id": "ac682419",
   "metadata": {},
   "outputs": [],
   "source": []
  },
  {
   "cell_type": "code",
   "execution_count": 11,
   "id": "fc1a7792",
   "metadata": {},
   "outputs": [],
   "source": [
    "logging.info(\"this is info\")"
   ]
  },
  {
   "cell_type": "code",
   "execution_count": 19,
   "id": "4199c68a",
   "metadata": {},
   "outputs": [],
   "source": [
    "import logging\n",
    "logging.basicConfig(level=logging.DEBUG)\n",
    "\n",
    "def add(x,y):\n",
    "    return (x+y)\n",
    "def subract(x,y):\n",
    "    return (x-y)\n",
    "def multiply(x,y):\n",
    "    return (x*y)\n",
    "def divide(x,y):\n",
    "    return (x/y)\n",
    "\n",
    "\n",
    "num_1=20\n",
    "num_2=10\n",
    "\n",
    "add_result=add(num_1,num_2)\n",
    "logging.debug(add_result)\n",
    "sub_result=subract(num_1,num_2)\n",
    "logging.debug(sub_result)\n",
    "mul_result=multiply(num_1,num_2)\n",
    "logging.debug(mul_result)\n",
    "div_result=divide(num_1,num_2)\n",
    "logging.debug(div_result)\n",
    "    "
   ]
  },
  {
   "cell_type": "code",
   "execution_count": 14,
   "id": "22d586f2",
   "metadata": {},
   "outputs": [],
   "source": [
    "import logging\n",
    "logging.basicConfig(filename='test1.log',level=logging.INFO)\n",
    "\n",
    "def add(x,y):\n",
    "    return (x+y)\n",
    "def subract(x,y):\n",
    "    return (x-y)\n",
    "def multiply(x,y):\n",
    "    return (x*y)\n",
    "def divide(x,y):\n",
    "    return (x/y)\n",
    "\n",
    "\n",
    "num_1=20\n",
    "num_2=10\n",
    "\n",
    "add_result=add(num_1,num_2)\n",
    "logging.debug(add_result)\n",
    "sub_result=subract(num_1,num_2)\n",
    "logging.info(sub_result)\n",
    "mul_result=multiply(num_1,num_2)\n",
    "logging.warning(mul_result)\n",
    "div_result=divide(num_1,num_2)\n",
    "logging.critical(div_result)\n",
    "f=open(\"test1.log\",\"r\")  "
   ]
  },
  {
   "cell_type": "code",
   "execution_count": 4,
   "id": "07e70730",
   "metadata": {},
   "outputs": [],
   "source": [
    "def namecheck(name):\n",
    "    if len(name)<2:\n",
    "        print(\"checking for name length\")\n",
    "        return 'Invalid name'\n",
    "    elif name.isspace():\n",
    "        print(\"checking for name has space\")\n",
    "        return 'Invalid name '\n",
    "    elif name.isalpha():\n",
    "        print('checking for name is alphabet')\n",
    "        return \"valid name\"\n",
    "    elif name.replace('','').isalpha():\n",
    "        print('checking for ful full name ')\n",
    "        return 'name is valid'\n",
    "    else:\n",
    "        print(\"Falied all checks\")\n",
    "        return 'invalid name'\n",
    "    "
   ]
  },
  {
   "cell_type": "code",
   "execution_count": 6,
   "id": "78bc5b4a",
   "metadata": {},
   "outputs": [
    {
     "name": "stdout",
     "output_type": "stream",
     "text": [
      "checking for name is alphabet\n",
      "valid name\n"
     ]
    }
   ],
   "source": [
    "print(namecheck('imran'))"
   ]
  },
  {
   "cell_type": "code",
   "execution_count": 7,
   "id": "f90c5300",
   "metadata": {},
   "outputs": [
    {
     "name": "stdout",
     "output_type": "stream",
     "text": [
      "Falied all checks\n",
      "invalid name\n"
     ]
    }
   ],
   "source": [
    "print(namecheck('sagar raju'))"
   ]
  },
  {
   "cell_type": "code",
   "execution_count": 8,
   "id": "51783713",
   "metadata": {},
   "outputs": [
    {
     "name": "stdout",
     "output_type": "stream",
     "text": [
      "Falied all checks\n",
      "invalid name\n"
     ]
    }
   ],
   "source": [
    "print(namecheck('raju1231'))"
   ]
  },
  {
   "cell_type": "code",
   "execution_count": null,
   "id": "0d4c55ce",
   "metadata": {},
   "outputs": [],
   "source": [
    "# create logger in our code \n",
    "# create one function which can take any number of inputs of aruments and will  return sum\n",
    "# Capture user input in log file \n",
    "# read a log file from python code and show it in console  "
   ]
  },
  {
   "cell_type": "code",
   "execution_count": 12,
   "id": "abb76eec",
   "metadata": {},
   "outputs": [],
   "source": [
    "import logging\n",
    "logging.basicConfig(filename='test667.log',level=logging.DEBUG)\n",
    "sum=[]\n",
    "def sum1(**arg):\n",
    "    sum=+append(int(input(\"enter the number: \")))\n",
    "    logging.debug(sum)\n",
    "    sum=sum+0\n",
    "    return sum\n",
    "    \n",
    "    "
   ]
  },
  {
   "cell_type": "code",
   "execution_count": null,
   "id": "e810c627",
   "metadata": {},
   "outputs": [],
   "source": []
  }
 ],
 "metadata": {
  "kernelspec": {
   "display_name": "Python 3 (ipykernel)",
   "language": "python",
   "name": "python3"
  },
  "language_info": {
   "codemirror_mode": {
    "name": "ipython",
    "version": 3
   },
   "file_extension": ".py",
   "mimetype": "text/x-python",
   "name": "python",
   "nbconvert_exporter": "python",
   "pygments_lexer": "ipython3",
   "version": "3.10.0"
  }
 },
 "nbformat": 4,
 "nbformat_minor": 5
}
