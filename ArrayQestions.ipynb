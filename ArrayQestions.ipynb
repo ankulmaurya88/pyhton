{
 "cells": [
  {
   "cell_type": "code",
   "execution_count": 1,
   "id": "a2a0c60e",
   "metadata": {},
   "outputs": [
    {
     "name": "stdout",
     "output_type": "stream",
     "text": [
      "Enter the number of test cases: 3\n",
      "123\n",
      "321\n",
      "49078\n",
      "87094\n",
      "6754\n",
      "4576\n"
     ]
    }
   ],
   "source": [
    "# Function to reverse the digits of a number\n",
    "def reverse_number(n):\n",
    "    # Convert the number to string, reverse the string, then convert back to integer\n",
    "    sum_1=0\n",
    "    while (n>0):\n",
    "        remender=n%10\n",
    "        sum_1=sum_1*10+remender\n",
    "        n=n//10\n",
    "    return sum_1\n",
    "\n",
    "# Main function to handle multiple test cases\n",
    "def main():\n",
    "    # Read the number of test cases\n",
    "    T = int(input(\"Enter the number of test cases: \"))\n",
    "    \n",
    "    # Loop over each test case\n",
    "    for _ in range(T):\n",
    "        # Read the integer N\n",
    "        N = int(input())\n",
    "        \n",
    "        # Print the reversed number\n",
    "        print(reverse_number(N))\n",
    "\n",
    "# Run the main function\n",
    "if __name__ == \"__main__\":\n",
    "    main()\n"
   ]
  },
  {
   "cell_type": "code",
   "execution_count": 19,
   "id": "45d38e18",
   "metadata": {},
   "outputs": [
    {
     "data": {
      "text/plain": [
       "[17, 5, 2]"
      ]
     },
     "execution_count": 19,
     "metadata": {},
     "output_type": "execute_result"
    }
   ],
   "source": [
    "def leaders(n, arr):\n",
    "    #Code here\n",
    "    leader=[]\n",
    "    temp=arr[-1]\n",
    "    leader.append(temp)\n",
    "    \n",
    "    for i in range (n-2,-1,-1):\n",
    "        p=arr[i]\n",
    "        if p >= temp:\n",
    "            leader.append(p)\n",
    "            temp=p\n",
    "    return leader[::-1]\n",
    "\n",
    "n , arr = 6, [16,17,4,3,5,2]\n",
    "\n",
    "leaders(n,arr)"
   ]
  },
  {
   "cell_type": "code",
   "execution_count": null,
   "id": "bf68fc86",
   "metadata": {},
   "outputs": [],
   "source": [
    "def leaders(n, arr):\n",
    "    # Initialize an empty list to store leaders\n",
    "    leader = []\n",
    "    \n",
    "    # Start with the last element as a leader\n",
    "    temp = arr[-1]\n",
    "    leader.append(temp)\n",
    "    \n",
    "    # Traverse the array from right to left\n",
    "    for i in range(n-2, -1, -1):\n",
    "        p = arr[i]\n",
    "        if p >= temp:\n",
    "            leader.append(p)\n",
    "            temp = p\n",
    "    \n",
    "    # Return leaders in the original order\n",
    "    return leader[::-1]\n",
    "\n",
    "n, arr = 6, [16, 17, 4, 3, 5, 2]\n",
    "\n",
    "print(leaders(n, arr))\n"
   ]
  },
  {
   "cell_type": "code",
   "execution_count": 29,
   "id": "47219eac",
   "metadata": {},
   "outputs": [
    {
     "data": {
      "text/plain": [
       "[3, 2]"
      ]
     },
     "execution_count": 29,
     "metadata": {},
     "output_type": "execute_result"
    }
   ],
   "source": [
    "from typing import List\n",
    "def duplicates(n : int, arr : List[int]) -> List[int]:\n",
    "    # code here\n",
    "    duplicate=[]\n",
    "    for i in range (n):\n",
    "        count=0\n",
    "        for j in range(n):\n",
    "            if arr[i]==arr[j]:\n",
    "                count+=1\n",
    "        if count>1:\n",
    "            if arr[i] not in duplicate:\n",
    "                    duplicate.append(arr[i])\n",
    "    size=len(duplicate)\n",
    "    if size==0:\n",
    "        return -1\n",
    "    else:\n",
    "        return duplicate\n",
    "    \n",
    "    \n",
    "n ,arr= 6, [0,3,3,1,2,2]\n",
    "\n",
    "duplicates(n,arr)\n"
   ]
  },
  {
   "cell_type": "code",
   "execution_count": 47,
   "id": "686e25bd",
   "metadata": {},
   "outputs": [
    {
     "name": "stdout",
     "output_type": "stream",
     "text": [
      "(2, 4),(2, 6),(2, 8),(2, 10),(4, 6),(4, 8),(4, 10),(6, 8),(6, 10),(8, 10),"
     ]
    }
   ],
   "source": [
    "arr=[2,4,6,8,10]\n",
    "\n",
    "\n",
    "for i in range(len(arr)-1):\n",
    "    curr=arr[i]\n",
    "    for j in range(i+1,len(arr)):\n",
    "        print(\"({}, {})\".format(curr, arr[j]),end=\",\")\n",
    "\n",
    "\n",
    "        \n",
    "        "
   ]
  },
  {
   "cell_type": "code",
   "execution_count": 30,
   "id": "43f2a4ea",
   "metadata": {},
   "outputs": [
    {
     "name": "stdout",
     "output_type": "stream",
     "text": [
      "2 \n",
      "2 4 \n",
      "2 4 6 \n",
      "2 4 6 8 \n",
      "2 4 6 8 10 \n",
      "\n",
      "4 \n",
      "4 6 \n",
      "4 6 8 \n",
      "4 6 8 10 \n",
      "\n",
      "6 \n",
      "6 8 \n",
      "6 8 10 \n",
      "\n",
      "8 \n",
      "8 10 \n",
      "\n",
      "10 \n",
      "\n"
     ]
    }
   ],
   "source": [
    "arr=[2,4,6,8,10]\n",
    "s=24\n",
    "n=len(arr)\n",
    "for i in range(n):\n",
    "    start=i\n",
    "    \n",
    "    for j in range(i+1,n+1):\n",
    "        end=j\n",
    "\n",
    "        for k in range(start,end):\n",
    "            print(\"{}\".format(arr[k]),end=\" \")\n",
    "        print()\n",
    "    print() \n",
    "    \n",
    "    "
   ]
  },
  {
   "cell_type": "code",
   "execution_count": 9,
   "id": "38327601",
   "metadata": {},
   "outputs": [
    {
     "data": {
      "text/plain": [
       "['',\n",
       " 'A',\n",
       " 'AB',\n",
       " 'ABC',\n",
       " 'ABCD',\n",
       " 'ABCDG',\n",
       " 'ABCDGH',\n",
       " '',\n",
       " 'B',\n",
       " 'BC',\n",
       " 'BCD',\n",
       " 'BCDG',\n",
       " 'BCDGH',\n",
       " '',\n",
       " 'C',\n",
       " 'CD',\n",
       " 'CDG',\n",
       " 'CDGH',\n",
       " '',\n",
       " 'D',\n",
       " 'DG',\n",
       " 'DGH',\n",
       " '',\n",
       " 'G',\n",
       " 'GH',\n",
       " '',\n",
       " 'H']"
      ]
     },
     "execution_count": 9,
     "metadata": {},
     "output_type": "execute_result"
    }
   ],
   "source": [
    "s=\"ABCDGH\"\n",
    "def Substring(s):\n",
    "    l=[]\n",
    "    for i in range (len(s)):\n",
    "        for j in range (i,len(s)+1):\n",
    "            l.append(s[i:j])\n",
    "    return l\n",
    "Substring(s)"
   ]
  },
  {
   "cell_type": "code",
   "execution_count": 11,
   "id": "ea7fd400",
   "metadata": {},
   "outputs": [
    {
     "name": "stdout",
     "output_type": "stream",
     "text": [
      "[0, 0, 0, 0, 0, 0, 0]\n",
      "[0, 0, 0, 0, 0, 0, 0]\n",
      "[0, 0, 0, 0, 0, 0, 0]\n",
      "[0, 0, 0, 0, 0, 0, 0]\n",
      "[0, 0, 0, 0, 0, 0, 0]\n",
      "[0, 0, 0, 0, 0, 0, 0]\n",
      "[0, 0, 0, 0, 0, 0, 0]\n"
     ]
    }
   ],
   "source": [
    "str1 = \"ABCDGH\"\n",
    "str2 = \"ACDGHR\"\n",
    "\n",
    "len1=len(str1)\n",
    "len2=len(str2)\n",
    "\n",
    "dp=[[0]*(len2+1) for _ in range(len1+1)]\n",
    "\n",
    "for row in dp:\n",
    "    print(row)"
   ]
  },
  {
   "cell_type": "code",
   "execution_count": 37,
   "id": "e2023e96",
   "metadata": {},
   "outputs": [
    {
     "name": "stdout",
     "output_type": "stream",
     "text": [
      "17\n",
      "4\n",
      "3\n",
      "5\n",
      "2\n",
      "\n",
      "17\n"
     ]
    }
   ],
   "source": [
    "arr=[16,17,4,3,5,2]\n",
    "n=len(arr)\n",
    "n_max=arr[0]\n",
    "for i in range(1,n):\n",
    "    print(arr[i])\n",
    "    if n_max<arr[i]:\n",
    "        n_max=arr[i]\n",
    "print()\n",
    "print(n_max)\n",
    "\n",
    "\n",
    "\n"
   ]
  },
  {
   "cell_type": "code",
   "execution_count": 39,
   "id": "39abcad8",
   "metadata": {},
   "outputs": [
    {
     "name": "stdout",
     "output_type": "stream",
     "text": [
      "\n",
      "2\n"
     ]
    }
   ],
   "source": [
    "arr=[16,17,4,3,5,2]\n",
    "n=len(arr)\n",
    "n_min=arr[0]\n",
    "for i in range(1,n):\n",
    "    #print(arr[i])\n",
    "    if n_max>arr[i]:\n",
    "        n_min=arr[i]\n",
    "print()\n",
    "print(n_min)"
   ]
  },
  {
   "cell_type": "code",
   "execution_count": 57,
   "id": "2f1f467f",
   "metadata": {},
   "outputs": [
    {
     "name": "stdout",
     "output_type": "stream",
     "text": [
      "1\n"
     ]
    },
    {
     "ename": "TypeError",
     "evalue": "int() argument must be a string, a bytes-like object or a real number, not 'tuple'",
     "output_type": "error",
     "traceback": [
      "\u001b[1;31m---------------------------------------------------------------------------\u001b[0m",
      "\u001b[1;31mTypeError\u001b[0m                                 Traceback (most recent call last)",
      "\u001b[1;32m~\\AppData\\Local\\Temp/ipykernel_24888/734620399.py\u001b[0m in \u001b[0;36m<module>\u001b[1;34m\u001b[0m\n\u001b[0;32m     26\u001b[0m \u001b[0marr\u001b[0m \u001b[1;33m=\u001b[0m \u001b[1;33m[\u001b[0m\u001b[1;36m1\u001b[0m\u001b[1;33m,\u001b[0m \u001b[1;36m5\u001b[0m\u001b[1;33m,\u001b[0m \u001b[1;36m8\u001b[0m\u001b[1;33m,\u001b[0m \u001b[1;36m10\u001b[0m\u001b[1;33m]\u001b[0m\u001b[1;33m\u001b[0m\u001b[1;33m\u001b[0m\u001b[0m\n\u001b[0;32m     27\u001b[0m \u001b[1;33m\u001b[0m\u001b[0m\n\u001b[1;32m---> 28\u001b[1;33m \u001b[0mgetMinDiff\u001b[0m\u001b[1;33m(\u001b[0m\u001b[0marr\u001b[0m\u001b[1;33m,\u001b[0m\u001b[0mN\u001b[0m\u001b[1;33m,\u001b[0m\u001b[0mK\u001b[0m\u001b[1;33m)\u001b[0m\u001b[1;33m\u001b[0m\u001b[1;33m\u001b[0m\u001b[0m\n\u001b[0m",
      "\u001b[1;32m~\\AppData\\Local\\Temp/ipykernel_24888/734620399.py\u001b[0m in \u001b[0;36mgetMinDiff\u001b[1;34m(arr, n, k)\u001b[0m\n\u001b[0;32m     16\u001b[0m     \u001b[0mprint\u001b[0m\u001b[1;33m(\u001b[0m\u001b[0mn_min\u001b[0m\u001b[1;33m)\u001b[0m\u001b[1;33m\u001b[0m\u001b[1;33m\u001b[0m\u001b[0m\n\u001b[0;32m     17\u001b[0m \u001b[1;33m\u001b[0m\u001b[0m\n\u001b[1;32m---> 18\u001b[1;33m     \u001b[0mn_min\u001b[0m\u001b[1;33m=\u001b[0m\u001b[0mn_min\u001b[0m\u001b[1;33m+\u001b[0m \u001b[0mint\u001b[0m\u001b[1;33m(\u001b[0m\u001b[0mk\u001b[0m\u001b[1;33m)\u001b[0m\u001b[1;33m\u001b[0m\u001b[1;33m\u001b[0m\u001b[0m\n\u001b[0m\u001b[0;32m     19\u001b[0m \u001b[1;33m\u001b[0m\u001b[0m\n\u001b[0;32m     20\u001b[0m \u001b[1;33m\u001b[0m\u001b[0m\n",
      "\u001b[1;31mTypeError\u001b[0m: int() argument must be a string, a bytes-like object or a real number, not 'tuple'"
     ]
    }
   ],
   "source": [
    "def getMinDiff(arr, n, k):\n",
    "        # code here\n",
    "    n_max=arr[0]\n",
    "    for i in range(1,n):\n",
    "        if n_max<arr[i]:\n",
    "            n_max=arr[i]\n",
    "#     n_max=n_max-k\n",
    "#     print(type(k))\n",
    "    \n",
    "\n",
    "\n",
    "    n_min=arr[0]\n",
    "    for i in range(1,n):\n",
    "        if n_min>arr[i]:\n",
    "            n_min=arr[i]\n",
    "    print(n_min)\n",
    "\n",
    "    n_min=n_min+ int(k)\n",
    "    \n",
    "\n",
    "    return n_max-n_min \n",
    "\n",
    "\n",
    "K= 2, \n",
    "N = 4\n",
    "arr = [1, 5, 8, 10]\n",
    "\n",
    "getMinDiff(arr,N,K)"
   ]
  },
  {
   "cell_type": "code",
   "execution_count": 1,
   "id": "a2a68d4d",
   "metadata": {},
   "outputs": [
    {
     "name": "stdout",
     "output_type": "stream",
     "text": [
      "3\n"
     ]
    }
   ],
   "source": [
    "def digitsInFactorial(N):\n",
    "    # code here\n",
    "    if N==0:\n",
    "        return 1\n",
    "    fact=1\n",
    "    for i in range(1,N+1):\n",
    "        fact=fact*i\n",
    "\n",
    "    n=fact\n",
    "#     print(n)\n",
    "    count=0\n",
    "    while(n>0):\n",
    "        renmeder=n%10\n",
    "        count+=1\n",
    "        n=n//10\n",
    "        \n",
    "    return count\n",
    "\n",
    "print(digitsInFactorial(5))"
   ]
  },
  {
   "cell_type": "code",
   "execution_count": 2,
   "id": "2923c1e2",
   "metadata": {},
   "outputs": [
    {
     "name": "stdout",
     "output_type": "stream",
     "text": [
      "Hey!\n"
     ]
    }
   ],
   "source": [
    "def outerFunction(text): \n",
    " \n",
    "    def innerFunction(): \n",
    "        print(text) \n",
    " \n",
    "    # Note we are returning function\n",
    "    # WITHOUT parenthesis\n",
    "    return innerFunction  \n",
    " \n",
    "if __name__ == '__main__': \n",
    "    myFunction = outerFunction('Hey!') \n",
    "    myFunction() "
   ]
  },
  {
   "cell_type": "code",
   "execution_count": 3,
   "id": "77e2784d",
   "metadata": {},
   "outputs": [
    {
     "name": "stdout",
     "output_type": "stream",
     "text": [
      "Hey!\n"
     ]
    }
   ],
   "source": [
    "def outerFunction(text):\n",
    " \n",
    "    def innerFunction():\n",
    "        print(text)\n",
    " \n",
    "    innerFunction()\n",
    " \n",
    " \n",
    "if __name__ == '__main__':\n",
    "    outerFunction('Hey!')"
   ]
  },
  {
   "cell_type": "code",
   "execution_count": 10,
   "id": "c2eb0ee0",
   "metadata": {},
   "outputs": [
    {
     "name": "stdout",
     "output_type": "stream",
     "text": [
      "24->78->64->908->249->789->-64->908->"
     ]
    }
   ],
   "source": [
    "class Node:\n",
    "    def __init__(self, data):   # data -> value stored in node\n",
    "        self.data = data\n",
    "        self.next = None\n",
    "\n",
    "\n",
    "\n",
    "\n",
    "\n",
    "class Linkedlist:\n",
    "    def __init__(self):\n",
    "        self.head=None\n",
    "        self.tail=None \n",
    "        \n",
    "    def insert(self,value):\n",
    "        if self.head is None:\n",
    "            self.head=Node(value)\n",
    "            self.tail=self.head\n",
    "        else:\n",
    "            self.tail.next=Node(value)\n",
    "            self.tail=self.tail.next\n",
    "            \n",
    "def Printlist(head):\n",
    "    while head:\n",
    "        print(head.data,end='->')\n",
    "        head=head.next\n",
    "        \n",
    "node=Node('data')\n",
    "singly_linkedlist=Linkedlist()\n",
    "\n",
    "singly_linkedlist.insert(24)\n",
    "singly_linkedlist.insert(78)\n",
    "singly_linkedlist.insert(64)\n",
    "singly_linkedlist.insert(908)\n",
    "singly_linkedlist.insert(249)\n",
    "singly_linkedlist.insert(789)\n",
    "singly_linkedlist.insert(-64)\n",
    "singly_linkedlist.insert(908)\n",
    "Printlist(singly_linkedlist.head)\n",
    "        \n",
    "            \n",
    "    \n",
    "            \n",
    "            "
   ]
  },
  {
   "cell_type": "code",
   "execution_count": 15,
   "id": "c9c7d968",
   "metadata": {},
   "outputs": [],
   "source": [
    "class Node:\n",
    "    def __init__(self,data):\n",
    "        self.data=data\n",
    "        ref=None\n",
    "        \n",
    "class Slinkedlist:\n",
    "    def __init__(self):\n",
    "        self.head=None\n",
    "        #tail.head=None\n",
    "    \n",
    "#     def inset(self,value):\n",
    "#         if head is None:\n",
    "#             self.head = Node(value)\n",
    "#         else:\n",
    "            \n",
    "    def big_insert(self,value):\n",
    "        new_node=Node(value)\n",
    "        new_node.ref=self.head\n",
    "        self.head=new_node\n",
    "    def end_nesrt(self,vaule):\n",
    "        new_node=Node(value)\n",
    "        if self.head is None:\n",
    "            self.head=new_node\n",
    "        else:\n",
    "            n=self.head\n",
    "            while n.ref is not None:\n",
    "                n=n.ref\n",
    "            n.ref=new_node\n",
    "            \n",
    "    def afert_bet_insert(self,vaule,x):\n",
    "        new_node=Node(value)\n",
    "        if self.head is None:\n",
    "            self.head=data\n",
    "        else:\n",
    "            n=self.head\n",
    "            while n is not None:\n",
    "                if n.data==x:\n",
    "                    break\n",
    "                n=n.ref\n",
    "            if n is None:\n",
    "                print(\"Node is not present\")\n",
    "            else:\n",
    "                new_node.ref=n.ref\n",
    "                n.ref = new_node\n",
    "                \n",
    "                \n",
    "    def bef_insert(self,value,x):\n",
    "        if self.head.is None:\n",
    "            print(\"Linked List is empty\")\n",
    "            return\n",
    "        if self.head.data==x:\n",
    "            new_node=Node(value)\n",
    "            new_node.ref=self.head\n",
    "            self.head=new_node\n",
    "            return\n",
    "        if\n",
    "            \n",
    "            \n",
    "    def print_LL(self):\n",
    "        if self.head is None :\n",
    "            print(\"linked list empty\")\n",
    "            \n",
    "        while(self.head):# while is not None:\n",
    "            print(self.head.data, end=\"-> \")\n",
    "            self.head=self.head.ref\n",
    "\n",
    "            \n",
    "            \n",
    "node=Node('data')\n",
    "sll=Slinkedlist()"
   ]
  },
  {
   "cell_type": "code",
   "execution_count": 2,
   "id": "85dfbaf2",
   "metadata": {},
   "outputs": [
    {
     "name": "stdout",
     "output_type": "stream",
     "text": [
      "inter a number:3456\n",
      "[2, 3, 4, 6, 8, 9, 12, 16, 18, 24, 27, 32, 36, 48, 54, 64, 72, 96, 108, 128, 144, 192, 216, 288, 384, 432, 576, 864, 1152, 1728]\n"
     ]
    }
   ],
   "source": [
    "def primefactor(n):\n",
    "    l=[]\n",
    "    for i in range(2,n):\n",
    "        if n%i==0:\n",
    "\n",
    "            l.append(i)\n",
    "    return l\n",
    "x=int(input(\"inter a number:\"))\n",
    "print(primefactor(x))"
   ]
  },
  {
   "cell_type": "code",
   "execution_count": 5,
   "id": "e139cf87",
   "metadata": {},
   "outputs": [
    {
     "name": "stdout",
     "output_type": "stream",
     "text": [
      "enter a number: 6\n"
     ]
    },
    {
     "data": {
      "text/plain": [
       "False"
      ]
     },
     "execution_count": 5,
     "metadata": {},
     "output_type": "execute_result"
    }
   ],
   "source": [
    "def isprime(n):\n",
    "    if n==1:\n",
    "        return False\n",
    "    \n",
    "    if n == 2 or n == 3 :\n",
    "        return True\n",
    "    if n%2==0 or n%3==0:\n",
    "        return False\n",
    "    \n",
    "    i=5\n",
    "    while(i*i<n):\n",
    "        if n%i==0 or n%(i+2)==0:\n",
    "            return False\n",
    "        \n",
    "        i+=6\n",
    "        \n",
    "    return True\n",
    "m=int(input(\"enter a number: \"))\n",
    "isprime(m)\n",
    "    "
   ]
  },
  {
   "cell_type": "code",
   "execution_count": 3,
   "id": "e6747f07",
   "metadata": {},
   "outputs": [
    {
     "ename": "IndentationError",
     "evalue": "expected an indented block after function definition on line 1 (Temp/ipykernel_17632/684107315.py, line 1)",
     "output_type": "error",
     "traceback": [
      "\u001b[1;36m  File \u001b[1;32m\"C:\\Users\\Ankul\\AppData\\Local\\Temp/ipykernel_17632/684107315.py\"\u001b[1;36m, line \u001b[1;32m1\u001b[0m\n\u001b[1;33m    def prime_fact(n):\u001b[0m\n\u001b[1;37m                      ^\u001b[0m\n\u001b[1;31mIndentationError\u001b[0m\u001b[1;31m:\u001b[0m expected an indented block after function definition on line 1\n"
     ]
    }
   ],
   "source": [
    "def prime_fact(n):\n",
    "    i=2\n",
    "    x=i\n",
    "    while(i<n):\n",
    "        if n%i==0:\n",
    "            isprime(i)\n",
    "            x=x*x\n",
    "        i+=1\n",
    "        "
   ]
  },
  {
   "cell_type": "code",
   "execution_count": null,
   "id": "fef07841",
   "metadata": {},
   "outputs": [],
   "source": [
    "'''Given a singly linked list and an integer x.Delete xth node from the singly linked list.\n",
    "\n",
    "Example 1:\n",
    "\n",
    "Input: 1 -> 3 -> 4 \n",
    "       x = 3\n",
    "Output: 1 -> 3\n",
    "Explanation:\n",
    "After deleting the node at 3rd\n",
    "position (1-base indexing), the\n",
    "linked list is as 1 -> 3. '''\n",
    "\n",
    "class node:\n",
    "    def __init__(self):\n",
    "        self.data = None\n",
    "        self.next = None\n",
    "'''\n",
    "\n",
    "def delNode(head, k):\n",
    "    n=head\n",
    "    while count:\n",
    "        i=0\n",
    "        if i==K:\n",
    "            n=\n",
    "        i+=1\n",
    "        count-=1\n",
    "        n=n.ref\n",
    "\n",
    "    \n",
    "\n",
    "\n",
    "#{ \n",
    " # Driver Code Starts\n",
    "# Node Class    \n",
    "class node:\n",
    "    def __init__(self):\n",
    "        self.data = None\n",
    "        self.next = None\n",
    "# Linked List Class\n",
    "class Linked_List:\n",
    "    def __init__(self):\n",
    "        self.head = None\n",
    "        self.last = None\n",
    "\n",
    "    def insert(self, data):\n",
    "        if self.head == None:\n",
    "            self.head = node()\n",
    "            self.head.data = data\n",
    "            self.last = self.head\n",
    "        else:\n",
    "            new_node = node()\n",
    "            new_node.data = data\n",
    "            new_node.next = None\n",
    "            self.last.next = new_node\n",
    "            self.last = new_node\n",
    "            # self.\n",
    "            # temp = self.head\n",
    "            # while(temp.next):\n",
    "            #     temp=temp.next\n",
    "            # temp.next = new_node\n",
    "            \n",
    "def countnode(head):\n",
    "    temp=head\n",
    "    count=0\n",
    "    while(temp):\n",
    "    count+=1\n",
    "    return count\n",
    "\n",
    "def printlist(head):\n",
    "    temp = head\n",
    "    count=0\n",
    "    while(temp):\n",
    "        print(temp.data, end=\" \")\n",
    "        count+=1\n",
    "        temp = temp.next\n",
    "    print('')\n",
    "\n",
    "# Driver Program\n",
    "if __name__ == '__main__':\n",
    "    t = int(input())\n",
    "    for i in range(t):\n",
    "        list1 = Linked_List()\n",
    "        n = int(input())\n",
    "        values = list(map(int, input().strip().split()))\n",
    "        for i in values:\n",
    "            list1.insert(i)\n",
    "        k = int(input())\n",
    "        newhead = delNode(list1.head, k)\n",
    "        printlist(newhead)"
   ]
  },
  {
   "cell_type": "code",
   "execution_count": 53,
   "id": "fc24e918",
   "metadata": {},
   "outputs": [
    {
     "data": {
      "text/plain": [
       "7"
      ]
     },
     "execution_count": 53,
     "metadata": {},
     "output_type": "execute_result"
    }
   ],
   "source": [
    "arr=[9,18,90,98,99,100,103,1083]\n",
    "x=1083\n",
    "# using binary search\n",
    "\n",
    "def binary_search(arr,x):\n",
    "    size=len(arr)\n",
    "    start=0\n",
    "    end=size\n",
    "    \n",
    "    while end>=start:\n",
    "        mid=(end-start)//2+start\n",
    "             \n",
    "        if arr[mid]==x:\n",
    "             return mid\n",
    "             \n",
    "        elif (arr[mid]>x):\n",
    "             end=mid-1\n",
    "                \n",
    "        else:\n",
    "             start=mid+1\n",
    "        \n",
    "    return -1\n",
    "            \n",
    "binary_search(arr,x)"
   ]
  },
  {
   "cell_type": "code",
   "execution_count": 56,
   "id": "1a315435",
   "metadata": {},
   "outputs": [
    {
     "data": {
      "text/plain": [
       "-1"
      ]
     },
     "execution_count": 56,
     "metadata": {},
     "output_type": "execute_result"
    }
   ],
   "source": [
    "arr=[9,18,90,98,99,100,103,1083]\n",
    "x=1\n",
    "\n",
    "# In this sell I am discuss about binary search using recusion \n",
    "\n",
    "def binary_rec(arr,x,low,high):\n",
    "    if high>= low:\n",
    "        mid=(low-high)//2+high\n",
    "        if arr[mid]==x:\n",
    "            return mid\n",
    "        elif(arr[mid]>x):\n",
    "            return binary_rec(arr,x,low,mid-1)\n",
    "        else:\n",
    "            return binary_rec(arr,x,mid+1,high)\n",
    "    else:\n",
    "        return -1\n",
    "low=0\n",
    "high=len(arr)\n",
    "\n",
    "binary_rec(arr,x,low,high)\n",
    "    "
   ]
  },
  {
   "cell_type": "code",
   "execution_count": 46,
   "id": "fc34e697",
   "metadata": {},
   "outputs": [
    {
     "name": "stdout",
     "output_type": "stream",
     "text": [
      "Element is present at index 3\n"
     ]
    }
   ],
   "source": [
    "# Python3 Program for recursive binary search.\n",
    "\n",
    "\n",
    "# Returns index of x in arr if present, else -1\n",
    "def binarySearch(arr, low, high, x):\n",
    "\n",
    "    # Check base case\n",
    "    if high >= low:\n",
    "\n",
    "        mid = low + (high - low) // 2\n",
    "\n",
    "        # If element is present at the middle itself\n",
    "        if arr[mid] == x:\n",
    "            return mid\n",
    "\n",
    "        # If element is smaller than mid, then it\n",
    "        # can only be present in left subarray\n",
    "        elif arr[mid] > x:\n",
    "            return binarySearch(arr, low, mid-1, x)\n",
    "\n",
    "        # Else the element can only be present\n",
    "        # in right subarray\n",
    "        else:\n",
    "            return binarySearch(arr, mid + 1, high, x)\n",
    "\n",
    "    # Element is not present in the array\n",
    "    else:\n",
    "        return -1\n",
    "\n",
    "\n",
    "# Driver Code\n",
    "if __name__ == '__main__':\n",
    "    arr = [2, 3, 4, 10, 40]\n",
    "    x = 10\n",
    "    \n",
    "    # Function call\n",
    "    result = binarySearch(arr, 0, len(arr)-1, x)\n",
    "    \n",
    "    if result != -1:\n",
    "        print(\"Element is present at index\", result)\n",
    "    else:\n",
    "        print(\"Element is not present in array\")\n"
   ]
  },
  {
   "cell_type": "code",
   "execution_count": 8,
   "id": "61895595",
   "metadata": {},
   "outputs": [
    {
     "name": "stdout",
     "output_type": "stream",
     "text": [
      "[2, 3, 4, 8]\n",
      "3\n",
      "3\n"
     ]
    }
   ],
   "source": [
    "N=4\n",
    "A=[2, 8, 3, 4]\n",
    "import math\n",
    "\n",
    "def median(A,N):\n",
    "\n",
    "    A.sort()\n",
    "    print(A)\n",
    "    if N%2==0:\n",
    "#         sum=A[(N//2)-1]+A[(N//2)+1]\n",
    "#         print(sum)\n",
    "        mid=(A[(N//2)-1]+A[(N//2)+1-1])//2\n",
    "        print(mid)\n",
    "        return int(mid)\n",
    "    else:\n",
    "        mid=A[N//2]\n",
    "        return int(mid)\n",
    "    \n",
    "print(median(A,N))"
   ]
  },
  {
   "cell_type": "code",
   "execution_count": 15,
   "id": "39220e57",
   "metadata": {},
   "outputs": [
    {
     "name": "stdout",
     "output_type": "stream",
     "text": [
      "70\n"
     ]
    }
   ],
   "source": [
    "arr=[4,67,13,12,15,37,17,70]\n",
    "n=arr[0]\n",
    "x=16\n",
    "for i in range(len(arr)):\n",
    "    if(x<arr[i]):\n",
    "        n=arr[i]\n",
    "        if n<arr[i]:\n",
    "#             arr[i]==arr[i]\n",
    "            pass\n",
    "        else:\n",
    "            n=arr[i]\n",
    "print(n)"
   ]
  },
  {
   "cell_type": "code",
   "execution_count": 25,
   "id": "1064d55c",
   "metadata": {},
   "outputs": [
    {
     "name": "stdout",
     "output_type": "stream",
     "text": [
      "67\n"
     ]
    }
   ],
   "source": [
    "arr=[4,67,13,12,15,37,17,70,90]\n",
    "# find the seconde highest number:\n",
    "second=arr[0]\n",
    "frist=arr[0]\n",
    "for i in range(len(arr)):\n",
    "    if arr[i]>frist:\n",
    "        frist=arr[i]\n",
    "    else:\n",
    "        if second< arr[i]:\n",
    "            second=arr[i]\n",
    "        else:\n",
    "            second=frist\n",
    "print(second)        \n",
    "       \n",
    "       \n",
    "           "
   ]
  },
  {
   "cell_type": "code",
   "execution_count": 26,
   "id": "c43400db",
   "metadata": {},
   "outputs": [
    {
     "name": "stdout",
     "output_type": "stream",
     "text": [
      "[0, 0, 0, 0, 0, 0, 0, 0, 0]\n"
     ]
    }
   ],
   "source": [
    "arr=[4,67,13,12,15,37,17,70,90] \n",
    "N=9\n",
    "temp=[0]*N\n",
    "print(temp)"
   ]
  },
  {
   "cell_type": "code",
   "execution_count": 31,
   "id": "8eb50a79",
   "metadata": {},
   "outputs": [
    {
     "name": "stdout",
     "output_type": "stream",
     "text": [
      "0 2 \n",
      "1 3 \n",
      "2 4 \n",
      "3 0 \n",
      "4 1 \n",
      "5 2 \n"
     ]
    }
   ],
   "source": [
    "k=2\n",
    "for i in range(6):\n",
    "    print(i, (i+k)%5,end=\" \")\n",
    "    print()"
   ]
  },
  {
   "cell_type": "code",
   "execution_count": 41,
   "id": "a663c3fe",
   "metadata": {},
   "outputs": [
    {
     "data": {
      "text/plain": [
       "[4, 5, 1, 2, 3]"
      ]
     },
     "execution_count": 41,
     "metadata": {},
     "output_type": "execute_result"
    }
   ],
   "source": [
    "\n",
    "# Input: n = 5, d = 2 arr[] = {1,2,3,4,5}\n",
    "# Output: 3 4 5 1 2\n",
    "A= [1,2,3,4,5]\n",
    "N=5\n",
    "D=2\n",
    "def rotateArr(A,D,N):\n",
    "    #Your code here\n",
    "#     print(N)\n",
    "    temp=[0]*N\n",
    "#     print(temp)\n",
    "    for i in range(N):\n",
    "        temp[(i+D)%N]=A[i]\n",
    "    return temp\n",
    "\n",
    "rotateArr(A,D,N)"
   ]
  },
  {
   "cell_type": "code",
   "execution_count": 42,
   "id": "de4182b6",
   "metadata": {},
   "outputs": [
    {
     "data": {
      "text/plain": [
       "[4, 5, 1, 2, 3]"
      ]
     },
     "execution_count": 42,
     "metadata": {},
     "output_type": "execute_result"
    }
   ],
   "source": [
    "def rotateArr(A,D,N):\n",
    "        #Your code here\n",
    "        temp=[0]*N\n",
    "        for i in range(N):\n",
    "            temp[(i+D)%N]=A[i]\n",
    "        \n",
    "        return temp\n",
    "    \n",
    "rotateArr(A,D,N)"
   ]
  },
  {
   "cell_type": "code",
   "execution_count": 55,
   "id": "116e4007",
   "metadata": {},
   "outputs": [
    {
     "data": {
      "text/plain": [
       "False"
      ]
     },
     "execution_count": 55,
     "metadata": {},
     "output_type": "execute_result"
    }
   ],
   "source": [
    "# find out cicly totated\n",
    "a=[4, 5, 1, 2, 3]\n",
    "a=[1,1,1,1,1]\n",
    "a=[1,2,3,4,5]\n",
    "a=[1,3,4,5,2]\n",
    "def cya(a):\n",
    "    count=0\n",
    "    for i in range (1,len(a)):\n",
    "        if a[i-1]>a[i]:\n",
    "            count+=1\n",
    "    n=len(a)\n",
    "    if (a[n-1]>a[0]):\n",
    "        count+=1\n",
    "    if count ==1 or count ==0:\n",
    "        return True\n",
    "    else:\n",
    "        return False\n",
    "cya(a)\n",
    "    \n"
   ]
  },
  {
   "cell_type": "code",
   "execution_count": 69,
   "id": "541753f4",
   "metadata": {},
   "outputs": [
    {
     "name": "stdout",
     "output_type": "stream",
     "text": [
      "[12, 42, 210, 1080, 3600]\n"
     ]
    }
   ],
   "source": [
    "# Input: \n",
    "nums= [10, 3, 5, 6, 2]\n",
    "# Output: [180, 600, 360, 300, 900]\n",
    "\n",
    "a1=[]\n",
    "\n",
    "num=1\n",
    "p=1\n",
    "for i in range(len(nums)):\n",
    "\n",
    "        "
   ]
  },
  {
   "cell_type": "code",
   "execution_count": 7,
   "id": "ca3955ba",
   "metadata": {},
   "outputs": [
    {
     "name": "stdout",
     "output_type": "stream",
     "text": [
      "g\n",
      "go\n",
      "got\n",
      "\n",
      "oto\n",
      "tot\n",
      "otx\n",
      "txx\n",
      "xxo\n",
      "xot\n",
      "otg\n",
      "tgx\n",
      "gxd\n",
      "xdo\n",
      "dog\n",
      "ogt\n"
     ]
    }
   ],
   "source": [
    "# Input:\n",
    "text = 'gotxxotgxdogt'\n",
    "word = 'got'\n",
    "\n",
    "w = len(word) \n",
    "count = 0\n",
    "ana = ''\n",
    "\n",
    "\n",
    "for i in range(w):\n",
    "        ana += text[i]\n",
    "        print(ana)\n",
    "print()      \n",
    "for i in range(1, len(text)):\n",
    "    ana = ana[1:] + text[i]\n",
    "    print(ana)"
   ]
  },
  {
   "cell_type": "code",
   "execution_count": 12,
   "id": "8f88e4f8",
   "metadata": {},
   "outputs": [
    {
     "name": "stdout",
     "output_type": "stream",
     "text": [
      "\n",
      "3 \n",
      "3 4 \n",
      "3 4 5 \n",
      "3 4 5 6 \n",
      "3 4 5 6 1 \n",
      "3 4 5 6 1 2 \n",
      "3 4 5 6 1 2 10 \n",
      "\n",
      "4 \n",
      "4 5 \n",
      "4 5 6 \n",
      "4 5 6 1 \n",
      "4 5 6 1 2 \n",
      "4 5 6 1 2 10 \n",
      "\n",
      "5 \n",
      "5 6 \n",
      "5 6 1 \n",
      "5 6 1 2 \n",
      "5 6 1 2 10 \n",
      "\n",
      "6 \n",
      "6 1 \n",
      "6 1 2 \n",
      "6 1 2 10 \n",
      "\n",
      "1 \n",
      "1 2 \n",
      "1 2 10 \n",
      "\n",
      "2 \n",
      "2 10 \n",
      "\n",
      "10 \n"
     ]
    }
   ],
   "source": [
    "# Write a program which is find the subarray;\n",
    "a=[3,4,5,6,1,2,10]\n",
    "n=len(a)\n",
    "for i in range(n):\n",
    "    strat=i\n",
    "    for j in range(i,n+1):\n",
    "        end=j\n",
    "        for k in range(strat,end):\n",
    "            print(a[k],end=\" \")\n",
    "        print()\n",
    "\n",
    "            "
   ]
  },
  {
   "cell_type": "code",
   "execution_count": 10,
   "id": "02301ca7",
   "metadata": {},
   "outputs": [],
   "source": [
    "strat=0\n",
    "end=0\n",
    "for i in range(strat,end):\n",
    "    print(i)"
   ]
  },
  {
   "cell_type": "code",
   "execution_count": 2,
   "id": "7131ea31",
   "metadata": {},
   "outputs": [
    {
     "name": "stdout",
     "output_type": "stream",
     "text": [
      "[[], [], [], [], [], []]\n"
     ]
    }
   ],
   "source": [
    " \n",
    "vertices=6\n",
    "adj = [[] for i in range(vertices) ] \n",
    "print(adj)"
   ]
  },
  {
   "cell_type": "code",
   "execution_count": null,
   "id": "2c8f9836",
   "metadata": {},
   "outputs": [],
   "source": []
  }
 ],
 "metadata": {
  "kernelspec": {
   "display_name": "Python 3 (ipykernel)",
   "language": "python",
   "name": "python3"
  },
  "language_info": {
   "codemirror_mode": {
    "name": "ipython",
    "version": 3
   },
   "file_extension": ".py",
   "mimetype": "text/x-python",
   "name": "python",
   "nbconvert_exporter": "python",
   "pygments_lexer": "ipython3",
   "version": "3.10.0"
  }
 },
 "nbformat": 4,
 "nbformat_minor": 5
}
