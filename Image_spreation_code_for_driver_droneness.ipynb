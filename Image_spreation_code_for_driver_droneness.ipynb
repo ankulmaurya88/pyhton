{
 "cells": [
  {
   "cell_type": "code",
   "execution_count": 1,
   "id": "7fa5de4d",
   "metadata": {},
   "outputs": [],
   "source": [
    "import os\n",
    "import shutil\n",
    "import glob\n",
    "from tqdm import tqdm\n",
    "\n",
    "\n",
    "\n"
   ]
  },
  {
   "cell_type": "markdown",
   "id": "1688e6cd",
   "metadata": {},
   "source": [
    "#  subject ID:\n",
    "xxx\n",
    "\n",
    " image number:\n",
    " xxx\n",
    " gender:\n",
    " 0 - male\n",
    " 1 - famale \n",
    " glasses:\n",
    " 0 - no\n",
    " 1 - yes\n",
    "\n",
    " eye state:\n",
    " 0 - close\n",
    " 1 - open\n",
    "\n",
    " reflections:\n",
    "0 - none\n",
    "1 - low\n",
    "2 - high\n",
    " \n",
    "lighting conditions/image quality:\n",
    "0 - bad\n",
    "1 - good\n",
    " \n",
    "sensor type:\n",
    "01 - RealSense SR300 640x480\n",
    "02 - IDS Imaging, 1280x1024\n",
    "03 - Aptina Imagin 752x480\n",
    "\n",
    "example:\n",
    " s001_00123_0_0_0_0_0_01.png\n",
    "\n"
   ]
  },
  {
   "cell_type": "markdown",
   "id": "0c2a46dd",
   "metadata": {},
   "source": []
  },
  {
   "cell_type": "code",
   "execution_count": null,
   "id": "cebd9ae5",
   "metadata": {},
   "outputs": [
    {
     "name": "stdout",
     "output_type": "stream",
     "text": [
      "Directory 'MRL Eye Data\\Prepared_Data\\Close Eyes' created successfully\n",
      "Directory 'MRL Eye Data\\Prepared_Data\\Open Eyes' created successfully\n"
     ]
    },
    {
     "name": "stderr",
     "output_type": "stream",
     "text": [
      "0it [00:00, ?it/s]\n",
      "100%|██████████████████████████████████████████████████████████████████████████████| 3242/3242 [00:59<00:00, 54.89it/s]\n",
      "100%|██████████████████████| 1114/1114 [00:18<00:00, 59.72it/s]\n",
      "100%|████████████████████████| 679/679 [00:14<00:00, 47.01it/s]\n",
      "100%|██████████████████████| 1069/1069 [00:22<00:00, 47.40it/s]\n",
      "100%|████████████████████████| 736/736 [00:12<00:00, 61.12it/s]\n",
      "100%|██████████████████████| 1012/1012 [00:15<00:00, 65.30it/s]\n",
      "100%|████████████████████████| 624/624 [00:10<00:00, 58.68it/s]\n",
      "100%|████████████████████████| 832/832 [00:14<00:00, 56.42it/s]\n",
      "100%|████████████████████████| 387/387 [00:07<00:00, 50.44it/s]\n",
      "100%|████████████████████████| 399/399 [00:07<00:00, 52.55it/s]\n",
      "100%|██████████████████████| 1648/1648 [00:26<00:00, 61.59it/s]\n",
      "100%|██████████████████████| 8728/8728 [02:20<00:00, 61.96it/s]\n",
      "100%|██████████████████████| 3605/3605 [00:55<00:00, 64.79it/s]\n",
      "100%|██████████████████████| 8884/8884 [02:15<00:00, 65.80it/s]\n",
      "100%|██████████████████████| 1132/1132 [00:19<00:00, 58.63it/s]\n",
      "100%|██████████████████████| 1889/1889 [00:43<00:00, 43.57it/s]\n",
      "100%|██████████████████████| 1648/1648 [00:24<00:00, 66.91it/s]\n",
      "100%|██████████████████████| 4410/4410 [01:06<00:00, 66.09it/s]\n",
      "100%|██████████████████████| 6175/6175 [01:37<00:00, 63.26it/s]\n",
      "100%|████████████████████████| 704/704 [00:10<00:00, 67.06it/s]\n",
      "100%|████████████████████████| 987/987 [00:14<00:00, 68.10it/s]\n",
      "100%|████████████████████████| 382/382 [00:05<00:00, 63.80it/s]\n",
      "100%|████████████████████████| 522/522 [00:08<00:00, 62.41it/s]\n",
      "100%|████████████████████████| 752/752 [00:11<00:00, 65.62it/s]\n",
      "100%|██████████████████████| 1502/1502 [00:25<00:00, 59.27it/s]\n",
      "100%|██████████████████████| 1246/1246 [00:20<00:00, 59.42it/s]\n",
      "100%|████████████████████████| 665/665 [00:09<00:00, 67.28it/s]\n",
      "100%|████████████████████████| 736/736 [00:10<00:00, 67.55it/s]\n",
      "100%|██████████████████████| 1393/1393 [00:18<00:00, 74.68it/s]\n",
      "100%|██████████████████████| 1384/1384 [00:20<00:00, 66.72it/s]\n",
      "100%|██████████████████████| 1738/1738 [00:27<00:00, 63.59it/s]\n",
      "100%|██████████████████████| 6162/6162 [01:40<00:00, 61.34it/s]\n",
      "100%|████████████████████████| 681/681 [00:10<00:00, 64.58it/s]\n",
      "100%|████████████████████████| 739/739 [00:11<00:00, 64.63it/s]\n",
      "100%|████████████████████████| 642/642 [00:11<00:00, 58.15it/s]\n",
      " 81%|█████████████████▊    | 5017/6193 [01:16<00:15, 75.29it/s]"
     ]
    }
   ],
   "source": [
    "CLOSE_EYE_DIR = os.path.join(\"MRL Eye Data\", \"Prepared_Data\", \"Close Eyes\")\n",
    "OPEN_EYE_DIR = os.path.join(\"MRL Eye Data\", \"Prepared_Data\", \"Open Eyes\")\n",
    "\n",
    "os.makedirs(CLOSE_EYE_DIR, exist_ok = True)\n",
    "print(\"Directory '%s' created successfully\" %CLOSE_EYE_DIR)\n",
    "\n",
    "os.makedirs(OPEN_EYE_DIR, exist_ok = True)\n",
    "print(\"Directory '%s' created successfully\" %OPEN_EYE_DIR)\n",
    "\n",
    "                \n",
    "Raw_DIR = os.path.join(r'D:\\Desktop\\New folder\\Driver-Drowsiness-Detection-using-Deep-Learning\\Image\\mrlEyes_2018_01')\n",
    "for dirpath, dirname, filenames in os.walk(Raw_DIR):\n",
    "    for i in tqdm([f for f in filenames if f.endswith('.png')]):\n",
    "        if i.split('_')[4] == '0':\n",
    "            shutil.copy(src = dirpath + '/' + i, dst =r'D:\\Desktop\\New folder\\Driver-Drowsiness-Detection-using-Deep-Learning\\Image\\prepare_data\\CLOSE_EYE')\n",
    "        elif i.split('_')[4] == '1':\n",
    "            shutil.copy(src=dirpath + '/' + i, dst = r'D:\\Desktop\\New folder\\Driver-Drowsiness-Detection-using-Deep-Learning\\Image\\prepare_data\\OPEN_EYE')"
   ]
  },
  {
   "cell_type": "code",
   "execution_count": null,
   "id": "b2b6be70",
   "metadata": {},
   "outputs": [],
   "source": []
  },
  {
   "cell_type": "code",
   "execution_count": null,
   "id": "be1b06e0",
   "metadata": {},
   "outputs": [],
   "source": []
  },
  {
   "cell_type": "code",
   "execution_count": null,
   "id": "a7a18169",
   "metadata": {},
   "outputs": [],
   "source": []
  }
 ],
 "metadata": {
  "kernelspec": {
   "display_name": "Python 3 (ipykernel)",
   "language": "python",
   "name": "python3"
  },
  "language_info": {
   "codemirror_mode": {
    "name": "ipython",
    "version": 3
   },
   "file_extension": ".py",
   "mimetype": "text/x-python",
   "name": "python",
   "nbconvert_exporter": "python",
   "pygments_lexer": "ipython3",
   "version": "3.10.0"
  }
 },
 "nbformat": 4,
 "nbformat_minor": 5
}
