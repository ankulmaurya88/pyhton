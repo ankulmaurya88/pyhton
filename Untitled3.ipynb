{
 "cells": [
  {
   "cell_type": "code",
   "execution_count": 22,
   "id": "7ec38a9d",
   "metadata": {},
   "outputs": [
    {
     "name": "stdout",
     "output_type": "stream",
     "text": [
      "1\n",
      "2\n",
      "3\n",
      "4\n",
      "5\n",
      "6\n",
      "7\n",
      "['2', '2', '4', '3', '6', '6', '0']\n"
     ]
    }
   ],
   "source": [
    "s=\"12243660\"\n",
    "l=[]\n",
    "for i in range (1,len(s)):\n",
    "    print(i)\n",
    "    #if (i%2==0):\n",
    "    l.append(s[i])\n",
    "    \n",
    "print(l)"
   ]
  },
  {
   "cell_type": "code",
   "execution_count": 30,
   "id": "eab5557e",
   "metadata": {},
   "outputs": [
    {
     "name": "stdout",
     "output_type": "stream",
     "text": [
      "0\n",
      "1\n",
      "2\n",
      "3\n",
      "4\n",
      "5\n"
     ]
    }
   ],
   "source": [
    "for i in range (5):\n",
    "    print(i)"
   ]
  },
  {
   "cell_type": "code",
   "execution_count": 6,
   "id": "709ff3b7",
   "metadata": {},
   "outputs": [
    {
     "name": "stdout",
     "output_type": "stream",
     "text": [
      "[1, 3, 2]\n",
      "Ankul\n",
      "3\n"
     ]
    }
   ],
   "source": [
    "from typing import List\n",
    "def findMedianSortedArrays(nums1: List[int], nums2: List[int]) -> float:\n",
    "        newl=[]\n",
    "        newl=nums1+nums2\n",
    "        print(newl)\n",
    "        median=1\n",
    "        length=len(newl)\n",
    "        for i in range(length):\n",
    "            if length%2==0:\n",
    "                median=(newl[length//2]+newl[(length//2)+1])/2\n",
    "                return median\n",
    "            else:\n",
    "                print(\"Ankul\")\n",
    "                median= newl[length//2]\n",
    "                return median\n",
    "            \n",
    "            \n",
    "nums1 =[1,3]\n",
    "nums2 =[2]\n",
    "\n",
    "print(findMedianSortedArrays(nums1,nums2))"
   ]
  },
  {
   "cell_type": "code",
   "execution_count": 11,
   "id": "06c119a6",
   "metadata": {},
   "outputs": [
    {
     "data": {
      "text/plain": [
       "2"
      ]
     },
     "execution_count": 11,
     "metadata": {},
     "output_type": "execute_result"
    }
   ],
   "source": [
    "def removeDuplicates(nums: List[int]) -> int:\n",
    "        newl=[]\n",
    "        for i in range(1,len(nums)):\n",
    "            if nums[i-1]!=nums[i]:\n",
    "                newl.append(nums[i-1])\n",
    "                newl.append(nums[i])\n",
    "        p=len(newl)\n",
    "        return p \n",
    "    \n",
    "nums = [1,1,2]\n",
    "\n",
    "removeDuplicates(nums)"
   ]
  },
  {
   "cell_type": "code",
   "execution_count": null,
   "id": "94e32272",
   "metadata": {},
   "outputs": [],
   "source": []
  },
  {
   "cell_type": "code",
   "execution_count": null,
   "id": "24686732",
   "metadata": {},
   "outputs": [],
   "source": []
  }
 ],
 "metadata": {
  "kernelspec": {
   "display_name": "Python 3 (ipykernel)",
   "language": "python",
   "name": "python3"
  },
  "language_info": {
   "codemirror_mode": {
    "name": "ipython",
    "version": 3
   },
   "file_extension": ".py",
   "mimetype": "text/x-python",
   "name": "python",
   "nbconvert_exporter": "python",
   "pygments_lexer": "ipython3",
   "version": "3.10.0"
  }
 },
 "nbformat": 4,
 "nbformat_minor": 5
}
