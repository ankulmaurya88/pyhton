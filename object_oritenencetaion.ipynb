{
 "cells": [
  {
   "cell_type": "markdown",
   "id": "00901217",
   "metadata": {},
   "source": [
    "# # obeject concepet\n"
   ]
  },
  {
   "cell_type": "code",
   "execution_count": 1,
   "id": "e29d7d15",
   "metadata": {},
   "outputs": [
    {
     "name": "stdout",
     "output_type": "stream",
     "text": [
      "mammal\n",
      "I'm a mammal\n",
      "I'm a dog\n"
     ]
    }
   ],
   "source": [
    "# Python3 program to\n",
    "# demonstrate instantiating\n",
    "# a class\n",
    "class Dog:\n",
    "\n",
    "\t# A simple class\n",
    "\t# attribute\n",
    "\tattr1 = \"mammal\"\n",
    "\tattr2 = \"dog\"\n",
    "\n",
    "\t# A sample method\n",
    "\tdef fun(self):\n",
    "\t\tprint(\"I'm a\", self.attr1)\n",
    "\t\tprint(\"I'm a\", self.attr2)\n",
    "\n",
    "\n",
    "# Driver code\n",
    "# Object instantiation\n",
    "Rodger = Dog()\n",
    "\n",
    "# Accessing class attributes\n",
    "# and method through objects\n",
    "print(Rodger.attr1)\n",
    "Rodger.fun()\n"
   ]
  },
  {
   "cell_type": "code",
   "execution_count": 2,
   "id": "72cb11d9",
   "metadata": {},
   "outputs": [
    {
     "name": "stdout",
     "output_type": "stream",
     "text": [
      "17\n"
     ]
    }
   ],
   "source": [
    "class mynumber:\n",
    "\tdef __init__(self, value):\n",
    "\t\tself.value = value\n",
    "\t\n",
    "\tdef print_value(self):\n",
    "\t\tprint(self.value)\n",
    "\n",
    "obj1 = mynumber(17)\n",
    "obj1.print_value()\n"
   ]
  },
  {
   "cell_type": "code",
   "execution_count": 3,
   "id": "9f094b69",
   "metadata": {},
   "outputs": [
    {
     "name": "stdout",
     "output_type": "stream",
     "text": [
      "Maths\n",
      "Science\n"
     ]
    }
   ],
   "source": [
    "class Subject:\n",
    "\n",
    "\tdef __init__(self, attr1, attr2):\n",
    "\t\tself.attr1 = attr1\n",
    "\t\tself.attr2 = attr2\n",
    "\n",
    "\n",
    "obj = Subject('Maths', 'Science')\n",
    "print(obj.attr1) \n",
    "print(obj.attr2)\n"
   ]
  },
  {
   "cell_type": "code",
   "execution_count": 4,
   "id": "f1aa46dc",
   "metadata": {},
   "outputs": [
    {
     "name": "stdout",
     "output_type": "stream",
     "text": [
      "Address of self =  1972643597712\n",
      "Address of class object =  1972643597712\n"
     ]
    }
   ],
   "source": [
    "class check:\n",
    "\tdef __init__(self):\n",
    "\t\tprint(\"Address of self = \",id(self))\n",
    "\n",
    "obj = check()\n",
    "print(\"Address of class object = \",id(obj))\n"
   ]
  }
 ],
 "metadata": {
  "kernelspec": {
   "display_name": "Python 3 (ipykernel)",
   "language": "python",
   "name": "python3"
  },
  "language_info": {
   "codemirror_mode": {
    "name": "ipython",
    "version": 3
   },
   "file_extension": ".py",
   "mimetype": "text/x-python",
   "name": "python",
   "nbconvert_exporter": "python",
   "pygments_lexer": "ipython3",
   "version": "3.10.0"
  }
 },
 "nbformat": 4,
 "nbformat_minor": 5
}
