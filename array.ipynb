{
 "cells": [
  {
   "cell_type": "code",
   "execution_count": null,
   "metadata": {},
   "outputs": [],
   "source": []
  },
  {
   "cell_type": "markdown",
   "metadata": {},
   "source": [
    "Sorting"
   ]
  },
  {
   "cell_type": "markdown",
   "metadata": {},
   "source": [
    "Comparison Based : Selection Sort, Bubble Sort, \n",
    "                    Insertion Sort, Merge Sort,\n",
    "                    Quick Sort, Heap Sort, Cycle Sort,\n",
    "                     3-way Merge Sort\n",
    "\n",
    "\n",
    "\n",
    "Non Comparison Based : Counting Sort, Radix Sort, \n",
    "                        Bucket Sort, TimSort, Comb Sort, Pigeonhole Sort\n",
    "                        \n",
    "Hybrid Sorting Algorithms : IntroSort, Tim Sort"
   ]
  },
  {
   "cell_type": "code",
   "execution_count": null,
   "metadata": {},
   "outputs": [],
   "source": [
    "# bubble Sort\n",
    "# Insertion sort\n",
    "# selection sort\n",
    "# Merge sort\n",
    "# Quick Sort\n",
    "\n",
    "\n",
    "# Comparison Based : Selection Sort, Bubble Sort, Insertion Sort, \n",
    "                    # Merge Sort, Quick Sort, Heap Sort, \n",
    "                    # Cycle Sort, 3-way Merge Sort\n",
    "\n",
    "\n",
    "# Non Comparison Based : Counting Sort, Radix Sort, Bucket Sort,   \n",
    "                        # TimSort, Comb Sort, Pigeonhole Sort\n",
    "\n",
    "\n",
    "\n",
    "# Hybrid Sorting Algorithms : IntroSort, Tim Sort"
   ]
  },
  {
   "cell_type": "code",
   "execution_count": null,
   "metadata": {},
   "outputs": [],
   "source": [
    "# Hashing "
   ]
  },
  {
   "cell_type": "code",
   "execution_count": null,
   "metadata": {},
   "outputs": [],
   "source": [
    "# Recusion"
   ]
  },
  {
   "cell_type": "code",
   "execution_count": null,
   "metadata": {},
   "outputs": [],
   "source": [
    "# Searrching "
   ]
  },
  {
   "cell_type": "code",
   "execution_count": null,
   "metadata": {},
   "outputs": [],
   "source": [
    "# Matrix"
   ]
  },
  {
   "cell_type": "code",
   "execution_count": 2,
   "metadata": {},
   "outputs": [
    {
     "name": "stdout",
     "output_type": "stream",
     "text": [
      "[-90, 0, 5, 8, 10, 13, 34, 56]\n"
     ]
    }
   ],
   "source": [
    "def selection_sort(arr):\n",
    "    n = len(arr)\n",
    "    for i in range(n - 1):\n",
    "      \n",
    "        # Assume the current position holds\n",
    "        # the minimum element\n",
    "        min_idx = i\n",
    "        \n",
    "        # Iterate through the unsorted portion\n",
    "        # to find the actual minimum\n",
    "        for j in range(i + 1, n):\n",
    "            if arr[j] < arr[min_idx]:\n",
    "              \n",
    "                # Update min_idx if a smaller element is found\n",
    "                min_idx = j\n",
    "        \n",
    "        # Move minimum element to its\n",
    "        # correct position\n",
    "        arr[i], arr[min_idx] = arr[min_idx], arr[i]\n",
    "\n",
    "    return arr\n",
    "\n",
    "\n",
    "arr=[34,5,56,8,-90,10,0,13,]\n",
    "print(selection_sort(arr))"
   ]
  },
  {
   "cell_type": "code",
   "execution_count": 5,
   "metadata": {},
   "outputs": [
    {
     "name": "stdout",
     "output_type": "stream",
     "text": [
      "[11, 12, 22, 25, 34, 64, 90]\n"
     ]
    }
   ],
   "source": [
    "# Optimized Python program for implementation of Bubble Sort\n",
    "def bubbleSort(arr):\n",
    "    n = len(arr)\n",
    "    \n",
    "    # Traverse through all array elements\n",
    "    for i in range(n):\n",
    "        swapped = False\n",
    "\n",
    "        # Last i elements are already in place\n",
    "        for j in range(0, n-i-1):\n",
    "\n",
    "            # Traverse the array from 0 to n-i-1\n",
    "            # Swap if the element found is greater\n",
    "            # than the next element\n",
    "            if arr[j] > arr[j+1]:\n",
    "                arr[j], arr[j+1] = arr[j+1], arr[j]\n",
    "                swapped = True\n",
    "        if (swapped == False):\n",
    "            break\n",
    "    return arr\n",
    "\n",
    "arr = [64, 34, 25, 12, 22, 11, 90]\n",
    "arr1=[11, 12, 22, 25, 34, 64, 90]\n",
    "print(bubbleSort(arr1))"
   ]
  },
  {
   "cell_type": "code",
   "execution_count": null,
   "metadata": {},
   "outputs": [],
   "source": [
    "def insertionSort(arr):\n",
    "    for i in range(1, len(arr)):\n",
    "        key = arr[i]\n",
    "        j = i - 1\n",
    "\n",
    "        while j >= 0 and key < arr[j]:\n",
    "            arr[j + 1] = arr[j]\n",
    "            j -= 1\n",
    "        arr[j + 1] = key"
   ]
  },
  {
   "cell_type": "code",
   "execution_count": null,
   "metadata": {},
   "outputs": [],
   "source": [
    "# Partition function\n",
    "\n",
    "\n",
    "def partition(arr, low, high):\n",
    "    # Choose the pivot\n",
    "    pivot = arr[high]\n",
    "    i = low - 1\n",
    "    for j in range(low, high):\n",
    "        if arr[j] < pivot:\n",
    "            i += 1\n",
    "            swap(arr, i, j)\n",
    "    \n",
    "    swap(arr, i + 1, high)\n",
    "    return i + 1\n",
    "\n",
    "\n",
    "def swap(arr, i, j):\n",
    "    arr[i], arr[j] = arr[j], arr[i]\n",
    "\n",
    "\n",
    "def quickSort(arr, low, high):\n",
    "    if low < high:\n",
    "        \n",
    "        \n",
    "        pi = partition(arr, low, high)\n",
    "        \n",
    "        \n",
    "        quickSort(arr, low, pi - 1)\n",
    "        quickSort(arr, pi + 1, high)\n",
    "\n",
    "\n",
    "if __name__ == \"__main__\":\n",
    "    arr = [10, 7, 8, 9, 1, 5]\n",
    "    n = len(arr)\n",
    "\n",
    "    quickSort(arr, 0, n - 1)\n",
    "    \n",
    "    for val in arr:\n",
    "        print(val, end=\" \") \n",
    "\n",
    "\n"
   ]
  },
  {
   "cell_type": "code",
   "execution_count": null,
   "metadata": {},
   "outputs": [],
   "source": []
  },
  {
   "cell_type": "code",
   "execution_count": null,
   "metadata": {},
   "outputs": [],
   "source": []
  },
  {
   "cell_type": "code",
   "execution_count": null,
   "metadata": {},
   "outputs": [],
   "source": []
  },
  {
   "cell_type": "code",
   "execution_count": null,
   "metadata": {},
   "outputs": [],
   "source": []
  },
  {
   "cell_type": "code",
   "execution_count": null,
   "metadata": {},
   "outputs": [],
   "source": []
  },
  {
   "cell_type": "code",
   "execution_count": null,
   "metadata": {},
   "outputs": [],
   "source": []
  },
  {
   "cell_type": "code",
   "execution_count": 8,
   "metadata": {},
   "outputs": [
    {
     "name": "stdout",
     "output_type": "stream",
     "text": [
      "1 5 7 8 9 10 "
     ]
    }
   ],
   "source": [
    "# Partition function\n",
    "def partition(arr, low, high):\n",
    "    \n",
    "    # Choose the pivot\n",
    "    pivot = arr[high]\n",
    "    \n",
    "    i = low - 1\n",
    "    \n",
    "    for j in range(low, high):\n",
    "        if arr[j] < pivot:\n",
    "            i += 1\n",
    "            swap(arr, i, j)\n",
    "    \n",
    "\n",
    "    swap(arr, i + 1, high)\n",
    "    return i + 1\n",
    "\n",
    "\n",
    "def swap(arr, i, j):\n",
    "    arr[i], arr[j] = arr[j], arr[i]\n",
    "\n",
    "# The QuickSort function implementation\n",
    "def quickSort(arr, low, high):\n",
    "    if low < high:\n",
    "        \n",
    "        # pi is the partition return index of pivot\n",
    "        pi = partition(arr, low, high)\n",
    "        \n",
    "        # Recursion calls for smaller elements\n",
    "        # and greater or equals elements\n",
    "        quickSort(arr, low, pi - 1)\n",
    "        quickSort(arr, pi + 1, high)\n",
    "\n",
    "# Main driver code\n",
    "if __name__ == \"__main__\":\n",
    "    arr = [10, 7, 8, 9, 1, 5]\n",
    "    n = len(arr)\n",
    "\n",
    "    quickSort(arr, 0, n - 1)\n",
    "    \n",
    "    for val in arr:\n",
    "        print(val, end=\" \") \n"
   ]
  },
  {
   "cell_type": "code",
   "execution_count": null,
   "metadata": {},
   "outputs": [],
   "source": []
  }
 ],
 "metadata": {
  "kernelspec": {
   "display_name": "Python 3",
   "language": "python",
   "name": "python3"
  },
  "language_info": {
   "codemirror_mode": {
    "name": "ipython",
    "version": 3
   },
   "file_extension": ".py",
   "mimetype": "text/x-python",
   "name": "python",
   "nbconvert_exporter": "python",
   "pygments_lexer": "ipython3",
   "version": "3.9.5"
  }
 },
 "nbformat": 4,
 "nbformat_minor": 2
}
