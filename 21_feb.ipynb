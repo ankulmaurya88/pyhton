{
 "cells": [
  {
   "cell_type": "code",
   "execution_count": 18,
   "id": "1130c58c",
   "metadata": {},
   "outputs": [
    {
     "name": "stdout",
     "output_type": "stream",
     "text": [
      "4\n"
     ]
    }
   ],
   "source": [
    "l=[12,56,78,90,907]\n",
    "x=l[4]\n",
    "def binary_search(l,x):\n",
    "    first=0\n",
    "    last=len(l)\n",
    "    while first<=last:\n",
    "        mid=first+(last-first)//2\n",
    "        if l[mid]==x:\n",
    "            return mid\n",
    "        elif l[mid]>x:\n",
    "            last=mid-1\n",
    "        else:\n",
    "            first=mid+1\n",
    "    return -1\n",
    "print(binary_search(l,x))          "
   ]
  },
  {
   "cell_type": "markdown",
   "id": "33f60b51",
   "metadata": {},
   "source": [
    "## Itrative binary search"
   ]
  },
  {
   "cell_type": "markdown",
   "id": "87e53f04",
   "metadata": {},
   "source": [
    "# # Recursive Search"
   ]
  },
  {
   "cell_type": "code",
   "execution_count": 15,
   "id": "911d524d",
   "metadata": {},
   "outputs": [
    {
     "name": "stdout",
     "output_type": "stream",
     "text": [
      "4\n"
     ]
    }
   ],
   "source": [
    "def Binary_search(array,first,last,value):\n",
    "    mid=first+(last-first)//2\n",
    "    if array[mid]==value:\n",
    "        return mid\n",
    "    elif array[mid]>x:\n",
    "        return Binary_search(array,first,mid-1,value)\n",
    "    else:\n",
    "        return Binary_search(array,mid+1,last,value)\n",
    "    return -1\n",
    "array=[12,56,78,90,907]\n",
    "value=l[4]\n",
    "first=0\n",
    "last=len(array)\n",
    "print(Binary_search(array,first,last,value))"
   ]
  },
  {
   "cell_type": "markdown",
   "id": "77f68f98",
   "metadata": {},
   "source": [
    "## Merge sort\n"
   ]
  },
  {
   "cell_type": "markdown",
   "id": "a98be034",
   "metadata": {},
   "source": [
    "# merge sort basic work on the divde concuqer .This work of divde and after sort tha is called divde sort algoritham .  "
   ]
  },
  {
   "cell_type": "code",
   "execution_count": 17,
   "id": "1dbb6719",
   "metadata": {},
   "outputs": [
    {
     "name": "stdout",
     "output_type": "stream",
     "text": [
      "[45]\n",
      "[67]\n",
      "[8]\n",
      "[67, 8]\n",
      "[45, 67, 8]\n",
      "[90]\n",
      "[4]\n",
      "[90, 4]\n",
      "[23]\n",
      "[1]\n",
      "[23, 1]\n",
      "[90, 4, 23, 1]\n"
     ]
    }
   ],
   "source": [
    "array= [45,67,8,90,4,23,1,]\n",
    "def merge_sort(array):\n",
    "    size_of_array=len(array)\n",
    "    \n",
    "    if size_of_array>1:\n",
    "        mid=(size_of_array)//2\n",
    "        left_half=array[:size_of_array//2]\n",
    "        Right_half=array[size_of_array//2:]\n",
    "        \n",
    "        merge_sort(array[:size_of_array//2])\n",
    "        print(left_half)\n",
    "        \n",
    "        merge_sort(array[size_of_array//2:])\n",
    "        print(Right_half)\n",
    "merge_sort(array)  "
   ]
  },
  {
   "cell_type": "code",
   "execution_count": null,
   "id": "e13e9019",
   "metadata": {},
   "outputs": [],
   "source": [
    "array= [45,67,8,90,4,23,1,]\n",
    "def merge_sort(array):\n",
    "    size_of_array=len(array)\n",
    "    \n",
    "    if size_of_array>1:\n",
    "        left_array=merge_sort(array[:size_of_array//2])\n",
    "        left_array=array[:size_of_array//2]\n",
    "        print(left_array)\n",
    "        \n",
    "        Right_array=merge_sort(array[size_of_array//2:])\n",
    "        Right_array=array[size_of_array//2:]\n",
    "        if left_array\n",
    "        print(Right_array)\n",
    "merge_sort(array)  "
   ]
  },
  {
   "cell_type": "code",
   "execution_count": 6,
   "id": "9c2d595e",
   "metadata": {},
   "outputs": [
    {
     "name": "stdout",
     "output_type": "stream",
     "text": [
      "1 1 2 2 2 2 2 2 2 2 2 2 0 1 1 2 2 2 2 2 2 2 2 2 1 1 2 2 2 2 2 2 2 2 2 2 0 1 1 2 2 2 2 2 2 2 2 2 0 0 0 0 1 1 1 2 2 2 2 2 0 0 0 0 0 1 1 1 1 2 2 2 0 0 0 0 0 0 1 1 1 1 1 1 0 0 0 0 1 1 1 2 2 2 2 2 0 0 0 0 0 0 0 0 1 1 1 1 0 0 0 0 0 1 1 1 1 2 2 2 0 0 0 0 0 0 0 0 0 0 1 1 0 0 0 0 0 0 0 0 0 0 0 1 "
     ]
    },
    {
     "data": {
      "text/plain": [
       "[9, 0, -4, 0.9]"
      ]
     },
     "execution_count": 6,
     "metadata": {},
     "output_type": "execute_result"
    }
   ],
   "source": [
    "def non_repetring_ele(a):\n",
    "    non_repating_ele=[]\n",
    "    size=len(a)\n",
    "    \n",
    "    for i in range(size):\n",
    "        count=0\n",
    "        for j in range(size):\n",
    "            if a[i]==a[j]:\n",
    "                count+=1\n",
    "            print(count,end=\" \")\n",
    "        if count==1:\n",
    "            non_repating_ele.append(a[i])\n",
    "            \n",
    "    return non_repating_ele\n",
    "\n",
    "\n",
    "a = [4, 5, 4, 5, 7, 8, 9, 7,0,8,-4,.9]\n",
    "\n",
    "non_repetring_ele(a)"
   ]
  },
  {
   "cell_type": "code",
   "execution_count": null,
   "id": "70faa7b6",
   "metadata": {},
   "outputs": [],
   "source": []
  }
 ],
 "metadata": {
  "kernelspec": {
   "display_name": "Python 3 (ipykernel)",
   "language": "python",
   "name": "python3"
  },
  "language_info": {
   "codemirror_mode": {
    "name": "ipython",
    "version": 3
   },
   "file_extension": ".py",
   "mimetype": "text/x-python",
   "name": "python",
   "nbconvert_exporter": "python",
   "pygments_lexer": "ipython3",
   "version": "3.10.0"
  }
 },
 "nbformat": 4,
 "nbformat_minor": 5
}
