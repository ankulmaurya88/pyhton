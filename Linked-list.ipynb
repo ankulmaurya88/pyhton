{
 "cells": [
  {
   "cell_type": "markdown",
   "id": "1807978e",
   "metadata": {},
   "source": [
    "# # Array Representation of Queue"
   ]
  },
  {
   "cell_type": "code",
   "execution_count": 1,
   "id": "e8959663",
   "metadata": {},
   "outputs": [],
   "source": [
    "\n",
    "class Queue:\n",
    "    # Constructor \n",
    "    def __init__(self,cap):\n",
    "        self.cap=cap\n",
    "        self.fornt=0\n",
    "        self.size=0\n",
    "        self.rear=cap-1\n",
    "        self.arr=[0]*cap\n",
    "    def createQueue(self):\n",
    "        return Queue(self.cap)"
   ]
  },
  {
   "cell_type": "markdown",
   "id": "008276db",
   "metadata": {},
   "source": [
    "## Linked-lists Representation of Queue "
   ]
  },
  {
   "cell_type": "code",
   "execution_count": 3,
   "id": "116c6e91",
   "metadata": {},
   "outputs": [],
   "source": [
    "class QNode:\n",
    "    def __init__(self,data):\n",
    "        self.data=None\n",
    "        self.next=None\n",
    "\n",
    "        \n",
    "        \n",
    "class Queue:\n",
    "    def __init__(self):\n",
    "        self.front=None \n",
    "        self.rear=None\n",
    "        "
   ]
  },
  {
   "cell_type": "code",
   "execution_count": null,
   "id": "b67cab36",
   "metadata": {},
   "outputs": [],
   "source": []
  }
 ],
 "metadata": {
  "kernelspec": {
   "display_name": "Python 3 (ipykernel)",
   "language": "python",
   "name": "python3"
  },
  "language_info": {
   "codemirror_mode": {
    "name": "ipython",
    "version": 3
   },
   "file_extension": ".py",
   "mimetype": "text/x-python",
   "name": "python",
   "nbconvert_exporter": "python",
   "pygments_lexer": "ipython3",
   "version": "3.10.0"
  }
 },
 "nbformat": 4,
 "nbformat_minor": 5
}
